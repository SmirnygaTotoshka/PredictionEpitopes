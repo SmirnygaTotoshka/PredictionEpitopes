{
 "cells": [
  {
   "cell_type": "markdown",
   "source": [
    "# 2. Составление списка генов для извлечения полных белковых последовательностей для БД VDJdb"
   ],
   "metadata": {
    "collapsed": false,
    "pycharm": {
     "name": "#%% md\n"
    }
   }
  },
  {
   "cell_type": "markdown",
   "source": [
    "Антон Смирнов, 13.11.2022"
   ],
   "metadata": {
    "collapsed": false,
    "pycharm": {
     "name": "#%% md\n"
    }
   }
  },
  {
   "cell_type": "code",
   "execution_count": 51,
   "outputs": [],
   "source": [
    "import pandas as pd\n",
    "import json\n",
    "from datetime import datetime"
   ],
   "metadata": {
    "collapsed": false,
    "pycharm": {
     "name": "#%%\n"
    }
   }
  },
  {
   "cell_type": "code",
   "execution_count": 30,
   "outputs": [
    {
     "data": {
      "text/plain": "   complex.id Gene                  CDR3            V           J  \\\n0           1  TRA         CIVRAPGRADMRF  TRAV26-1*01   TRAJ43*01   \n1           1  TRB  CASSYLPGQGDHYSNQPQHF    TRBV13*01  TRBJ1-5*01   \n2           0  TRB   CASSFEAGQGFFSNQPQHF    TRBV13*01  TRBJ1-5*01   \n3           2  TRA        CAVPSGAGSYQLTF    TRAV20*01   TRAJ28*01   \n4           2  TRB   CASSFEPGQGFYSNQPQHF    TRBV13*01  TRBJ1-5*01   \n\n       Species     MHC A MHC B MHC class   Epitope Epitope gene  \\\n0  HomoSapiens  HLA-B*08   B2M      MHCI  FLKEKGGL          Nef   \n1  HomoSapiens  HLA-B*08   B2M      MHCI  FLKEKGGL          Nef   \n2  HomoSapiens  HLA-B*08   B2M      MHCI  FLKEKGGL          Nef   \n3  HomoSapiens  HLA-B*08   B2M      MHCI  FLKEKGGL          Nef   \n4  HomoSapiens  HLA-B*08   B2M      MHCI  FLKEKGGL          Nef   \n\n  Epitope species      Reference  \\\n0           HIV-1  PMID:15596521   \n1           HIV-1  PMID:15596521   \n2           HIV-1  PMID:15596521   \n3           HIV-1  PMID:15596521   \n4           HIV-1  PMID:15596521   \n\n                                              Method  \\\n0  {\"frequency\": \"\", \"identification\": \"tetramer-...   \n1  {\"frequency\": \"\", \"identification\": \"tetramer-...   \n2  {\"frequency\": \"\", \"identification\": \"tetramer-...   \n3  {\"frequency\": \"\", \"identification\": \"tetramer-...   \n4  {\"frequency\": \"\", \"identification\": \"tetramer-...   \n\n                                                Meta  \\\n0  {\"cell.subset\": \"CD8+\", \"clone.id\": \"\", \"donor...   \n1  {\"cell.subset\": \"CD8+\", \"clone.id\": \"\", \"donor...   \n2  {\"cell.subset\": \"CD8+\", \"clone.id\": \"\", \"donor...   \n3  {\"cell.subset\": \"CD8+\", \"clone.id\": \"\", \"donor...   \n4  {\"cell.subset\": \"CD8+\", \"clone.id\": \"\", \"donor...   \n\n                                             CDR3fix  Score  \n0  {\"cdr3\": \"CIVRAPGRADMRF\", \"cdr3_old\": \"CIVRAPG...      2  \n1  {\"cdr3\": \"CASSYLPGQGDHYSNQPQHF\", \"cdr3_old\": \"...      2  \n2  {\"cdr3\": \"CASSFEAGQGFFSNQPQHF\", \"cdr3_old\": \"C...      2  \n3  {\"cdr3\": \"CAVPSGAGSYQLTF\", \"cdr3_old\": \"CAVPSG...      2  \n4  {\"cdr3\": \"CASSFEPGQGFYSNQPQHF\", \"cdr3_old\": \"C...      2  ",
      "text/html": "<div>\n<style scoped>\n    .dataframe tbody tr th:only-of-type {\n        vertical-align: middle;\n    }\n\n    .dataframe tbody tr th {\n        vertical-align: top;\n    }\n\n    .dataframe thead th {\n        text-align: right;\n    }\n</style>\n<table border=\"1\" class=\"dataframe\">\n  <thead>\n    <tr style=\"text-align: right;\">\n      <th></th>\n      <th>complex.id</th>\n      <th>Gene</th>\n      <th>CDR3</th>\n      <th>V</th>\n      <th>J</th>\n      <th>Species</th>\n      <th>MHC A</th>\n      <th>MHC B</th>\n      <th>MHC class</th>\n      <th>Epitope</th>\n      <th>Epitope gene</th>\n      <th>Epitope species</th>\n      <th>Reference</th>\n      <th>Method</th>\n      <th>Meta</th>\n      <th>CDR3fix</th>\n      <th>Score</th>\n    </tr>\n  </thead>\n  <tbody>\n    <tr>\n      <th>0</th>\n      <td>1</td>\n      <td>TRA</td>\n      <td>CIVRAPGRADMRF</td>\n      <td>TRAV26-1*01</td>\n      <td>TRAJ43*01</td>\n      <td>HomoSapiens</td>\n      <td>HLA-B*08</td>\n      <td>B2M</td>\n      <td>MHCI</td>\n      <td>FLKEKGGL</td>\n      <td>Nef</td>\n      <td>HIV-1</td>\n      <td>PMID:15596521</td>\n      <td>{\"frequency\": \"\", \"identification\": \"tetramer-...</td>\n      <td>{\"cell.subset\": \"CD8+\", \"clone.id\": \"\", \"donor...</td>\n      <td>{\"cdr3\": \"CIVRAPGRADMRF\", \"cdr3_old\": \"CIVRAPG...</td>\n      <td>2</td>\n    </tr>\n    <tr>\n      <th>1</th>\n      <td>1</td>\n      <td>TRB</td>\n      <td>CASSYLPGQGDHYSNQPQHF</td>\n      <td>TRBV13*01</td>\n      <td>TRBJ1-5*01</td>\n      <td>HomoSapiens</td>\n      <td>HLA-B*08</td>\n      <td>B2M</td>\n      <td>MHCI</td>\n      <td>FLKEKGGL</td>\n      <td>Nef</td>\n      <td>HIV-1</td>\n      <td>PMID:15596521</td>\n      <td>{\"frequency\": \"\", \"identification\": \"tetramer-...</td>\n      <td>{\"cell.subset\": \"CD8+\", \"clone.id\": \"\", \"donor...</td>\n      <td>{\"cdr3\": \"CASSYLPGQGDHYSNQPQHF\", \"cdr3_old\": \"...</td>\n      <td>2</td>\n    </tr>\n    <tr>\n      <th>2</th>\n      <td>0</td>\n      <td>TRB</td>\n      <td>CASSFEAGQGFFSNQPQHF</td>\n      <td>TRBV13*01</td>\n      <td>TRBJ1-5*01</td>\n      <td>HomoSapiens</td>\n      <td>HLA-B*08</td>\n      <td>B2M</td>\n      <td>MHCI</td>\n      <td>FLKEKGGL</td>\n      <td>Nef</td>\n      <td>HIV-1</td>\n      <td>PMID:15596521</td>\n      <td>{\"frequency\": \"\", \"identification\": \"tetramer-...</td>\n      <td>{\"cell.subset\": \"CD8+\", \"clone.id\": \"\", \"donor...</td>\n      <td>{\"cdr3\": \"CASSFEAGQGFFSNQPQHF\", \"cdr3_old\": \"C...</td>\n      <td>2</td>\n    </tr>\n    <tr>\n      <th>3</th>\n      <td>2</td>\n      <td>TRA</td>\n      <td>CAVPSGAGSYQLTF</td>\n      <td>TRAV20*01</td>\n      <td>TRAJ28*01</td>\n      <td>HomoSapiens</td>\n      <td>HLA-B*08</td>\n      <td>B2M</td>\n      <td>MHCI</td>\n      <td>FLKEKGGL</td>\n      <td>Nef</td>\n      <td>HIV-1</td>\n      <td>PMID:15596521</td>\n      <td>{\"frequency\": \"\", \"identification\": \"tetramer-...</td>\n      <td>{\"cell.subset\": \"CD8+\", \"clone.id\": \"\", \"donor...</td>\n      <td>{\"cdr3\": \"CAVPSGAGSYQLTF\", \"cdr3_old\": \"CAVPSG...</td>\n      <td>2</td>\n    </tr>\n    <tr>\n      <th>4</th>\n      <td>2</td>\n      <td>TRB</td>\n      <td>CASSFEPGQGFYSNQPQHF</td>\n      <td>TRBV13*01</td>\n      <td>TRBJ1-5*01</td>\n      <td>HomoSapiens</td>\n      <td>HLA-B*08</td>\n      <td>B2M</td>\n      <td>MHCI</td>\n      <td>FLKEKGGL</td>\n      <td>Nef</td>\n      <td>HIV-1</td>\n      <td>PMID:15596521</td>\n      <td>{\"frequency\": \"\", \"identification\": \"tetramer-...</td>\n      <td>{\"cell.subset\": \"CD8+\", \"clone.id\": \"\", \"donor...</td>\n      <td>{\"cdr3\": \"CASSFEPGQGFYSNQPQHF\", \"cdr3_old\": \"C...</td>\n      <td>2</td>\n    </tr>\n  </tbody>\n</table>\n</div>"
     },
     "execution_count": 30,
     "metadata": {},
     "output_type": "execute_result"
    }
   ],
   "source": [
    "vdjdb = pd.read_csv(\"../data/VDJdb-2022-11-13 22_41.tsv\", sep = \"\\t\", header=0)\n",
    "vdjdb.head()"
   ],
   "metadata": {
    "collapsed": false,
    "pycharm": {
     "name": "#%%\n"
    }
   }
  },
  {
   "cell_type": "code",
   "execution_count": 31,
   "outputs": [
    {
     "data": {
      "text/plain": "Score  MHC class\n0      MHCI         75587\n1      MHCI          7337\n0      MHCII         2091\n2      MHCI          1690\n3      MHCI          1546\n1      MHCII          516\n2      MHCII          381\n3      MHCII          173\ndtype: int64"
     },
     "execution_count": 31,
     "metadata": {},
     "output_type": "execute_result"
    }
   ],
   "source": [
    "vdjdb[[\"Score\",\"MHC class\"]].value_counts()"
   ],
   "metadata": {
    "collapsed": false,
    "pycharm": {
     "name": "#%%\n"
    }
   }
  },
  {
   "cell_type": "code",
   "execution_count": 32,
   "outputs": [
    {
     "data": {
      "text/plain": "HomoSapiens      81879\nMusMusculus       5323\nMacacaMulatta     2119\nName: Species, dtype: int64"
     },
     "execution_count": 32,
     "metadata": {},
     "output_type": "execute_result"
    }
   ],
   "source": [
    "vdjdb[\"Species\"].value_counts()"
   ],
   "metadata": {
    "collapsed": false,
    "pycharm": {
     "name": "#%%\n"
    }
   }
  },
  {
   "cell_type": "markdown",
   "source": [
    "Сайты разрезания ищем только для человеческих МНС 1 класса"
   ],
   "metadata": {
    "collapsed": false,
    "pycharm": {
     "name": "#%% md\n"
    }
   }
  },
  {
   "cell_type": "code",
   "execution_count": 33,
   "outputs": [],
   "source": [
    "def isCorrectSequence(seq):\n",
    "    alphabet = list(\"ACDEFGHIKLMNPQRSTVWY\")\n",
    "    seq = seq.strip()\n",
    "    for i in range(0,len(seq)):\n",
    "        if seq[i] not in alphabet:\n",
    "            return False\n",
    "    return True"
   ],
   "metadata": {
    "collapsed": false,
    "pycharm": {
     "name": "#%%\n"
    }
   }
  },
  {
   "cell_type": "code",
   "execution_count": 34,
   "outputs": [
    {
     "data": {
      "text/plain": "(89321, 18)"
     },
     "execution_count": 34,
     "metadata": {},
     "output_type": "execute_result"
    }
   ],
   "source": [
    "vdjdb[\"correct_epitope\"] = vdjdb[\"Epitope\"].apply(isCorrectSequence)\n",
    "vdjdb.shape"
   ],
   "metadata": {
    "collapsed": false,
    "pycharm": {
     "name": "#%%\n"
    }
   }
  },
  {
   "cell_type": "code",
   "execution_count": 35,
   "outputs": [
    {
     "data": {
      "text/plain": "(89321, 18)"
     },
     "execution_count": 35,
     "metadata": {},
     "output_type": "execute_result"
    }
   ],
   "source": [
    "vdjdb_filtered = vdjdb[vdjdb[\"correct_epitope\"]]\n",
    "vdjdb_filtered.shape"
   ],
   "metadata": {
    "collapsed": false,
    "pycharm": {
     "name": "#%%\n"
    }
   }
  },
  {
   "cell_type": "code",
   "execution_count": 36,
   "outputs": [
    {
     "data": {
      "text/plain": "(86160, 18)"
     },
     "execution_count": 36,
     "metadata": {},
     "output_type": "execute_result"
    }
   ],
   "source": [
    "vdjdb_filtered = vdjdb_filtered[vdjdb_filtered[\"MHC class\"] == \"MHCI\"]\n",
    "vdjdb_filtered.shape"
   ],
   "metadata": {
    "collapsed": false,
    "pycharm": {
     "name": "#%%\n"
    }
   }
  },
  {
   "cell_type": "code",
   "execution_count": 37,
   "outputs": [
    {
     "data": {
      "text/plain": "(86126, 18)"
     },
     "execution_count": 37,
     "metadata": {},
     "output_type": "execute_result"
    }
   ],
   "source": [
    "vdjdb_filtered = vdjdb_filtered[~vdjdb_filtered[\"Epitope gene\"].isna()]\n",
    "vdjdb_filtered.shape"
   ],
   "metadata": {
    "collapsed": false,
    "pycharm": {
     "name": "#%%\n"
    }
   }
  },
  {
   "cell_type": "code",
   "execution_count": 38,
   "outputs": [
    {
     "data": {
      "text/plain": "(86126, 18)"
     },
     "execution_count": 38,
     "metadata": {},
     "output_type": "execute_result"
    }
   ],
   "source": [
    "vdjdb_filtered = vdjdb_filtered[~vdjdb_filtered[\"Epitope species\"].isna()]\n",
    "vdjdb_filtered.shape"
   ],
   "metadata": {
    "collapsed": false,
    "pycharm": {
     "name": "#%%\n"
    }
   }
  },
  {
   "cell_type": "code",
   "execution_count": 39,
   "outputs": [
    {
     "data": {
      "text/plain": "(84615, 18)"
     },
     "execution_count": 39,
     "metadata": {},
     "output_type": "execute_result"
    }
   ],
   "source": [
    "vdjdb_filtered = vdjdb_filtered[~vdjdb_filtered[\"Reference\"].isna()]\n",
    "vdjdb_filtered.shape"
   ],
   "metadata": {
    "collapsed": false,
    "pycharm": {
     "name": "#%%\n"
    }
   }
  },
  {
   "cell_type": "code",
   "execution_count": 40,
   "outputs": [
    {
     "data": {
      "text/plain": "(77227, 18)"
     },
     "execution_count": 40,
     "metadata": {},
     "output_type": "execute_result"
    }
   ],
   "source": [
    "vdjdb_filtered = vdjdb_filtered[vdjdb_filtered[\"Species\"] == \"HomoSapiens\"]\n",
    "vdjdb_filtered.shape"
   ],
   "metadata": {
    "collapsed": false,
    "pycharm": {
     "name": "#%%\n"
    }
   }
  },
  {
   "cell_type": "code",
   "execution_count": 41,
   "outputs": [
    {
     "data": {
      "text/plain": "CMV                          37945\nEBV                          11291\nInfluenzaA                   10509\nSARS-CoV-2                    7135\nHomoSapiens                   4868\nHIV-1                         2687\nHCV                            848\nYFV                            789\nHTLV-1                         234\nDENV1                          182\nDENV3/4                        179\nHIV                            157\nHSV-2                          154\nsynthetic                       68\nDENV2                           60\nHCoV-HKU1                       57\nHPV                             28\nMCPyV                           12\nM.tuberculosis                   8\nStreptomycesKanamyceticus        6\nHIV1                             4\nHomo sapiens                     4\nSaccharomycesCerevisiae          2\nName: Epitope species, dtype: int64"
     },
     "execution_count": 41,
     "metadata": {},
     "output_type": "execute_result"
    }
   ],
   "source": [
    "vdjdb_filtered[\"Epitope species\"].value_counts()"
   ],
   "metadata": {
    "collapsed": false,
    "pycharm": {
     "name": "#%%\n"
    }
   }
  },
  {
   "cell_type": "code",
   "execution_count": 42,
   "outputs": [
    {
     "data": {
      "text/plain": "IE1        28142\nM          10038\npp65        8941\nEBNA4       5032\nSpike       2896\n           ...  \nTUBGCP2        1\nRNF213         1\nSNX24          1\nZFYVE27        1\nPHLPP1         1\nName: Epitope gene, Length: 177, dtype: int64"
     },
     "execution_count": 42,
     "metadata": {},
     "output_type": "execute_result"
    }
   ],
   "source": [
    "vdjdb_filtered[\"Epitope gene\"].value_counts()"
   ],
   "metadata": {
    "collapsed": false,
    "pycharm": {
     "name": "#%%\n"
    }
   }
  },
  {
   "cell_type": "code",
   "execution_count": 47,
   "outputs": [
    {
     "data": {
      "text/plain": "(77157, 18)"
     },
     "execution_count": 47,
     "metadata": {},
     "output_type": "execute_result"
    }
   ],
   "source": [
    "vdjdb_filtered = vdjdb_filtered[(vdjdb_filtered[\"Epitope species\"] != \"synthetic\") & (vdjdb_filtered[\"Epitope gene\"] != \"synthetic\")]\n",
    "vdjdb_filtered.shape"
   ],
   "metadata": {
    "collapsed": false,
    "pycharm": {
     "name": "#%%\n"
    }
   }
  },
  {
   "cell_type": "code",
   "execution_count": 48,
   "outputs": [
    {
     "name": "stdout",
     "output_type": "stream",
     "text": [
      "{'Nef': 'HIV-1', 'pp65': 'CMV', 'Nucleocapsid': 'SARS-CoV-2', 'ORF3': 'SARS-CoV-2', 'ORF1ab': 'SARS-CoV-2', 'Spike': 'SARS-CoV-2', 'NDC1': 'HomoSapiens', 'TKT': 'HomoSapiens', 'SEC24A': 'HomoSapiens', 'AKAP13': 'HomoSapiens', 'EXOC8': 'HomoSapiens', 'PABPC1': 'HomoSapiens', 'MLANA': 'HomoSapiens', 'BRLF1': 'EBV', 'Gag': 'HIV-1', 'IE1': 'CMV', 'EBNA1': 'EBV', 'BZLF1': 'EBV', 'Tax': 'HTLV-1', 'EBNA3A': 'EBV', 'M': 'InfluenzaA', 'NY-ESO-1': 'HomoSapiens', 'UL40': 'CMV', 'EBNA6': 'EBV', 'Tel1': 'SaccharomycesCerevisiae', 'ABCD3': 'HomoSapiens', 'BMLF1': 'EBV', 'ELAVL4': 'HomoSapiens', 'INS': 'HomoSapiens', 'Pol': 'HIV-1', 'TERT': 'HomoSapiens', 'NS3': 'HCV', 'EMC': 'HomoSapiens', 'WT1': 'HomoSapiens', 'MAGE-A3': 'HomoSapiens', 'TITIN': 'HomoSapiens', 'GAG': 'HIV-1', 'Leader peptide': 'HomoSapiens', 'RT': 'HIV-1', 'NP338': 'InfluenzaA', 'ANKRD30A': 'HomoSapiens', 'MAGE-A4': 'HomoSapiens', 'PMEL': 'HomoSapiens', 'P53': 'HomoSapiens', 'ENR': 'M.tuberculosis', 'TP53': 'Homo sapiens', 'PIK3CA': 'Homo sapiens', 'NS4B': 'YFV', 'BST2': 'HomoSapiens', 'IE2': 'CMV', 'UL49': 'HSV-2', 'NSP3': 'SARS-CoV-2', 'INS-DRiP': 'HomoSapiens', 'PTPRN': 'HomoSapiens', 'EBNA4': 'EBV', 'EBNA3B': 'EBV', 'pp50': 'CMV', 'NP': 'InfluenzaA', 'LMP2A': 'EBV', 'T-Ag': 'MCPyV', '5T4': 'HomoSapiens', 'GANAB': 'HomoSapiens', 'GNL3L': 'HomoSapiens', 'PGM5': 'HomoSapiens', 'SNX24': 'HomoSapiens', 'FNDC3B': 'HomoSapiens', 'SMARCD3': 'HomoSapiens', 'CDK4': 'HomoSapiens', 'NS5B': 'HCV', 'SLC30A8': 'HomoSapiens', 'KRAS': 'HomoSapiens', 'MAGEA6': 'HomoSapiens', 'PDS5A': 'HomoSapiens', 'MED13': 'HomoSapiens', 'RFC5': 'HomoSapiens', 'BRAP': 'HomoSapiens', 'GINS1': 'HomoSapiens', 'DPY19L4': 'HomoSapiens', 'RNF19B': 'HomoSapiens', 'ASTN1': 'HomoSapiens', 'MLL2': 'HomoSapiens', 'BCL2L1': 'HomoSapiens', 'PLA2G6': 'HomoSapiens', 'E7': 'HPV', 'LMP1': 'EBV', 'MAGEA1': 'HomoSapiens', 'TYR': 'HomoSapiens', 'KanJ': 'StreptomycesKanamyceticus', 'MAGEA3': 'HomoSapiens', 'KLK3': 'HomoSapiens', 'PLCD3': 'HomoSapiens', 'PPM1': 'HomoSapiens', 'SRPX': 'HomoSapiens', 'AHNAK': 'HomoSapiens', 'AFMID': 'HomoSapiens', 'HELZ2': 'HomoSapiens', 'CENPL': 'HomoSapiens', 'TPX2': 'HomoSapiens', 'WDR46': 'HomoSapiens', 'HIVEP2': 'HomoSapiens', 'AMPH': 'HomoSapiens', 'Vpr': 'HIV-1', 'Vif': 'HIV-1', 'Matrix': 'SARS-CoV-2', 'RNP': 'SARS-CoV-2', 'NSP12': 'SARS-CoV-2', 'TXNDC11': 'HomoSapiens', 'U2AF2': 'HomoSapiens', 'GEMIN': 'HomoSapiens', 'CD74': 'HomoSapiens', 'PDE4A': 'HomoSapiens', 'WDR87': 'HomoSapiens', 'FANCI': 'HomoSapiens', 'CRISPLD1': 'HomoSapiens', 'KLHL7': 'HomoSapiens', 'ARMT1': 'HomoSapiens', 'gp100': 'HomoSapiens', 'SSX2': 'HomoSapiens', 'MAGE-A1': 'HomoSapiens', 'ABCB5': 'HomoSapiens', 'MART1': 'HomoSapiens', 'Tyrosinase': 'HomoSapiens', 'NY-ESO': 'HomoSapiens', 'PORCN': 'HomoSapiens', 'AKAP9': 'HomoSapiens', 'ZDBF2': 'HomoSapiens', 'GCN1L1': 'HomoSapiens', 'CDKN2A': 'HomoSapiens', 'PDE7B': 'HomoSapiens', 'POGK': 'HomoSapiens', 'MPV17': 'HomoSapiens', 'IE-1': 'CMV', 'UL29/28': 'CMV', 'ARHGAP35': 'HomoSapiens', 'p53': 'HomoSapiens', 'COL18A1': 'HomoSapiens', 'KIF16B': 'HomoSapiens', 'KIAA1279': 'HomoSapiens', 'XPNPEP1': 'HomoSapiens', 'UGGT2': 'HomoSapiens', 'PHKA1': 'HomoSapiens', 'GNB5': 'HomoSapiens', 'FBXO21': 'HomoSapiens', 'RECQL5': 'HomoSapiens', 'KIAA1967': 'HomoSapiens', 'KIAA0368': 'HomoSapiens', 'CADPS2': 'HomoSapiens', 'NUP98': 'HomoSapiens', 'KARS': 'HomoSapiens', 'CASP8': 'HomoSapiens', 'TUBGCP2': 'HomoSapiens', 'RNF213': 'HomoSapiens', 'SKIV2L': 'HomoSapiens', 'H3F3B': 'HomoSapiens', 'API5': 'HomoSapiens', 'RNF10': 'HomoSapiens', 'PHLPP1': 'HomoSapiens', 'ZFYVE27': 'HomoSapiens', 'NBAS': 'HomoSapiens', 'PPM1F': 'HomoSapiens', 'ACTN4': 'HomoSapiens', 'ME1': 'HomoSapiens', 'SF3B1': 'HomoSapiens', 'NRAS': 'HomoSapiens', 'ERBB2': 'HomoSapiens', 'IGF2BP2': 'HomoSapiens', 'ORF10': 'SARS-CoV-2', 'ORF14': 'SARS-CoV-2', 'ORF6': 'SARS-CoV-2', 'ORF7a': 'SARS-CoV-2', 'ORF7b': 'SARS-CoV-2', 'ORF8': 'SARS-CoV-2', 'ORF9b': 'SARS-CoV-2', 'Envelope': 'SARS-CoV-2'}\n"
     ]
    }
   ],
   "source": [
    "gene_species = dict()\n",
    "for i in vdjdb_filtered.index:\n",
    "    key = vdjdb_filtered.loc[i,\"Epitope gene\"]\n",
    "    if key not in gene_species.keys():\n",
    "        gene_species[key] = vdjdb_filtered.loc[i,\"Epitope species\"]\n",
    "print(gene_species)"
   ],
   "metadata": {
    "collapsed": false,
    "pycharm": {
     "name": "#%%\n"
    }
   }
  },
  {
   "cell_type": "code",
   "execution_count": 53,
   "outputs": [],
   "source": [
    "with open(\"../lists/vdjdb_gene_species_\" + datetime.today().strftime('%Y-%m-%d %H:%M:%S') + \".json\", 'w') as f:\n",
    "    json.dump(gene_species, f, sort_keys=True, indent=4)"
   ],
   "metadata": {
    "collapsed": false,
    "pycharm": {
     "name": "#%%\n"
    }
   }
  },
  {
   "cell_type": "markdown",
   "source": [
    " Подправлены вручную названия видов, удалены записи с сомнительными записями генов и видов. Файл 22-111-14 00:25"
   ],
   "metadata": {
    "collapsed": false,
    "pycharm": {
     "name": "#%% md\n"
    }
   }
  },
  {
   "cell_type": "code",
   "execution_count": null,
   "outputs": [],
   "source": [],
   "metadata": {
    "collapsed": false,
    "pycharm": {
     "name": "#%%\n"
    }
   }
  }
 ],
 "metadata": {
  "kernelspec": {
   "display_name": "Python 3",
   "language": "python",
   "name": "python3"
  },
  "language_info": {
   "codemirror_mode": {
    "name": "ipython",
    "version": 2
   },
   "file_extension": ".py",
   "mimetype": "text/x-python",
   "name": "python",
   "nbconvert_exporter": "python",
   "pygments_lexer": "ipython2",
   "version": "2.7.6"
  }
 },
 "nbformat": 4,
 "nbformat_minor": 0
}