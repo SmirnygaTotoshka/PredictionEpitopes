{
 "cells": [
  {
   "cell_type": "markdown",
   "metadata": {
    "collapsed": true,
    "pycharm": {
     "name": "#%% md\n"
    }
   },
   "source": [
    "# 3. Поиск сайтов протеолиза белков протеосомой по данным IEDB"
   ]
  },
  {
   "cell_type": "markdown",
   "metadata": {
    "pycharm": {
     "name": "#%% md\n"
    }
   },
   "source": [
    "Антон Смирнов, 16.11.2022"
   ]
  },
  {
   "cell_type": "markdown",
   "metadata": {
    "pycharm": {
     "name": "#%% md\n"
    }
   },
   "source": [
    "## Загрузка данных об эпитопах"
   ]
  },
  {
   "cell_type": "code",
   "execution_count": 1,
   "metadata": {
    "pycharm": {
     "name": "#%%\n"
    }
   },
   "outputs": [],
   "source": [
    "from io import StringIO\n",
    "\n",
    "import pandas as pd\n",
    "import mysql.connector as con\n",
    "from Bio import Entrez,SeqIO\n",
    "import re\n",
    "#import requests\n",
    "from urllib.error import HTTPError\n",
    "import matplotlib.pyplot as plt"
   ]
  },
  {
   "cell_type": "code",
   "execution_count": 2,
   "metadata": {
    "pycharm": {
     "name": "#%%\n"
    }
   },
   "outputs": [],
   "source": [
    "Entrez.email = \"anton.smirnov.9910@gmail.com\"\n",
    "Entrez.api_key = \"67a161eb14f134f9d7e50e111f957429f808\""
   ]
  },
  {
   "cell_type": "code",
   "execution_count": 3,
   "metadata": {
    "pycharm": {
     "name": "#%%\n"
    }
   },
   "outputs": [],
   "source": [
    "def isUniprotID(id):\n",
    "    return re.match(\"([OPQ][0-9][A-Z0-9]|[A-NR-Z][0-9][A-Z])[A-Z0-9][A-Z0-9][0-9]([A-Z][A-Z0-9][A-Z0-9][0-9])?\",id) is not None"
   ]
  },
  {
   "cell_type": "code",
   "execution_count": 4,
   "metadata": {
    "pycharm": {
     "name": "#%%\n"
    }
   },
   "outputs": [],
   "source": [
    "def typeSource(id):\n",
    "    if isUniprotID(id):\n",
    "        return \"Uniprot\"\n",
    "    elif id[0:3] == \"SRC\":\n",
    "        return \"SRC\"\n",
    "    elif id[0:2] == \"NP\" or re.match(\"\\\\w+\",id[0:3]):\n",
    "        return \"NCBI\"\n",
    "    else:\n",
    "        return \"Other\""
   ]
  },
  {
   "cell_type": "code",
   "execution_count": 5,
   "metadata": {
    "pycharm": {
     "name": "#%%\n"
    }
   },
   "outputs": [],
   "source": [
    "def isCorrectSequence(seq):\n",
    "    alphabet = list(\"ACDEFGHIKLMNPQRSTVWY\")\n",
    "    seq = seq.strip()\n",
    "    for i in range(0,len(seq)):\n",
    "        if seq[i] not in alphabet:\n",
    "            return False\n",
    "    return True"
   ]
  },
  {
   "cell_type": "code",
   "execution_count": 6,
   "metadata": {
    "pycharm": {
     "name": "#%%\n"
    }
   },
   "outputs": [],
   "source": [
    "# Print iterations progress\n",
    "def printProgressBar (iteration, total, prefix = '', suffix = '', decimals = 1, length = 100, fill = '█', printEnd = \"\\r\"):\n",
    "    \"\"\"\n",
    "    Call in a loop to create terminal progress bar\n",
    "    @params:\n",
    "        iteration   - Required  : current iteration (Int)\n",
    "        total       - Required  : total iterations (Int)\n",
    "        prefix      - Optional  : prefix string (Str)\n",
    "        suffix      - Optional  : suffix string (Str)\n",
    "        decimals    - Optional  : positive number of decimals in percent complete (Int)\n",
    "        length      - Optional  : character length of bar (Int)\n",
    "        fill        - Optional  : bar fill character (Str)\n",
    "        printEnd    - Optional  : end character (e.g. \"\\r\", \"\\r\\n\") (Str)\n",
    "    \"\"\"\n",
    "    percent = (\"{0:.\" + str(decimals) + \"f}\").format(100 * (iteration / float(total)))\n",
    "    filledLength = int(length * iteration // total)\n",
    "    bar = fill * filledLength + '-' * (length - filledLength)\n",
    "    print(f'\\r{prefix} |{bar}| {percent}% {suffix}', end = printEnd)\n",
    "    # Print New Line on Complete\n",
    "    if iteration == total:\n",
    "        print()"
   ]
  },
  {
   "cell_type": "markdown",
   "metadata": {
    "pycharm": {
     "name": "#%% md\n"
    }
   },
   "source": [
    "Для описания сайтов разрезания берем С-конец эпитопа. Для полноты картины нужна аминокислота, следующая после С-конца эпитопа. Для этого нужна референсная послежовательность и большая часть кода посвящена их извлечению."
   ]
  },
  {
   "cell_type": "markdown",
   "metadata": {},
   "source": [
    "Загрузка заготовленных с помощью скрипта create_lin_epitope_samples_by_assay таблиц"
   ]
  },
  {
   "cell_type": "code",
   "execution_count": 7,
   "metadata": {
    "pycharm": {
     "name": "#%%\n"
    }
   },
   "outputs": [
    {
     "name": "stderr",
     "output_type": "stream",
     "text": [
      "/home/stotoshka/Soft/anaconda3/envs/research/lib/python3.9/site-packages/pandas/io/sql.py:761: UserWarning: pandas only support SQLAlchemy connectable(engine/connection) ordatabase string URI or sqlite3 DBAPI2 connectionother DBAPI2 objects are not tested, please consider using SQLAlchemy\n",
      "  warnings.warn(\n",
      "/home/stotoshka/Soft/anaconda3/envs/research/lib/python3.9/site-packages/pandas/io/sql.py:761: UserWarning: pandas only support SQLAlchemy connectable(engine/connection) ordatabase string URI or sqlite3 DBAPI2 connectionother DBAPI2 objects are not tested, please consider using SQLAlchemy\n",
      "  warnings.warn(\n",
      "/home/stotoshka/Soft/anaconda3/envs/research/lib/python3.9/site-packages/pandas/io/sql.py:761: UserWarning: pandas only support SQLAlchemy connectable(engine/connection) ordatabase string URI or sqlite3 DBAPI2 connectionother DBAPI2 objects are not tested, please consider using SQLAlchemy\n",
      "  warnings.warn(\n",
      "/home/stotoshka/Soft/anaconda3/envs/research/lib/python3.9/site-packages/pandas/io/sql.py:761: UserWarning: pandas only support SQLAlchemy connectable(engine/connection) ordatabase string URI or sqlite3 DBAPI2 connectionother DBAPI2 objects are not tested, please consider using SQLAlchemy\n",
      "  warnings.warn(\n",
      "/home/stotoshka/Soft/anaconda3/envs/research/lib/python3.9/site-packages/pandas/io/sql.py:761: UserWarning: pandas only support SQLAlchemy connectable(engine/connection) ordatabase string URI or sqlite3 DBAPI2 connectionother DBAPI2 objects are not tested, please consider using SQLAlchemy\n",
      "  warnings.warn(\n",
      "/home/stotoshka/Soft/anaconda3/envs/research/lib/python3.9/site-packages/pandas/io/sql.py:761: UserWarning: pandas only support SQLAlchemy connectable(engine/connection) ordatabase string URI or sqlite3 DBAPI2 connectionother DBAPI2 objects are not tested, please consider using SQLAlchemy\n",
      "  warnings.warn(\n"
     ]
    },
    {
     "name": "stdout",
     "output_type": "stream",
     "text": [
      "Elution - Positive: (13266, 8) ;Negative: (0, 8)\n",
      "Bind - Positive: (33295, 8) ;Negative: (45084, 8)\n",
      "Tcell - Positive: (10287, 8) ;Negative: (30816, 8)\n"
     ]
    }
   ],
   "source": [
    "try:\n",
    "    mydb = con.connect(host=\"localhost\", database = 'iedb',user=\"stotoshka\", passwd=\"meowmeow\",use_pure=True)\n",
    "\n",
    "    pos_elution = pd.read_sql(\"SELECT * FROM pos_epi_elution;\",mydb)\n",
    "    pos_bind = pd.read_sql(\"SELECT * FROM pos_epi_bind;\",mydb)\n",
    "    pos_tcell = pd.read_sql(\"SELECT * FROM pos_epi_tcell\",mydb)\n",
    "\n",
    "    neg_elution = pd.read_sql(\"SELECT * FROM neg_epi_elution;\",mydb)\n",
    "    neg_bind = pd.read_sql(\"SELECT * FROM neg_epi_bind;\",mydb)\n",
    "    neg_tcell = pd.read_sql(\"SELECT * FROM neg_epi_tcell\",mydb)\n",
    "\n",
    "    print(\"Elution - Positive: \" + str(pos_elution.shape) + \" ;Negative: \" + str(neg_elution.shape))\n",
    "    print(\"Bind - Positive: \" + str(pos_bind.shape) + \" ;Negative: \" + str(neg_bind.shape))\n",
    "    print(\"Tcell - Positive: \" + str(pos_tcell.shape) + \" ;Negative: \" + str(neg_tcell.shape))\n",
    "\n",
    "except Exception as e:\n",
    "    print(str(e))\n",
    "finally:\n",
    "    mycursor = mydb.cursor()\n",
    "    #drop для возможности повторного запуска скрипта\n",
    "    sql = \"DROP TABLE IF EXISTS pos_human_mhcI_from_elution;\" \\\n",
    "          \"DROP TABLE IF EXISTS pos_human_mhcI_from_bind;\" \\\n",
    "          \"DROP TABLE IF EXISTS pos_human_mhcI_from_tcell;\" \\\n",
    "          \"DROP TABLE IF EXISTS neg_human_mhcI_from_elution;\" \\\n",
    "          \"DROP TABLE IF EXISTS neg_human_mhcI_from_bind;\" \\\n",
    "          \"DROP TABLE IF EXISTS neg_human_mhcI_from_tcell;\" \\\n",
    "          \"DROP VIEW IF EXISTS human_linear_epi;\" \\\n",
    "          \"DROP VIEW IF EXISTS pos_epi_elution;DROP VIEW IF EXISTS pos_epi_bind;DROP VIEW IF EXISTS pos_epi_tcell;\" \\\n",
    "          \"DROP VIEW IF EXISTS neg_epi_elution;DROP VIEW IF EXISTS neg_epi_bind; DROP VIEW IF EXISTS neg_epi_tcell;\"\n",
    "    mycursor.execute(sql,multi=True)\n",
    "    mydb.close()"
   ]
  },
  {
   "cell_type": "markdown",
   "metadata": {},
   "source": [
    "Собрать все датасеты вместе"
   ]
  },
  {
   "cell_type": "code",
   "execution_count": 8,
   "metadata": {
    "pycharm": {
     "name": "#%%\n"
    }
   },
   "outputs": [
    {
     "name": "stdout",
     "output_type": "stream",
     "text": [
      "(132748, 8)\n"
     ]
    },
    {
     "data": {
      "text/html": [
       "<div>\n",
       "<style scoped>\n",
       "    .dataframe tbody tr th:only-of-type {\n",
       "        vertical-align: middle;\n",
       "    }\n",
       "\n",
       "    .dataframe tbody tr th {\n",
       "        vertical-align: top;\n",
       "    }\n",
       "\n",
       "    .dataframe thead th {\n",
       "        text-align: right;\n",
       "    }\n",
       "</style>\n",
       "<table border=\"1\" class=\"dataframe\">\n",
       "  <thead>\n",
       "    <tr style=\"text-align: right;\">\n",
       "      <th></th>\n",
       "      <th>curated_epitope_id</th>\n",
       "      <th>linear_peptide_seq</th>\n",
       "      <th>source_antigen_accession</th>\n",
       "      <th>source_organism_org_id</th>\n",
       "      <th>e_ref_start</th>\n",
       "      <th>e_ref_end</th>\n",
       "      <th>mhc_allele_name</th>\n",
       "      <th>class</th>\n",
       "    </tr>\n",
       "  </thead>\n",
       "  <tbody>\n",
       "    <tr>\n",
       "      <th>0</th>\n",
       "      <td>1433183.0</td>\n",
       "      <td>AYKKQFSQY</td>\n",
       "      <td>NP_000960.2</td>\n",
       "      <td>9606.0</td>\n",
       "      <td>217.0</td>\n",
       "      <td>225.0</td>\n",
       "      <td>HLA-A*30:02</td>\n",
       "      <td>I</td>\n",
       "    </tr>\n",
       "    <tr>\n",
       "      <th>1</th>\n",
       "      <td>1433183.0</td>\n",
       "      <td>AYKKQFSQY</td>\n",
       "      <td>NP_000960.2</td>\n",
       "      <td>9606.0</td>\n",
       "      <td>217.0</td>\n",
       "      <td>225.0</td>\n",
       "      <td>HLA-A*30:04</td>\n",
       "      <td>I</td>\n",
       "    </tr>\n",
       "    <tr>\n",
       "      <th>2</th>\n",
       "      <td>316179.0</td>\n",
       "      <td>YTIPPGHQV</td>\n",
       "      <td>AAB39951.1</td>\n",
       "      <td>9606.0</td>\n",
       "      <td>399.0</td>\n",
       "      <td>407.0</td>\n",
       "      <td>HLA-B*15:16</td>\n",
       "      <td>I</td>\n",
       "    </tr>\n",
       "    <tr>\n",
       "      <th>3</th>\n",
       "      <td>316182.0</td>\n",
       "      <td>ITNTVGSSI</td>\n",
       "      <td>AAA58502.1</td>\n",
       "      <td>9606.0</td>\n",
       "      <td>445.0</td>\n",
       "      <td>453.0</td>\n",
       "      <td>HLA-B*15:16</td>\n",
       "      <td>I</td>\n",
       "    </tr>\n",
       "    <tr>\n",
       "      <th>4</th>\n",
       "      <td>316178.0</td>\n",
       "      <td>LTDPSQRLV</td>\n",
       "      <td>CAA61107.1</td>\n",
       "      <td>9606.0</td>\n",
       "      <td>370.0</td>\n",
       "      <td>378.0</td>\n",
       "      <td>HLA-B*15:16</td>\n",
       "      <td>I</td>\n",
       "    </tr>\n",
       "  </tbody>\n",
       "</table>\n",
       "</div>"
      ],
      "text/plain": [
       "  curated_epitope_id linear_peptide_seq source_antigen_accession  \\\n",
       "0          1433183.0          AYKKQFSQY              NP_000960.2   \n",
       "1          1433183.0          AYKKQFSQY              NP_000960.2   \n",
       "2           316179.0          YTIPPGHQV               AAB39951.1   \n",
       "3           316182.0          ITNTVGSSI               AAA58502.1   \n",
       "4           316178.0          LTDPSQRLV               CAA61107.1   \n",
       "\n",
       "  source_organism_org_id e_ref_start e_ref_end mhc_allele_name class  \n",
       "0                 9606.0       217.0     225.0     HLA-A*30:02     I  \n",
       "1                 9606.0       217.0     225.0     HLA-A*30:04     I  \n",
       "2                 9606.0       399.0     407.0     HLA-B*15:16     I  \n",
       "3                 9606.0       445.0     453.0     HLA-B*15:16     I  \n",
       "4                 9606.0       370.0     378.0     HLA-B*15:16     I  "
      ]
     },
     "execution_count": 8,
     "metadata": {},
     "output_type": "execute_result"
    }
   ],
   "source": [
    "combined = pd.concat([pos_elution,pos_tcell,pos_bind,neg_tcell,neg_bind,neg_elution]).reset_index(drop=True)\n",
    "print(combined.shape)\n",
    "combined.head()"
   ]
  },
  {
   "cell_type": "code",
   "execution_count": 9,
   "metadata": {
    "pycharm": {
     "name": "#%%\n"
    }
   },
   "outputs": [
    {
     "data": {
      "text/plain": [
       "(132746, 8)"
      ]
     },
     "execution_count": 9,
     "metadata": {},
     "output_type": "execute_result"
    }
   ],
   "source": [
    "combined = combined[combined[\"linear_peptide_seq\"].apply(isCorrectSequence)]\n",
    "combined.shape"
   ]
  },
  {
   "cell_type": "markdown",
   "metadata": {},
   "source": [
    "Было обнаружено три типа идентификатора белков:\n",
    "    - Идентификаторы NCBI (NP_<номер>, ###<номер>)\n",
    "    - Идентификаторы Uniprot (в интернете есть регулярное выражение для проверки)\n",
    "    - Неизвестная БД (SRC<номер>)"
   ]
  },
  {
   "cell_type": "code",
   "execution_count": 10,
   "metadata": {
    "pycharm": {
     "name": "#%%\n"
    }
   },
   "outputs": [
    {
     "data": {
      "text/plain": [
       "Uniprot    104184\n",
       "NCBI        27489\n",
       "SRC          1073\n",
       "Name: typeSource, dtype: int64"
      ]
     },
     "execution_count": 10,
     "metadata": {},
     "output_type": "execute_result"
    }
   ],
   "source": [
    "combined[\"typeSource\"] = combined[\"source_antigen_accession\"].apply(typeSource)\n",
    "combined[\"typeSource\"].value_counts()"
   ]
  },
  {
   "cell_type": "markdown",
   "metadata": {},
   "source": [
    "Идентификаторы SRC принадлежат неустановленной мной БД, поэтому будут исключены из рассмотрения"
   ]
  },
  {
   "cell_type": "code",
   "execution_count": 11,
   "metadata": {
    "pycharm": {
     "name": "#%%\n"
    }
   },
   "outputs": [],
   "source": [
    "combined = combined[~combined['source_antigen_accession'].str.startswith(\"SRC\")]"
   ]
  },
  {
   "cell_type": "code",
   "execution_count": 12,
   "metadata": {
    "pycharm": {
     "name": "#%%\n"
    }
   },
   "outputs": [
    {
     "name": "stdout",
     "output_type": "stream",
     "text": [
      "Unique epitopes = 36786; Unique antigens = 9957.\n"
     ]
    }
   ],
   "source": [
    "num_unique_antigens = combined[\"source_antigen_accession\"].nunique()\n",
    "num_unique_epitopes = combined[\"linear_peptide_seq\"].nunique()\n",
    "print(f\"Unique epitopes = {num_unique_epitopes}; Unique antigens = {num_unique_antigens}.\")"
   ]
  },
  {
   "cell_type": "markdown",
   "metadata": {},
   "source": [
    "## Загрузка референсных последовательностей белков"
   ]
  },
  {
   "cell_type": "markdown",
   "metadata": {},
   "source": [
    "Загрузка с помощью API Uniprot недокачала порядка 1000 последовательностей (см. код ниже), поэтому было решено всё скачивать через Entrez."
   ]
  },
  {
   "cell_type": "code",
   "execution_count": 13,
   "metadata": {
    "pycharm": {
     "name": "#%%\n"
    }
   },
   "outputs": [
    {
     "name": "stdout",
     "output_type": "stream",
     "text": [
      "H7C4X7███████████████████████████---------------------------------------------------------------------| 31.6% \n",
      " |██████████████████████████████████------------------------------------------------------------------| 34.1% \r"
     ]
    },
    {
     "ename": "URLError",
     "evalue": "<urlopen error [Errno -3] Temporary failure in name resolution>",
     "output_type": "error",
     "traceback": [
      "\u001b[0;31m---------------------------------------------------------------------------\u001b[0m",
      "\u001b[0;31mgaierror\u001b[0m                                  Traceback (most recent call last)",
      "File \u001b[0;32m~/Soft/anaconda3/envs/research/lib/python3.9/urllib/request.py:1346\u001b[0m, in \u001b[0;36mAbstractHTTPHandler.do_open\u001b[0;34m(self, http_class, req, **http_conn_args)\u001b[0m\n\u001b[1;32m   1345\u001b[0m \u001b[38;5;28;01mtry\u001b[39;00m:\n\u001b[0;32m-> 1346\u001b[0m     \u001b[43mh\u001b[49m\u001b[38;5;241;43m.\u001b[39;49m\u001b[43mrequest\u001b[49m\u001b[43m(\u001b[49m\u001b[43mreq\u001b[49m\u001b[38;5;241;43m.\u001b[39;49m\u001b[43mget_method\u001b[49m\u001b[43m(\u001b[49m\u001b[43m)\u001b[49m\u001b[43m,\u001b[49m\u001b[43m \u001b[49m\u001b[43mreq\u001b[49m\u001b[38;5;241;43m.\u001b[39;49m\u001b[43mselector\u001b[49m\u001b[43m,\u001b[49m\u001b[43m \u001b[49m\u001b[43mreq\u001b[49m\u001b[38;5;241;43m.\u001b[39;49m\u001b[43mdata\u001b[49m\u001b[43m,\u001b[49m\u001b[43m \u001b[49m\u001b[43mheaders\u001b[49m\u001b[43m,\u001b[49m\n\u001b[1;32m   1347\u001b[0m \u001b[43m              \u001b[49m\u001b[43mencode_chunked\u001b[49m\u001b[38;5;241;43m=\u001b[39;49m\u001b[43mreq\u001b[49m\u001b[38;5;241;43m.\u001b[39;49m\u001b[43mhas_header\u001b[49m\u001b[43m(\u001b[49m\u001b[38;5;124;43m'\u001b[39;49m\u001b[38;5;124;43mTransfer-encoding\u001b[39;49m\u001b[38;5;124;43m'\u001b[39;49m\u001b[43m)\u001b[49m\u001b[43m)\u001b[49m\n\u001b[1;32m   1348\u001b[0m \u001b[38;5;28;01mexcept\u001b[39;00m \u001b[38;5;167;01mOSError\u001b[39;00m \u001b[38;5;28;01mas\u001b[39;00m err: \u001b[38;5;66;03m# timeout error\u001b[39;00m\n",
      "File \u001b[0;32m~/Soft/anaconda3/envs/research/lib/python3.9/http/client.py:1285\u001b[0m, in \u001b[0;36mHTTPConnection.request\u001b[0;34m(self, method, url, body, headers, encode_chunked)\u001b[0m\n\u001b[1;32m   1284\u001b[0m \u001b[38;5;124;03m\"\"\"Send a complete request to the server.\"\"\"\u001b[39;00m\n\u001b[0;32m-> 1285\u001b[0m \u001b[38;5;28;43mself\u001b[39;49m\u001b[38;5;241;43m.\u001b[39;49m\u001b[43m_send_request\u001b[49m\u001b[43m(\u001b[49m\u001b[43mmethod\u001b[49m\u001b[43m,\u001b[49m\u001b[43m \u001b[49m\u001b[43murl\u001b[49m\u001b[43m,\u001b[49m\u001b[43m \u001b[49m\u001b[43mbody\u001b[49m\u001b[43m,\u001b[49m\u001b[43m \u001b[49m\u001b[43mheaders\u001b[49m\u001b[43m,\u001b[49m\u001b[43m \u001b[49m\u001b[43mencode_chunked\u001b[49m\u001b[43m)\u001b[49m\n",
      "File \u001b[0;32m~/Soft/anaconda3/envs/research/lib/python3.9/http/client.py:1331\u001b[0m, in \u001b[0;36mHTTPConnection._send_request\u001b[0;34m(self, method, url, body, headers, encode_chunked)\u001b[0m\n\u001b[1;32m   1330\u001b[0m     body \u001b[38;5;241m=\u001b[39m _encode(body, \u001b[38;5;124m'\u001b[39m\u001b[38;5;124mbody\u001b[39m\u001b[38;5;124m'\u001b[39m)\n\u001b[0;32m-> 1331\u001b[0m \u001b[38;5;28;43mself\u001b[39;49m\u001b[38;5;241;43m.\u001b[39;49m\u001b[43mendheaders\u001b[49m\u001b[43m(\u001b[49m\u001b[43mbody\u001b[49m\u001b[43m,\u001b[49m\u001b[43m \u001b[49m\u001b[43mencode_chunked\u001b[49m\u001b[38;5;241;43m=\u001b[39;49m\u001b[43mencode_chunked\u001b[49m\u001b[43m)\u001b[49m\n",
      "File \u001b[0;32m~/Soft/anaconda3/envs/research/lib/python3.9/http/client.py:1280\u001b[0m, in \u001b[0;36mHTTPConnection.endheaders\u001b[0;34m(self, message_body, encode_chunked)\u001b[0m\n\u001b[1;32m   1279\u001b[0m     \u001b[38;5;28;01mraise\u001b[39;00m CannotSendHeader()\n\u001b[0;32m-> 1280\u001b[0m \u001b[38;5;28;43mself\u001b[39;49m\u001b[38;5;241;43m.\u001b[39;49m\u001b[43m_send_output\u001b[49m\u001b[43m(\u001b[49m\u001b[43mmessage_body\u001b[49m\u001b[43m,\u001b[49m\u001b[43m \u001b[49m\u001b[43mencode_chunked\u001b[49m\u001b[38;5;241;43m=\u001b[39;49m\u001b[43mencode_chunked\u001b[49m\u001b[43m)\u001b[49m\n",
      "File \u001b[0;32m~/Soft/anaconda3/envs/research/lib/python3.9/http/client.py:1040\u001b[0m, in \u001b[0;36mHTTPConnection._send_output\u001b[0;34m(self, message_body, encode_chunked)\u001b[0m\n\u001b[1;32m   1039\u001b[0m \u001b[38;5;28;01mdel\u001b[39;00m \u001b[38;5;28mself\u001b[39m\u001b[38;5;241m.\u001b[39m_buffer[:]\n\u001b[0;32m-> 1040\u001b[0m \u001b[38;5;28;43mself\u001b[39;49m\u001b[38;5;241;43m.\u001b[39;49m\u001b[43msend\u001b[49m\u001b[43m(\u001b[49m\u001b[43mmsg\u001b[49m\u001b[43m)\u001b[49m\n\u001b[1;32m   1042\u001b[0m \u001b[38;5;28;01mif\u001b[39;00m message_body \u001b[38;5;129;01mis\u001b[39;00m \u001b[38;5;129;01mnot\u001b[39;00m \u001b[38;5;28;01mNone\u001b[39;00m:\n\u001b[1;32m   1043\u001b[0m \n\u001b[1;32m   1044\u001b[0m     \u001b[38;5;66;03m# create a consistent interface to message_body\u001b[39;00m\n",
      "File \u001b[0;32m~/Soft/anaconda3/envs/research/lib/python3.9/http/client.py:980\u001b[0m, in \u001b[0;36mHTTPConnection.send\u001b[0;34m(self, data)\u001b[0m\n\u001b[1;32m    979\u001b[0m \u001b[38;5;28;01mif\u001b[39;00m \u001b[38;5;28mself\u001b[39m\u001b[38;5;241m.\u001b[39mauto_open:\n\u001b[0;32m--> 980\u001b[0m     \u001b[38;5;28;43mself\u001b[39;49m\u001b[38;5;241;43m.\u001b[39;49m\u001b[43mconnect\u001b[49m\u001b[43m(\u001b[49m\u001b[43m)\u001b[49m\n\u001b[1;32m    981\u001b[0m \u001b[38;5;28;01melse\u001b[39;00m:\n",
      "File \u001b[0;32m~/Soft/anaconda3/envs/research/lib/python3.9/http/client.py:1447\u001b[0m, in \u001b[0;36mHTTPSConnection.connect\u001b[0;34m(self)\u001b[0m\n\u001b[1;32m   1445\u001b[0m \u001b[38;5;124m\"\u001b[39m\u001b[38;5;124mConnect to a host on a given (SSL) port.\u001b[39m\u001b[38;5;124m\"\u001b[39m\n\u001b[0;32m-> 1447\u001b[0m \u001b[38;5;28;43msuper\u001b[39;49m\u001b[43m(\u001b[49m\u001b[43m)\u001b[49m\u001b[38;5;241;43m.\u001b[39;49m\u001b[43mconnect\u001b[49m\u001b[43m(\u001b[49m\u001b[43m)\u001b[49m\n\u001b[1;32m   1449\u001b[0m \u001b[38;5;28;01mif\u001b[39;00m \u001b[38;5;28mself\u001b[39m\u001b[38;5;241m.\u001b[39m_tunnel_host:\n",
      "File \u001b[0;32m~/Soft/anaconda3/envs/research/lib/python3.9/http/client.py:946\u001b[0m, in \u001b[0;36mHTTPConnection.connect\u001b[0;34m(self)\u001b[0m\n\u001b[1;32m    945\u001b[0m \u001b[38;5;124;03m\"\"\"Connect to the host and port specified in __init__.\"\"\"\u001b[39;00m\n\u001b[0;32m--> 946\u001b[0m \u001b[38;5;28mself\u001b[39m\u001b[38;5;241m.\u001b[39msock \u001b[38;5;241m=\u001b[39m \u001b[38;5;28;43mself\u001b[39;49m\u001b[38;5;241;43m.\u001b[39;49m\u001b[43m_create_connection\u001b[49m\u001b[43m(\u001b[49m\n\u001b[1;32m    947\u001b[0m \u001b[43m    \u001b[49m\u001b[43m(\u001b[49m\u001b[38;5;28;43mself\u001b[39;49m\u001b[38;5;241;43m.\u001b[39;49m\u001b[43mhost\u001b[49m\u001b[43m,\u001b[49m\u001b[38;5;28;43mself\u001b[39;49m\u001b[38;5;241;43m.\u001b[39;49m\u001b[43mport\u001b[49m\u001b[43m)\u001b[49m\u001b[43m,\u001b[49m\u001b[43m \u001b[49m\u001b[38;5;28;43mself\u001b[39;49m\u001b[38;5;241;43m.\u001b[39;49m\u001b[43mtimeout\u001b[49m\u001b[43m,\u001b[49m\u001b[43m \u001b[49m\u001b[38;5;28;43mself\u001b[39;49m\u001b[38;5;241;43m.\u001b[39;49m\u001b[43msource_address\u001b[49m\u001b[43m)\u001b[49m\n\u001b[1;32m    948\u001b[0m \u001b[38;5;66;03m# Might fail in OSs that don't implement TCP_NODELAY\u001b[39;00m\n",
      "File \u001b[0;32m~/Soft/anaconda3/envs/research/lib/python3.9/socket.py:823\u001b[0m, in \u001b[0;36mcreate_connection\u001b[0;34m(address, timeout, source_address)\u001b[0m\n\u001b[1;32m    822\u001b[0m err \u001b[38;5;241m=\u001b[39m \u001b[38;5;28;01mNone\u001b[39;00m\n\u001b[0;32m--> 823\u001b[0m \u001b[38;5;28;01mfor\u001b[39;00m res \u001b[38;5;129;01min\u001b[39;00m \u001b[43mgetaddrinfo\u001b[49m\u001b[43m(\u001b[49m\u001b[43mhost\u001b[49m\u001b[43m,\u001b[49m\u001b[43m \u001b[49m\u001b[43mport\u001b[49m\u001b[43m,\u001b[49m\u001b[43m \u001b[49m\u001b[38;5;241;43m0\u001b[39;49m\u001b[43m,\u001b[49m\u001b[43m \u001b[49m\u001b[43mSOCK_STREAM\u001b[49m\u001b[43m)\u001b[49m:\n\u001b[1;32m    824\u001b[0m     af, socktype, proto, canonname, sa \u001b[38;5;241m=\u001b[39m res\n",
      "File \u001b[0;32m~/Soft/anaconda3/envs/research/lib/python3.9/socket.py:954\u001b[0m, in \u001b[0;36mgetaddrinfo\u001b[0;34m(host, port, family, type, proto, flags)\u001b[0m\n\u001b[1;32m    953\u001b[0m addrlist \u001b[38;5;241m=\u001b[39m []\n\u001b[0;32m--> 954\u001b[0m \u001b[38;5;28;01mfor\u001b[39;00m res \u001b[38;5;129;01min\u001b[39;00m \u001b[43m_socket\u001b[49m\u001b[38;5;241;43m.\u001b[39;49m\u001b[43mgetaddrinfo\u001b[49m\u001b[43m(\u001b[49m\u001b[43mhost\u001b[49m\u001b[43m,\u001b[49m\u001b[43m \u001b[49m\u001b[43mport\u001b[49m\u001b[43m,\u001b[49m\u001b[43m \u001b[49m\u001b[43mfamily\u001b[49m\u001b[43m,\u001b[49m\u001b[43m \u001b[49m\u001b[38;5;28;43mtype\u001b[39;49m\u001b[43m,\u001b[49m\u001b[43m \u001b[49m\u001b[43mproto\u001b[49m\u001b[43m,\u001b[49m\u001b[43m \u001b[49m\u001b[43mflags\u001b[49m\u001b[43m)\u001b[49m:\n\u001b[1;32m    955\u001b[0m     af, socktype, proto, canonname, sa \u001b[38;5;241m=\u001b[39m res\n",
      "\u001b[0;31mgaierror\u001b[0m: [Errno -3] Temporary failure in name resolution",
      "\nDuring handling of the above exception, another exception occurred:\n",
      "\u001b[0;31mURLError\u001b[0m                                  Traceback (most recent call last)",
      "Input \u001b[0;32mIn [13]\u001b[0m, in \u001b[0;36m<cell line: 5>\u001b[0;34m()\u001b[0m\n\u001b[1;32m      6\u001b[0m \u001b[38;5;28;01mfor\u001b[39;00m i, acc_num \u001b[38;5;129;01min\u001b[39;00m \u001b[38;5;28menumerate\u001b[39m(ids_antigens):\n\u001b[1;32m      7\u001b[0m     \u001b[38;5;28;01mtry\u001b[39;00m:\n\u001b[0;32m----> 8\u001b[0m         handle \u001b[38;5;241m=\u001b[39m \u001b[43mEntrez\u001b[49m\u001b[38;5;241;43m.\u001b[39;49m\u001b[43mefetch\u001b[49m\u001b[43m(\u001b[49m\u001b[38;5;28;43mid\u001b[39;49m\u001b[43m \u001b[49m\u001b[38;5;241;43m=\u001b[39;49m\u001b[43m \u001b[49m\u001b[43macc_num\u001b[49m\u001b[43m,\u001b[49m\u001b[43m \u001b[49m\u001b[43mdb\u001b[49m\u001b[43m \u001b[49m\u001b[38;5;241;43m=\u001b[39;49m\u001b[43m \u001b[49m\u001b[38;5;124;43m\"\u001b[39;49m\u001b[38;5;124;43mprotein\u001b[39;49m\u001b[38;5;124;43m\"\u001b[39;49m\u001b[43m,\u001b[49m\u001b[43m \u001b[49m\u001b[43mrettype\u001b[49m\u001b[38;5;241;43m=\u001b[39;49m\u001b[38;5;124;43m\"\u001b[39;49m\u001b[38;5;124;43mfasta\u001b[39;49m\u001b[38;5;124;43m\"\u001b[39;49m\u001b[43m,\u001b[49m\u001b[43m \u001b[49m\u001b[43mretmode\u001b[49m\u001b[38;5;241;43m=\u001b[39;49m\u001b[38;5;124;43m\"\u001b[39;49m\u001b[38;5;124;43mtext\u001b[39;49m\u001b[38;5;124;43m\"\u001b[39;49m\u001b[43m)\u001b[49m\n\u001b[1;32m      9\u001b[0m         fasta\u001b[38;5;241m.\u001b[39mwrite(handle\u001b[38;5;241m.\u001b[39mread())\n\u001b[1;32m     10\u001b[0m     \u001b[38;5;28;01mexcept\u001b[39;00m HTTPError \u001b[38;5;28;01mas\u001b[39;00m e:\n",
      "File \u001b[0;32m~/Soft/anaconda3/envs/research/lib/python3.9/site-packages/Bio/Entrez/__init__.py:207\u001b[0m, in \u001b[0;36mefetch\u001b[0;34m(db, **keywords)\u001b[0m\n\u001b[1;32m    203\u001b[0m     \u001b[38;5;28;01mif\u001b[39;00m ids\u001b[38;5;241m.\u001b[39mcount(\u001b[38;5;124m\"\u001b[39m\u001b[38;5;124m,\u001b[39m\u001b[38;5;124m\"\u001b[39m) \u001b[38;5;241m>\u001b[39m\u001b[38;5;241m=\u001b[39m \u001b[38;5;241m200\u001b[39m:\n\u001b[1;32m    204\u001b[0m         \u001b[38;5;66;03m# NCBI prefers an HTTP POST instead of an HTTP GET if there are\u001b[39;00m\n\u001b[1;32m    205\u001b[0m         \u001b[38;5;66;03m# more than about 200 IDs\u001b[39;00m\n\u001b[1;32m    206\u001b[0m         post \u001b[38;5;241m=\u001b[39m \u001b[38;5;28;01mTrue\u001b[39;00m\n\u001b[0;32m--> 207\u001b[0m \u001b[38;5;28;01mreturn\u001b[39;00m \u001b[43m_open\u001b[49m\u001b[43m(\u001b[49m\u001b[43mcgi\u001b[49m\u001b[43m,\u001b[49m\u001b[43m \u001b[49m\u001b[43mvariables\u001b[49m\u001b[43m,\u001b[49m\u001b[43m \u001b[49m\u001b[43mpost\u001b[49m\u001b[38;5;241;43m=\u001b[39;49m\u001b[43mpost\u001b[49m\u001b[43m)\u001b[49m\n",
      "File \u001b[0;32m~/Soft/anaconda3/envs/research/lib/python3.9/site-packages/Bio/Entrez/__init__.py:606\u001b[0m, in \u001b[0;36m_open\u001b[0;34m(cgi, params, post, ecitmatch)\u001b[0m\n\u001b[1;32m    604\u001b[0m         handle \u001b[38;5;241m=\u001b[39m urlopen(cgi, data\u001b[38;5;241m=\u001b[39moptions\u001b[38;5;241m.\u001b[39mencode(\u001b[38;5;124m\"\u001b[39m\u001b[38;5;124mutf8\u001b[39m\u001b[38;5;124m\"\u001b[39m))\n\u001b[1;32m    605\u001b[0m     \u001b[38;5;28;01melse\u001b[39;00m:\n\u001b[0;32m--> 606\u001b[0m         handle \u001b[38;5;241m=\u001b[39m \u001b[43murlopen\u001b[49m\u001b[43m(\u001b[49m\u001b[43mcgi\u001b[49m\u001b[43m)\u001b[49m\n\u001b[1;32m    607\u001b[0m \u001b[38;5;28;01mexcept\u001b[39;00m HTTPError \u001b[38;5;28;01mas\u001b[39;00m exception:\n\u001b[1;32m    608\u001b[0m     \u001b[38;5;66;03m# Reraise if the final try fails\u001b[39;00m\n\u001b[1;32m    609\u001b[0m     \u001b[38;5;28;01mif\u001b[39;00m i \u001b[38;5;241m>\u001b[39m\u001b[38;5;241m=\u001b[39m max_tries \u001b[38;5;241m-\u001b[39m \u001b[38;5;241m1\u001b[39m:\n",
      "File \u001b[0;32m~/Soft/anaconda3/envs/research/lib/python3.9/urllib/request.py:214\u001b[0m, in \u001b[0;36murlopen\u001b[0;34m(url, data, timeout, cafile, capath, cadefault, context)\u001b[0m\n\u001b[1;32m    212\u001b[0m \u001b[38;5;28;01melse\u001b[39;00m:\n\u001b[1;32m    213\u001b[0m     opener \u001b[38;5;241m=\u001b[39m _opener\n\u001b[0;32m--> 214\u001b[0m \u001b[38;5;28;01mreturn\u001b[39;00m \u001b[43mopener\u001b[49m\u001b[38;5;241;43m.\u001b[39;49m\u001b[43mopen\u001b[49m\u001b[43m(\u001b[49m\u001b[43murl\u001b[49m\u001b[43m,\u001b[49m\u001b[43m \u001b[49m\u001b[43mdata\u001b[49m\u001b[43m,\u001b[49m\u001b[43m \u001b[49m\u001b[43mtimeout\u001b[49m\u001b[43m)\u001b[49m\n",
      "File \u001b[0;32m~/Soft/anaconda3/envs/research/lib/python3.9/urllib/request.py:517\u001b[0m, in \u001b[0;36mOpenerDirector.open\u001b[0;34m(self, fullurl, data, timeout)\u001b[0m\n\u001b[1;32m    514\u001b[0m     req \u001b[38;5;241m=\u001b[39m meth(req)\n\u001b[1;32m    516\u001b[0m sys\u001b[38;5;241m.\u001b[39maudit(\u001b[38;5;124m'\u001b[39m\u001b[38;5;124murllib.Request\u001b[39m\u001b[38;5;124m'\u001b[39m, req\u001b[38;5;241m.\u001b[39mfull_url, req\u001b[38;5;241m.\u001b[39mdata, req\u001b[38;5;241m.\u001b[39mheaders, req\u001b[38;5;241m.\u001b[39mget_method())\n\u001b[0;32m--> 517\u001b[0m response \u001b[38;5;241m=\u001b[39m \u001b[38;5;28;43mself\u001b[39;49m\u001b[38;5;241;43m.\u001b[39;49m\u001b[43m_open\u001b[49m\u001b[43m(\u001b[49m\u001b[43mreq\u001b[49m\u001b[43m,\u001b[49m\u001b[43m \u001b[49m\u001b[43mdata\u001b[49m\u001b[43m)\u001b[49m\n\u001b[1;32m    519\u001b[0m \u001b[38;5;66;03m# post-process response\u001b[39;00m\n\u001b[1;32m    520\u001b[0m meth_name \u001b[38;5;241m=\u001b[39m protocol\u001b[38;5;241m+\u001b[39m\u001b[38;5;124m\"\u001b[39m\u001b[38;5;124m_response\u001b[39m\u001b[38;5;124m\"\u001b[39m\n",
      "File \u001b[0;32m~/Soft/anaconda3/envs/research/lib/python3.9/urllib/request.py:534\u001b[0m, in \u001b[0;36mOpenerDirector._open\u001b[0;34m(self, req, data)\u001b[0m\n\u001b[1;32m    531\u001b[0m     \u001b[38;5;28;01mreturn\u001b[39;00m result\n\u001b[1;32m    533\u001b[0m protocol \u001b[38;5;241m=\u001b[39m req\u001b[38;5;241m.\u001b[39mtype\n\u001b[0;32m--> 534\u001b[0m result \u001b[38;5;241m=\u001b[39m \u001b[38;5;28;43mself\u001b[39;49m\u001b[38;5;241;43m.\u001b[39;49m\u001b[43m_call_chain\u001b[49m\u001b[43m(\u001b[49m\u001b[38;5;28;43mself\u001b[39;49m\u001b[38;5;241;43m.\u001b[39;49m\u001b[43mhandle_open\u001b[49m\u001b[43m,\u001b[49m\u001b[43m \u001b[49m\u001b[43mprotocol\u001b[49m\u001b[43m,\u001b[49m\u001b[43m \u001b[49m\u001b[43mprotocol\u001b[49m\u001b[43m \u001b[49m\u001b[38;5;241;43m+\u001b[39;49m\n\u001b[1;32m    535\u001b[0m \u001b[43m                          \u001b[49m\u001b[38;5;124;43m'\u001b[39;49m\u001b[38;5;124;43m_open\u001b[39;49m\u001b[38;5;124;43m'\u001b[39;49m\u001b[43m,\u001b[49m\u001b[43m \u001b[49m\u001b[43mreq\u001b[49m\u001b[43m)\u001b[49m\n\u001b[1;32m    536\u001b[0m \u001b[38;5;28;01mif\u001b[39;00m result:\n\u001b[1;32m    537\u001b[0m     \u001b[38;5;28;01mreturn\u001b[39;00m result\n",
      "File \u001b[0;32m~/Soft/anaconda3/envs/research/lib/python3.9/urllib/request.py:494\u001b[0m, in \u001b[0;36mOpenerDirector._call_chain\u001b[0;34m(self, chain, kind, meth_name, *args)\u001b[0m\n\u001b[1;32m    492\u001b[0m \u001b[38;5;28;01mfor\u001b[39;00m handler \u001b[38;5;129;01min\u001b[39;00m handlers:\n\u001b[1;32m    493\u001b[0m     func \u001b[38;5;241m=\u001b[39m \u001b[38;5;28mgetattr\u001b[39m(handler, meth_name)\n\u001b[0;32m--> 494\u001b[0m     result \u001b[38;5;241m=\u001b[39m \u001b[43mfunc\u001b[49m\u001b[43m(\u001b[49m\u001b[38;5;241;43m*\u001b[39;49m\u001b[43margs\u001b[49m\u001b[43m)\u001b[49m\n\u001b[1;32m    495\u001b[0m     \u001b[38;5;28;01mif\u001b[39;00m result \u001b[38;5;129;01mis\u001b[39;00m \u001b[38;5;129;01mnot\u001b[39;00m \u001b[38;5;28;01mNone\u001b[39;00m:\n\u001b[1;32m    496\u001b[0m         \u001b[38;5;28;01mreturn\u001b[39;00m result\n",
      "File \u001b[0;32m~/Soft/anaconda3/envs/research/lib/python3.9/urllib/request.py:1389\u001b[0m, in \u001b[0;36mHTTPSHandler.https_open\u001b[0;34m(self, req)\u001b[0m\n\u001b[1;32m   1388\u001b[0m \u001b[38;5;28;01mdef\u001b[39;00m \u001b[38;5;21mhttps_open\u001b[39m(\u001b[38;5;28mself\u001b[39m, req):\n\u001b[0;32m-> 1389\u001b[0m     \u001b[38;5;28;01mreturn\u001b[39;00m \u001b[38;5;28;43mself\u001b[39;49m\u001b[38;5;241;43m.\u001b[39;49m\u001b[43mdo_open\u001b[49m\u001b[43m(\u001b[49m\u001b[43mhttp\u001b[49m\u001b[38;5;241;43m.\u001b[39;49m\u001b[43mclient\u001b[49m\u001b[38;5;241;43m.\u001b[39;49m\u001b[43mHTTPSConnection\u001b[49m\u001b[43m,\u001b[49m\u001b[43m \u001b[49m\u001b[43mreq\u001b[49m\u001b[43m,\u001b[49m\n\u001b[1;32m   1390\u001b[0m \u001b[43m        \u001b[49m\u001b[43mcontext\u001b[49m\u001b[38;5;241;43m=\u001b[39;49m\u001b[38;5;28;43mself\u001b[39;49m\u001b[38;5;241;43m.\u001b[39;49m\u001b[43m_context\u001b[49m\u001b[43m,\u001b[49m\u001b[43m \u001b[49m\u001b[43mcheck_hostname\u001b[49m\u001b[38;5;241;43m=\u001b[39;49m\u001b[38;5;28;43mself\u001b[39;49m\u001b[38;5;241;43m.\u001b[39;49m\u001b[43m_check_hostname\u001b[49m\u001b[43m)\u001b[49m\n",
      "File \u001b[0;32m~/Soft/anaconda3/envs/research/lib/python3.9/urllib/request.py:1349\u001b[0m, in \u001b[0;36mAbstractHTTPHandler.do_open\u001b[0;34m(self, http_class, req, **http_conn_args)\u001b[0m\n\u001b[1;32m   1346\u001b[0m         h\u001b[38;5;241m.\u001b[39mrequest(req\u001b[38;5;241m.\u001b[39mget_method(), req\u001b[38;5;241m.\u001b[39mselector, req\u001b[38;5;241m.\u001b[39mdata, headers,\n\u001b[1;32m   1347\u001b[0m                   encode_chunked\u001b[38;5;241m=\u001b[39mreq\u001b[38;5;241m.\u001b[39mhas_header(\u001b[38;5;124m'\u001b[39m\u001b[38;5;124mTransfer-encoding\u001b[39m\u001b[38;5;124m'\u001b[39m))\n\u001b[1;32m   1348\u001b[0m     \u001b[38;5;28;01mexcept\u001b[39;00m \u001b[38;5;167;01mOSError\u001b[39;00m \u001b[38;5;28;01mas\u001b[39;00m err: \u001b[38;5;66;03m# timeout error\u001b[39;00m\n\u001b[0;32m-> 1349\u001b[0m         \u001b[38;5;28;01mraise\u001b[39;00m URLError(err)\n\u001b[1;32m   1350\u001b[0m     r \u001b[38;5;241m=\u001b[39m h\u001b[38;5;241m.\u001b[39mgetresponse()\n\u001b[1;32m   1351\u001b[0m \u001b[38;5;28;01mexcept\u001b[39;00m:\n",
      "\u001b[0;31mURLError\u001b[0m: <urlopen error [Errno -3] Temporary failure in name resolution>"
     ]
    }
   ],
   "source": [
    "ids_antigens = combined[\"source_antigen_accession\"].unique()\n",
    "#NOT RUN! TOO LONG EXECUTION\n",
    "printProgressBar(0, len(ids_antigens))\n",
    "ant_len = len(ids_antigens)\n",
    "with open(\"../data/iedb_refs.fasta\", \"w\") as fasta, open(\"../logs/log_iedb.txt\",\"w\") as log:\n",
    "    for i, acc_num in enumerate(ids_antigens):\n",
    "        try:\n",
    "            handle = Entrez.efetch(id = acc_num, db = \"protein\", rettype=\"fasta\", retmode=\"text\")\n",
    "            fasta.write(handle.read())\n",
    "        except HTTPError as e:\n",
    "            print(acc_num)\n",
    "            log.write(f\"{acc_num} {e}\\n\")\n",
    "        printProgressBar(i, ant_len)\n"
   ]
  },
  {
   "cell_type": "code",
   "execution_count": null,
   "metadata": {
    "pycharm": {
     "name": "#%%\n"
    }
   },
   "outputs": [],
   "source": [
    "unique_accessions = pd.DataFrame(combined['source_antigen_accession'].unique(),columns=[\"id\"])\n",
    "unique_accessions[\"type\"] = unique_accessions[\"id\"].apply(typeSource)\n",
    "unique_accessions[\"type\"].value_counts()"
   ]
  },
  {
   "cell_type": "code",
   "execution_count": 13,
   "metadata": {
    "pycharm": {
     "name": "#%%\n"
    }
   },
   "outputs": [
    {
     "data": {
      "text/html": [
       "<div>\n",
       "<style scoped>\n",
       "    .dataframe tbody tr th:only-of-type {\n",
       "        vertical-align: middle;\n",
       "    }\n",
       "\n",
       "    .dataframe tbody tr th {\n",
       "        vertical-align: top;\n",
       "    }\n",
       "\n",
       "    .dataframe thead th {\n",
       "        text-align: right;\n",
       "    }\n",
       "</style>\n",
       "<table border=\"1\" class=\"dataframe\">\n",
       "  <thead>\n",
       "    <tr style=\"text-align: right;\">\n",
       "      <th></th>\n",
       "      <th>id</th>\n",
       "      <th>type</th>\n",
       "    </tr>\n",
       "  </thead>\n",
       "  <tbody>\n",
       "    <tr>\n",
       "      <th>0</th>\n",
       "      <td>NP_000960.2</td>\n",
       "      <td>NCBI</td>\n",
       "    </tr>\n",
       "    <tr>\n",
       "      <th>1</th>\n",
       "      <td>AAB39951.1</td>\n",
       "      <td>NCBI</td>\n",
       "    </tr>\n",
       "    <tr>\n",
       "      <th>2</th>\n",
       "      <td>AAA58502.1</td>\n",
       "      <td>NCBI</td>\n",
       "    </tr>\n",
       "    <tr>\n",
       "      <th>3</th>\n",
       "      <td>CAA61107.1</td>\n",
       "      <td>NCBI</td>\n",
       "    </tr>\n",
       "    <tr>\n",
       "      <th>4</th>\n",
       "      <td>AAA35786.1</td>\n",
       "      <td>NCBI</td>\n",
       "    </tr>\n",
       "  </tbody>\n",
       "</table>\n",
       "</div>"
      ],
      "text/plain": [
       "            id  type\n",
       "0  NP_000960.2  NCBI\n",
       "1   AAB39951.1  NCBI\n",
       "2   AAA58502.1  NCBI\n",
       "3   CAA61107.1  NCBI\n",
       "4   AAA35786.1  NCBI"
      ]
     },
     "execution_count": 13,
     "metadata": {},
     "output_type": "execute_result"
    }
   ],
   "source": [
    "unique_accessions.head()"
   ]
  },
  {
   "cell_type": "markdown",
   "metadata": {},
   "source": [
    "### Uniprot"
   ]
  },
  {
   "cell_type": "code",
   "execution_count": 14,
   "metadata": {
    "pycharm": {
     "name": "#%%\n"
    }
   },
   "outputs": [],
   "source": [
    "# NOT RUN! LONG EXECUTION\n",
    "# ant_len = len(uniprot_id.index)\n",
    "# print(ant_len)\n",
    "# printProgressBar(0, ant_len)\n",
    "# with open(\"../data/antigen_seqs_uniprot.fasta\", \"w\") as fasta, open(\"../logs/log_uniprot.txt\",\"w\") as log:\n",
    "#     for i, acc_num in enumerate(uniprot_id.index):\n",
    "#         try:\n",
    "#             link = f\"https://rest.uniprot.org/uniprotkb/{acc_num}.fasta\"\n",
    "#             res = requests.get(link)\n",
    "#             if res.status_code == 200:\n",
    "#                 fasta.write(res.text)\n",
    "#                 log.write(f\"{i} {acc_num} Success {res.text[0:20]}\\n\")\n",
    "#             else:\n",
    "#                 print(f\"{acc_num} couldn find in uniprot. Status code = {res.status_code}\")\n",
    "#                 log.write(f\"{acc_num} {res.status_code}\\n\")\n",
    "#         except Exception as e:\n",
    "#             log.write(f\"{acc_num} {e}\\n\")\n",
    "#         finally:\n",
    "#             printProgressBar(i, ant_len)"
   ]
  },
  {
   "cell_type": "code",
   "execution_count": 18,
   "metadata": {
    "pycharm": {
     "name": "#%%\n"
    }
   },
   "outputs": [],
   "source": [
    "uniprot_id = list(unique_accessions.loc[unique_accessions[\"type\"] == \"Uniprot\",\"id\"])"
   ]
  },
  {
   "cell_type": "code",
   "execution_count": 19,
   "metadata": {
    "pycharm": {
     "name": "#%%\n"
    }
   },
   "outputs": [
    {
     "name": "stdout",
     "output_type": "stream",
     "text": [
      "H7C4X7████████████████████████████████----------------------------------------------------------------| 36.7% \n",
      "M0QX16███████████████████████████████████████████████████████-----------------------------------------| 59.8% \n",
      "A9J1J8.1███████████████████████████████████████████████████████---------------------------------------| 61.3% \n",
      "A2JGV3.1██████████████████████████████████████████████████████████------------------------------------| 64.2% \n",
      "F5H1F0█████████████████████████████████████████████████████████████-----------------------------------| 65.6% \n",
      "H0Y7T5█████████████████████████████████████████████████████████████-----------------------------------| 65.6% \n",
      "Q5SS57.1██████████████████████████████████████████████████████████████--------------------------------| 68.6% \n",
      "Q6ICJ4.1███████████████████████████████████████████████████████████████████████████████████-----------| 89.0% \n",
      "Q89226.1██████████████████████████████████████████████████████████████████████████████████████--------| 92.1% \n",
      "G3V2T4███████████████████████████████████████████████████████████████████████████████████████████-----| 95.3% \n",
      " |███████████████████████████████████████████████████████████████████████████████████████████████████-| 100.0% \r"
     ]
    }
   ],
   "source": [
    "#NOT RUN! TOO LONG EXECUTION\n",
    "# printProgressBar(0, len(uniprot_id))\n",
    "# ant_len = len(uniprot_id)\n",
    "# with open(\"../data/antigen_seqs_uniprot1.fasta\", \"w\") as fasta, open(\"../logs/log_uniprot1.txt\",\"w\") as log:\n",
    "#     for i, acc_num in enumerate(uniprot_id):\n",
    "#         try:\n",
    "#             handle = Entrez.efetch(id = acc_num, db = \"protein\", rettype=\"fasta\", retmode=\"text\")\n",
    "#             fasta.write(handle.read())\n",
    "#         except HTTPError as e:\n",
    "#             print(acc_num)\n",
    "#             log.write(f\"{acc_num} {e}\\n\")\n",
    "#         printProgressBar(i, ant_len)\n"
   ]
  },
  {
   "cell_type": "markdown",
   "metadata": {},
   "source": [
    "Есть последовательности, которые не удалось скачать. Необходимо исключить записи с такими ИД"
   ]
  },
  {
   "cell_type": "code",
   "execution_count": 20,
   "metadata": {
    "pycharm": {
     "name": "#%%\n"
    }
   },
   "outputs": [
    {
     "name": "stdout",
     "output_type": "stream",
     "text": [
      "['H7C4X7', 'M0QX16', 'A9J1J8.1', 'A2JGV3.1', 'F5H1F0', 'H0Y7T5', 'Q5SS57.1', 'Q6ICJ4.1', 'Q89226.1', 'G3V2T4']\n"
     ]
    }
   ],
   "source": [
    "ids = []\n",
    "with open(\"../logs/log_uniprot1.txt\", \"r\") as l:\n",
    "    for i in l.readlines():\n",
    "        ids.append(re.split(\"\\\\s\",i)[0])\n",
    "print(ids)"
   ]
  },
  {
   "cell_type": "code",
   "execution_count": 21,
   "metadata": {
    "pycharm": {
     "name": "#%%\n"
    }
   },
   "outputs": [],
   "source": [
    "combined = combined[~combined['source_antigen_accession'].isin(ids)]"
   ]
  },
  {
   "cell_type": "code",
   "execution_count": 22,
   "metadata": {
    "pycharm": {
     "name": "#%%\n"
    }
   },
   "outputs": [],
   "source": [
    "uniprot_id = list(combined.loc[(combined[\"typeSource\"] == \"Uniprot\"),\"source_antigen_accession\"].unique())"
   ]
  },
  {
   "cell_type": "markdown",
   "metadata": {},
   "source": [
    "### NCBI"
   ]
  },
  {
   "cell_type": "code",
   "execution_count": 23,
   "metadata": {
    "pycharm": {
     "name": "#%%\n"
    }
   },
   "outputs": [],
   "source": [
    "ncbi_id = list(unique_accessions.loc[unique_accessions[\"type\"] == \"NCBI\",\"id\"])"
   ]
  },
  {
   "cell_type": "code",
   "execution_count": 78,
   "metadata": {
    "pycharm": {
     "name": "#%%\n"
    }
   },
   "outputs": [
    {
     "name": "stdout",
     "output_type": "stream",
     "text": [
      " |███████████████████████████████████████████████████████████████████████████████████████████████████-| 99.9% \r"
     ]
    }
   ],
   "source": [
    "#NOT RUN! TOO LONG EXECUTION\n",
    "# printProgressBar(0, len(ncbi_id.index))\n",
    "# ant_len = len(ncbi_id.index)\n",
    "# with open(\"../data/antigen_seqs_ncbi.fasta\", \"w\") as fasta, open(\"../logs/log_ncbi.txt\",\"w\") as log:\n",
    "#     for i, acc_num in enumerate(ncbi_id.index):\n",
    "#         try:\n",
    "#             handle = Entrez.efetch(id = acc_num, db = \"protein\", rettype=\"fasta\", retmode=\"text\")\n",
    "#             fasta.write(handle.read())\n",
    "#         except HTTPError as e:\n",
    "#             log.write(f\"{acc_num} {e.response}\\n\")\n",
    "#         printProgressBar(i, ant_len)\n"
   ]
  },
  {
   "cell_type": "markdown",
   "metadata": {},
   "source": [
    "Все последовательности успешно скачались"
   ]
  },
  {
   "cell_type": "markdown",
   "metadata": {},
   "source": [
    "## Объединим все референсы в один словарь"
   ]
  },
  {
   "cell_type": "code",
   "execution_count": 63,
   "metadata": {
    "pycharm": {
     "name": "#%%\n"
    }
   },
   "outputs": [],
   "source": [
    "all_seqs = {}\n",
    "for seq, ind in zip(SeqIO.parse(\"../data/antigen_seqs_uniprot1.fasta\",\"fasta\"),uniprot_id):\n",
    "    all_seqs[ind] = seq.seq"
   ]
  },
  {
   "cell_type": "code",
   "execution_count": 64,
   "metadata": {
    "pycharm": {
     "name": "#%%\n"
    }
   },
   "outputs": [],
   "source": [
    "for seq, ind in zip(SeqIO.parse(\"../data/antigen_seqs_ncbi.fasta\",\"fasta\"),ncbi_id):\n",
    "    all_seqs[ind] = seq.seq"
   ]
  },
  {
   "cell_type": "code",
   "execution_count": 65,
   "metadata": {
    "pycharm": {
     "name": "#%%\n"
    }
   },
   "outputs": [
    {
     "name": "stdout",
     "output_type": "stream",
     "text": [
      "9947\n",
      "9947\n"
     ]
    }
   ],
   "source": [
    "print(len(all_seqs.keys()))\n",
    "print(combined[\"source_antigen_accession\"].nunique())"
   ]
  },
  {
   "cell_type": "code",
   "execution_count": 66,
   "metadata": {
    "pycharm": {
     "name": "#%%\n"
    }
   },
   "outputs": [],
   "source": [
    "combined[\"e_ref_start\"] = combined[\"e_ref_start\"].apply(int)\n",
    "combined[\"e_ref_end\"] = combined[\"e_ref_end\"].apply(int)"
   ]
  },
  {
   "cell_type": "markdown",
   "metadata": {},
   "source": [
    "Проверим, сколько эпитопов вырезано именно из референсной последовательности"
   ]
  },
  {
   "cell_type": "code",
   "execution_count": 74,
   "metadata": {
    "pycharm": {
     "name": "#%%\n"
    }
   },
   "outputs": [
    {
     "name": "stdout",
     "output_type": "stream",
     "text": [
      "P03452\n",
      "GVTAACSHAGK\n",
      "GVTAACSHEGKSSF\n",
      "P08779\n",
      "ISSVLAGASCPA\n",
      "RISSVLAGGSCRAPS\n",
      "P08779\n",
      "ISSVLAGASCPA\n",
      "RISSVLAGGSCRAPS\n",
      "P08779\n",
      "ISSVLAGASCPA\n",
      "RISSVLAGGSCRAPS\n",
      "QHD43415.1\n",
      "GNAAISDYDYYRYNl\n",
      "GLNDNLLEILQKEKVNIN\n",
      "QHD43415.1\n",
      "GNAAISDYDYYRYNl\n",
      "GLNDNLLEILQKEKVNIN\n",
      "P03452\n",
      "GVTAACSHAGK\n",
      "GVTAACSHEGKSSF\n",
      "Failed 7 Success 4 Success_without_coords 131628\n"
     ]
    }
   ],
   "source": [
    "success = 0\n",
    "success_with_wrong_coords = 0\n",
    "failed = 0\n",
    "\n",
    "failed_id = []\n",
    "for ind in combined.index:\n",
    "    key = combined.loc[ind,\"source_antigen_accession\"]\n",
    "    if combined.loc[ind,\"linear_peptide_seq\"] in all_seqs[key]:\n",
    "        #+1 от начала, потому что нумерация в питоне с 0\n",
    "        #+1 от конца, потому что конец не захватывается при индексации\n",
    "        if all_seqs[key][combined.loc[ind,\"e_ref_start\"]+1:combined.loc[ind,\"e_ref_end\"]+1] == combined.loc[ind, \"linear_peptide_seq\"]:\n",
    "            success += 1\n",
    "        else:\n",
    "            success_with_wrong_coords += 1\n",
    "    else:\n",
    "        failed += 1\n",
    "        failed_id.append(key)\n",
    "        print(key)\n",
    "        print(combined.loc[ind,\"linear_peptide_seq\"])\n",
    "        print(str(all_seqs[key][combined.loc[ind,\"e_ref_start\"]-2:combined.loc[ind,\"e_ref_end\"]+2]))\n",
    "        #print(str(uniprot_full_seqs_dict[uniprot.loc[ind,\"source_antigen_accession\"]]))\n",
    "\n",
    "print(f\"Failed {failed} Success {success} Success_without_coords {success_with_wrong_coords}\")"
   ]
  },
  {
   "cell_type": "markdown",
   "metadata": {},
   "source": [
    "Практически все последовательности не мапируются на референс по указанным координатам, но они присутствуют в нем. Эпитопы, которые совсем не мапируются на референс, необходимо исключить. Они не мапируются из-за небольших различий между референсом."
   ]
  },
  {
   "cell_type": "code",
   "execution_count": 75,
   "metadata": {
    "pycharm": {
     "name": "#%%\n"
    }
   },
   "outputs": [],
   "source": [
    "combined = combined[~combined[\"source_antigen_accession\"].isin(failed_id)]"
   ]
  },
  {
   "cell_type": "markdown",
   "metadata": {},
   "source": [
    "## Сайты расщепления"
   ]
  },
  {
   "cell_type": "markdown",
   "metadata": {},
   "source": [
    "Поскольку здесь присутствуют данные об экспериментах с разным дизайном, в качестве сайта разрезания будем брать только С-конец пептидов. Также исключим повторяющиеся записи"
   ]
  },
  {
   "cell_type": "code",
   "execution_count": 82,
   "metadata": {
    "pycharm": {
     "name": "#%%\n"
    }
   },
   "outputs": [],
   "source": [
    "combined = combined.drop_duplicates(subset=\"curated_epitope_id\", ignore_index = True)"
   ]
  },
  {
   "cell_type": "code",
   "execution_count": 84,
   "metadata": {
    "pycharm": {
     "name": "#%%\n"
    }
   },
   "outputs": [
    {
     "data": {
      "text/plain": [
       "(47178, 11)"
      ]
     },
     "execution_count": 84,
     "metadata": {},
     "output_type": "execute_result"
    }
   ],
   "source": [
    "combined.shape"
   ]
  },
  {
   "cell_type": "code",
   "execution_count": 83,
   "metadata": {
    "pycharm": {
     "name": "#%%\n"
    }
   },
   "outputs": [],
   "source": [
    "def getNextLetterAfterSegment(acc_num,segment):\n",
    "    seq = all_seqs[acc_num]\n",
    "    return seq[seq.find(segment)+1]"
   ]
  },
  {
   "cell_type": "code",
   "execution_count": 85,
   "metadata": {
    "pycharm": {
     "name": "#%%\n"
    }
   },
   "outputs": [
    {
     "data": {
      "text/html": [
       "<div>\n",
       "<style scoped>\n",
       "    .dataframe tbody tr th:only-of-type {\n",
       "        vertical-align: middle;\n",
       "    }\n",
       "\n",
       "    .dataframe tbody tr th {\n",
       "        vertical-align: top;\n",
       "    }\n",
       "\n",
       "    .dataframe thead th {\n",
       "        text-align: right;\n",
       "    }\n",
       "</style>\n",
       "<table border=\"1\" class=\"dataframe\">\n",
       "  <thead>\n",
       "    <tr style=\"text-align: right;\">\n",
       "      <th></th>\n",
       "      <th>curated_epitope_id</th>\n",
       "      <th>linear_peptide_seq</th>\n",
       "      <th>source_antigen_accession</th>\n",
       "      <th>source_organism_org_id</th>\n",
       "      <th>e_ref_start</th>\n",
       "      <th>e_ref_end</th>\n",
       "      <th>mhc_allele_name</th>\n",
       "      <th>class</th>\n",
       "      <th>typeSource</th>\n",
       "      <th>N</th>\n",
       "      <th>C</th>\n",
       "    </tr>\n",
       "  </thead>\n",
       "  <tbody>\n",
       "    <tr>\n",
       "      <th>0</th>\n",
       "      <td>1433183.0</td>\n",
       "      <td>AYKKQFSQY</td>\n",
       "      <td>NP_000960.2</td>\n",
       "      <td>9606.0</td>\n",
       "      <td>217</td>\n",
       "      <td>225</td>\n",
       "      <td>HLA-A*30:02</td>\n",
       "      <td>I</td>\n",
       "      <td>NCBI</td>\n",
       "      <td>Y</td>\n",
       "      <td>Y</td>\n",
       "    </tr>\n",
       "    <tr>\n",
       "      <th>1</th>\n",
       "      <td>316179.0</td>\n",
       "      <td>YTIPPGHQV</td>\n",
       "      <td>AAB39951.1</td>\n",
       "      <td>9606.0</td>\n",
       "      <td>399</td>\n",
       "      <td>407</td>\n",
       "      <td>HLA-B*15:16</td>\n",
       "      <td>I</td>\n",
       "      <td>NCBI</td>\n",
       "      <td>V</td>\n",
       "      <td>T</td>\n",
       "    </tr>\n",
       "    <tr>\n",
       "      <th>2</th>\n",
       "      <td>316182.0</td>\n",
       "      <td>ITNTVGSSI</td>\n",
       "      <td>AAA58502.1</td>\n",
       "      <td>9606.0</td>\n",
       "      <td>445</td>\n",
       "      <td>453</td>\n",
       "      <td>HLA-B*15:16</td>\n",
       "      <td>I</td>\n",
       "      <td>NCBI</td>\n",
       "      <td>I</td>\n",
       "      <td>T</td>\n",
       "    </tr>\n",
       "    <tr>\n",
       "      <th>3</th>\n",
       "      <td>316178.0</td>\n",
       "      <td>LTDPSQRLV</td>\n",
       "      <td>CAA61107.1</td>\n",
       "      <td>9606.0</td>\n",
       "      <td>370</td>\n",
       "      <td>378</td>\n",
       "      <td>HLA-B*15:16</td>\n",
       "      <td>I</td>\n",
       "      <td>NCBI</td>\n",
       "      <td>V</td>\n",
       "      <td>T</td>\n",
       "    </tr>\n",
       "    <tr>\n",
       "      <th>4</th>\n",
       "      <td>316176.0</td>\n",
       "      <td>VSYGSIVTY</td>\n",
       "      <td>AAA35786.1</td>\n",
       "      <td>9606.0</td>\n",
       "      <td>295</td>\n",
       "      <td>303</td>\n",
       "      <td>HLA-B*15:16</td>\n",
       "      <td>I</td>\n",
       "      <td>NCBI</td>\n",
       "      <td>Y</td>\n",
       "      <td>S</td>\n",
       "    </tr>\n",
       "  </tbody>\n",
       "</table>\n",
       "</div>"
      ],
      "text/plain": [
       "  curated_epitope_id linear_peptide_seq source_antigen_accession  \\\n",
       "0          1433183.0          AYKKQFSQY              NP_000960.2   \n",
       "1           316179.0          YTIPPGHQV               AAB39951.1   \n",
       "2           316182.0          ITNTVGSSI               AAA58502.1   \n",
       "3           316178.0          LTDPSQRLV               CAA61107.1   \n",
       "4           316176.0          VSYGSIVTY               AAA35786.1   \n",
       "\n",
       "  source_organism_org_id  e_ref_start  e_ref_end mhc_allele_name class  \\\n",
       "0                 9606.0          217        225     HLA-A*30:02     I   \n",
       "1                 9606.0          399        407     HLA-B*15:16     I   \n",
       "2                 9606.0          445        453     HLA-B*15:16     I   \n",
       "3                 9606.0          370        378     HLA-B*15:16     I   \n",
       "4                 9606.0          295        303     HLA-B*15:16     I   \n",
       "\n",
       "  typeSource  N  C  \n",
       "0       NCBI  Y  Y  \n",
       "1       NCBI  V  T  \n",
       "2       NCBI  I  T  \n",
       "3       NCBI  V  T  \n",
       "4       NCBI  Y  S  "
      ]
     },
     "execution_count": 85,
     "metadata": {},
     "output_type": "execute_result"
    }
   ],
   "source": [
    "for i in combined.index:\n",
    "    combined.loc[i, \"N\"] = combined.loc[i,\"linear_peptide_seq\"][-1]\n",
    "    combined.loc[i, \"C\"] = getNextLetterAfterSegment(combined.loc[i,\"source_antigen_accession\"], combined.loc[i,\"linear_peptide_seq\"])\n",
    "combined.head()"
   ]
  },
  {
   "cell_type": "code",
   "execution_count": 86,
   "metadata": {
    "pycharm": {
     "name": "#%%\n"
    }
   },
   "outputs": [
    {
     "name": "stderr",
     "output_type": "stream",
     "text": [
      "/tmp/ipykernel_3512/620725847.py:1: SettingWithCopyWarning: \n",
      "A value is trying to be set on a copy of a slice from a DataFrame.\n",
      "Try using .loc[row_indexer,col_indexer] = value instead\n",
      "\n",
      "See the caveats in the documentation: https://pandas.pydata.org/pandas-docs/stable/user_guide/indexing.html#returning-a-view-versus-a-copy\n",
      "  combined[\"NC\"] = combined[\"N\"] + combined[\"C\"]\n"
     ]
    }
   ],
   "source": [
    "combined[\"NC\"] = combined[\"N\"] + combined[\"C\"]"
   ]
  },
  {
   "cell_type": "code",
   "execution_count": 90,
   "metadata": {
    "pycharm": {
     "name": "#%%\n"
    }
   },
   "outputs": [
    {
     "data": {
      "text/plain": [
       "LL    0.05581\n",
       "VL    0.05437\n",
       "LE    0.03955\n",
       "LP    0.03065\n",
       "KL    0.02630\n",
       "       ...   \n",
       "CN    0.00004\n",
       "CD    0.00004\n",
       "NC    0.00002\n",
       "EW    0.00002\n",
       "DC    0.00002\n",
       "Name: NC, Length: 398, dtype: float64"
      ]
     },
     "execution_count": 90,
     "metadata": {},
     "output_type": "execute_result"
    }
   ],
   "source": [
    "round(combined[\"NC\"].value_counts() / len(combined.index),5)"
   ]
  },
  {
   "cell_type": "code",
   "execution_count": 91,
   "metadata": {
    "pycharm": {
     "name": "#%%\n"
    }
   },
   "outputs": [
    {
     "data": {
      "text/html": [
       "<div>\n",
       "<style scoped>\n",
       "    .dataframe tbody tr th:only-of-type {\n",
       "        vertical-align: middle;\n",
       "    }\n",
       "\n",
       "    .dataframe tbody tr th {\n",
       "        vertical-align: top;\n",
       "    }\n",
       "\n",
       "    .dataframe thead th {\n",
       "        text-align: right;\n",
       "    }\n",
       "</style>\n",
       "<table border=\"1\" class=\"dataframe\">\n",
       "  <thead>\n",
       "    <tr style=\"text-align: right;\">\n",
       "      <th></th>\n",
       "      <th>N</th>\n",
       "    </tr>\n",
       "  </thead>\n",
       "  <tbody>\n",
       "    <tr>\n",
       "      <th>L</th>\n",
       "      <td>0.23142</td>\n",
       "    </tr>\n",
       "    <tr>\n",
       "      <th>Y</th>\n",
       "      <td>0.13697</td>\n",
       "    </tr>\n",
       "    <tr>\n",
       "      <th>K</th>\n",
       "      <td>0.12824</td>\n",
       "    </tr>\n",
       "    <tr>\n",
       "      <th>V</th>\n",
       "      <td>0.11259</td>\n",
       "    </tr>\n",
       "    <tr>\n",
       "      <th>F</th>\n",
       "      <td>0.08362</td>\n",
       "    </tr>\n",
       "  </tbody>\n",
       "</table>\n",
       "</div>"
      ],
      "text/plain": [
       "         N\n",
       "L  0.23142\n",
       "Y  0.13697\n",
       "K  0.12824\n",
       "V  0.11259\n",
       "F  0.08362"
      ]
     },
     "execution_count": 91,
     "metadata": {},
     "output_type": "execute_result"
    }
   ],
   "source": [
    "freqs = pd.DataFrame(round(combined[\"N\"].value_counts() / len(combined.index),5))\n",
    "freqs.head()"
   ]
  },
  {
   "cell_type": "code",
   "execution_count": 94,
   "metadata": {
    "pycharm": {
     "name": "#%%\n"
    }
   },
   "outputs": [
    {
     "data": {
      "text/plain": [
       "<AxesSubplot:>"
      ]
     },
     "execution_count": 94,
     "metadata": {},
     "output_type": "execute_result"
    },
    {
     "data": {
      "image/png": "[encoded data removed]",
      "text/plain": [
       "<Figure size 432x288 with 1 Axes>"
      ]
     },
     "metadata": {
      "needs_background": "light"
     },
     "output_type": "display_data"
    }
   ],
   "source": [
    "freqs[\"N\"].sort_index().plot.bar()"
   ]
  }
 ],
 "metadata": {
  "kernelspec": {
   "display_name": "Python 3 (ipykernel)",
   "language": "python",
   "name": "python3"
  },
  "language_info": {
   "codemirror_mode": {
    "name": "ipython",
    "version": 3
   },
   "file_extension": ".py",
   "mimetype": "text/x-python",
   "name": "python",
   "nbconvert_exporter": "python",
   "pygments_lexer": "ipython3",
   "version": "3.9.12"
  },
  "latex_envs": {
   "LaTeX_envs_menu_present": true,
   "autoclose": false,
   "autocomplete": true,
   "bibliofile": "biblio.bib",
   "cite_by": "apalike",
   "current_citInitial": 1,
   "eqLabelWithNumbers": true,
   "eqNumInitial": 1,
   "hotkeys": {
    "equation": "Ctrl-E",
    "itemize": "Ctrl-I"
   },
   "labels_anchors": false,
   "latex_user_defs": false,
   "report_style_numbering": false,
   "user_envs_cfg": false
  },
  "toc": {
   "base_numbering": 1,
   "nav_menu": {},
   "number_sections": true,
   "sideBar": true,
   "skip_h1_title": false,
   "title_cell": "Table of Contents",
   "title_sidebar": "Contents",
   "toc_cell": false,
   "toc_position": {},
   "toc_section_display": true,
   "toc_window_display": false
  }
 },
 "nbformat": 4,
 "nbformat_minor": 1
}
