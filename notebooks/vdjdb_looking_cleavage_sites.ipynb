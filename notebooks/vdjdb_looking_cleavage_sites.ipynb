{
 "cells": [
  {
   "cell_type": "markdown",
   "metadata": {
    "citation-manager": {
     "citations": {
      "douc2": [
       {
        "id": "13080035/J9SN38RQ",
        "source": "zotero"
       }
      ]
     }
    },
    "pycharm": {
     "name": "#%% md\n"
    },
    "tags": []
   },
   "source": [
    "# 2. Поиск сайтов протеолиза белков протеосомой по данным VDJdb<cite id=\"douc2\"><a href=\"#zotero%7C13080035%2FJ9SN38RQ\">(Bagaev et al., 2020)</a></cite>"
   ]
  },
  {
   "cell_type": "markdown",
   "metadata": {
    "pycharm": {
     "name": "#%% md\n"
    },
    "tags": []
   },
   "source": [
    "Антон Смирнов, 20.01.2023"
   ]
  },
  {
   "cell_type": "markdown",
   "metadata": {},
   "source": [
    "# Предварительные настройки"
   ]
  },
  {
   "cell_type": "code",
   "execution_count": 1,
   "metadata": {
    "pycharm": {
     "name": "#%%\n"
    }
   },
   "outputs": [],
   "source": [
    "import pandas as pd\n",
    "import numpy as np\n",
    "import matplotlib.pyplot as plt\n",
    "import json\n",
    "from datetime import datetime\n",
    "from urllib.error import HTTPError\n",
    "from Bio import Entrez, SeqIO\n",
    "from io import StringIO\n",
    "import logomaker\n",
    "import re"
   ]
  },
  {
   "cell_type": "markdown",
   "metadata": {},
   "source": [
    "**Всегда говори NCBI кто ты**"
   ]
  },
  {
   "cell_type": "code",
   "execution_count": 2,
   "metadata": {
    "pycharm": {
     "name": "#%%\n"
    }
   },
   "outputs": [],
   "source": [
    "Entrez.email = \"anton.smirnov.9910@gmail.com\"\n",
    "Entrez.api_key = \"67a161eb14f134f9d7e50e111f957429f808\""
   ]
  },
  {
   "cell_type": "code",
   "execution_count": 3,
   "metadata": {
    "pycharm": {
     "name": "#%%\n"
    }
   },
   "outputs": [],
   "source": [
    "# Print iterations progress\n",
    "def printProgressBar (iteration, total, prefix = '', suffix = '', decimals = 1, length = 100, fill = '█', printEnd = \"\\r\"):\n",
    "    \"\"\"\n",
    "    Call in a loop to create terminal progress bar\n",
    "    @params:\n",
    "        iteration   - Required  : current iteration (Int)\n",
    "        total       - Required  : total iterations (Int)\n",
    "        prefix      - Optional  : prefix string (Str)\n",
    "        suffix      - Optional  : suffix string (Str)\n",
    "        decimals    - Optional  : positive number of decimals in percent complete (Int)\n",
    "        length      - Optional  : character length of bar (Int)\n",
    "        fill        - Optional  : bar fill character (Str)\n",
    "        printEnd    - Optional  : end character (e.g. \"\\r\", \"\\r\\n\") (Str)\n",
    "    \"\"\"\n",
    "    percent = (\"{0:.\" + str(decimals) + \"f}\").format(100 * (iteration / float(total)))\n",
    "    filledLength = int(length * iteration // total)\n",
    "    bar = fill * filledLength + '-' * (length - filledLength)\n",
    "    print(f'\\r{prefix} |{bar}| {percent}% {suffix}', end = printEnd)\n",
    "    # Print New Line on Complete\n",
    "    if iteration == total:\n",
    "        print()"
   ]
  },
  {
   "cell_type": "code",
   "execution_count": 4,
   "metadata": {
    "pycharm": {
     "name": "#%%\n"
    }
   },
   "outputs": [],
   "source": [
    "def isCorrectSequence(seq):\n",
    "    alphabet = list(\"ACDEFGHIKLMNPQRSTVWY\")\n",
    "    seq = seq.strip()\n",
    "    for i in range(0,len(seq)):\n",
    "        if seq[i] not in alphabet:\n",
    "            return False\n",
    "    return True"
   ]
  },
  {
   "cell_type": "markdown",
   "metadata": {},
   "source": [
    "Для описания сайтов разрезания берем С-конец эпитопа. Для полноты картины нужна аминокислота, следующая после С-конца эпитопа. Для этого нужна референсная последовательность и большая часть кода посвящена их извлечению."
   ]
  },
  {
   "cell_type": "code",
   "execution_count": 5,
   "metadata": {
    "pycharm": {
     "name": "#%%\n"
    }
   },
   "outputs": [
    {
     "data": {
      "text/html": [
       "<div>\n",
       "<style scoped>\n",
       "    .dataframe tbody tr th:only-of-type {\n",
       "        vertical-align: middle;\n",
       "    }\n",
       "\n",
       "    .dataframe tbody tr th {\n",
       "        vertical-align: top;\n",
       "    }\n",
       "\n",
       "    .dataframe thead th {\n",
       "        text-align: right;\n",
       "    }\n",
       "</style>\n",
       "<table border=\"1\" class=\"dataframe\">\n",
       "  <thead>\n",
       "    <tr style=\"text-align: right;\">\n",
       "      <th></th>\n",
       "      <th>complex.id</th>\n",
       "      <th>Gene</th>\n",
       "      <th>CDR3</th>\n",
       "      <th>V</th>\n",
       "      <th>J</th>\n",
       "      <th>Species</th>\n",
       "      <th>MHC A</th>\n",
       "      <th>MHC B</th>\n",
       "      <th>MHC class</th>\n",
       "      <th>Epitope</th>\n",
       "      <th>Epitope gene</th>\n",
       "      <th>Epitope species</th>\n",
       "      <th>Reference</th>\n",
       "      <th>Method</th>\n",
       "      <th>Meta</th>\n",
       "      <th>CDR3fix</th>\n",
       "      <th>Score</th>\n",
       "    </tr>\n",
       "  </thead>\n",
       "  <tbody>\n",
       "    <tr>\n",
       "      <th>0</th>\n",
       "      <td>1</td>\n",
       "      <td>TRA</td>\n",
       "      <td>CIVRAPGRADMRF</td>\n",
       "      <td>TRAV26-1*01</td>\n",
       "      <td>TRAJ43*01</td>\n",
       "      <td>HomoSapiens</td>\n",
       "      <td>HLA-B*08</td>\n",
       "      <td>B2M</td>\n",
       "      <td>MHCI</td>\n",
       "      <td>FLKEKGGL</td>\n",
       "      <td>Nef</td>\n",
       "      <td>HIV-1</td>\n",
       "      <td>PMID:15596521</td>\n",
       "      <td>{\"frequency\": \"\", \"identification\": \"tetramer-...</td>\n",
       "      <td>{\"cell.subset\": \"CD8+\", \"clone.id\": \"\", \"donor...</td>\n",
       "      <td>{\"cdr3\": \"CIVRAPGRADMRF\", \"cdr3_old\": \"CIVRAPG...</td>\n",
       "      <td>2</td>\n",
       "    </tr>\n",
       "    <tr>\n",
       "      <th>1</th>\n",
       "      <td>1</td>\n",
       "      <td>TRB</td>\n",
       "      <td>CASSYLPGQGDHYSNQPQHF</td>\n",
       "      <td>TRBV13*01</td>\n",
       "      <td>TRBJ1-5*01</td>\n",
       "      <td>HomoSapiens</td>\n",
       "      <td>HLA-B*08</td>\n",
       "      <td>B2M</td>\n",
       "      <td>MHCI</td>\n",
       "      <td>FLKEKGGL</td>\n",
       "      <td>Nef</td>\n",
       "      <td>HIV-1</td>\n",
       "      <td>PMID:15596521</td>\n",
       "      <td>{\"frequency\": \"\", \"identification\": \"tetramer-...</td>\n",
       "      <td>{\"cell.subset\": \"CD8+\", \"clone.id\": \"\", \"donor...</td>\n",
       "      <td>{\"cdr3\": \"CASSYLPGQGDHYSNQPQHF\", \"cdr3_old\": \"...</td>\n",
       "      <td>2</td>\n",
       "    </tr>\n",
       "    <tr>\n",
       "      <th>2</th>\n",
       "      <td>0</td>\n",
       "      <td>TRB</td>\n",
       "      <td>CASSFEAGQGFFSNQPQHF</td>\n",
       "      <td>TRBV13*01</td>\n",
       "      <td>TRBJ1-5*01</td>\n",
       "      <td>HomoSapiens</td>\n",
       "      <td>HLA-B*08</td>\n",
       "      <td>B2M</td>\n",
       "      <td>MHCI</td>\n",
       "      <td>FLKEKGGL</td>\n",
       "      <td>Nef</td>\n",
       "      <td>HIV-1</td>\n",
       "      <td>PMID:15596521</td>\n",
       "      <td>{\"frequency\": \"\", \"identification\": \"tetramer-...</td>\n",
       "      <td>{\"cell.subset\": \"CD8+\", \"clone.id\": \"\", \"donor...</td>\n",
       "      <td>{\"cdr3\": \"CASSFEAGQGFFSNQPQHF\", \"cdr3_old\": \"C...</td>\n",
       "      <td>2</td>\n",
       "    </tr>\n",
       "    <tr>\n",
       "      <th>3</th>\n",
       "      <td>2</td>\n",
       "      <td>TRA</td>\n",
       "      <td>CAVPSGAGSYQLTF</td>\n",
       "      <td>TRAV20*01</td>\n",
       "      <td>TRAJ28*01</td>\n",
       "      <td>HomoSapiens</td>\n",
       "      <td>HLA-B*08</td>\n",
       "      <td>B2M</td>\n",
       "      <td>MHCI</td>\n",
       "      <td>FLKEKGGL</td>\n",
       "      <td>Nef</td>\n",
       "      <td>HIV-1</td>\n",
       "      <td>PMID:15596521</td>\n",
       "      <td>{\"frequency\": \"\", \"identification\": \"tetramer-...</td>\n",
       "      <td>{\"cell.subset\": \"CD8+\", \"clone.id\": \"\", \"donor...</td>\n",
       "      <td>{\"cdr3\": \"CAVPSGAGSYQLTF\", \"cdr3_old\": \"CAVPSG...</td>\n",
       "      <td>2</td>\n",
       "    </tr>\n",
       "    <tr>\n",
       "      <th>4</th>\n",
       "      <td>2</td>\n",
       "      <td>TRB</td>\n",
       "      <td>CASSFEPGQGFYSNQPQHF</td>\n",
       "      <td>TRBV13*01</td>\n",
       "      <td>TRBJ1-5*01</td>\n",
       "      <td>HomoSapiens</td>\n",
       "      <td>HLA-B*08</td>\n",
       "      <td>B2M</td>\n",
       "      <td>MHCI</td>\n",
       "      <td>FLKEKGGL</td>\n",
       "      <td>Nef</td>\n",
       "      <td>HIV-1</td>\n",
       "      <td>PMID:15596521</td>\n",
       "      <td>{\"frequency\": \"\", \"identification\": \"tetramer-...</td>\n",
       "      <td>{\"cell.subset\": \"CD8+\", \"clone.id\": \"\", \"donor...</td>\n",
       "      <td>{\"cdr3\": \"CASSFEPGQGFYSNQPQHF\", \"cdr3_old\": \"C...</td>\n",
       "      <td>2</td>\n",
       "    </tr>\n",
       "  </tbody>\n",
       "</table>\n",
       "</div>"
      ],
      "text/plain": [
       "   complex.id Gene                  CDR3            V           J  \\\n",
       "0           1  TRA         CIVRAPGRADMRF  TRAV26-1*01   TRAJ43*01   \n",
       "1           1  TRB  CASSYLPGQGDHYSNQPQHF    TRBV13*01  TRBJ1-5*01   \n",
       "2           0  TRB   CASSFEAGQGFFSNQPQHF    TRBV13*01  TRBJ1-5*01   \n",
       "3           2  TRA        CAVPSGAGSYQLTF    TRAV20*01   TRAJ28*01   \n",
       "4           2  TRB   CASSFEPGQGFYSNQPQHF    TRBV13*01  TRBJ1-5*01   \n",
       "\n",
       "       Species     MHC A MHC B MHC class   Epitope Epitope gene  \\\n",
       "0  HomoSapiens  HLA-B*08   B2M      MHCI  FLKEKGGL          Nef   \n",
       "1  HomoSapiens  HLA-B*08   B2M      MHCI  FLKEKGGL          Nef   \n",
       "2  HomoSapiens  HLA-B*08   B2M      MHCI  FLKEKGGL          Nef   \n",
       "3  HomoSapiens  HLA-B*08   B2M      MHCI  FLKEKGGL          Nef   \n",
       "4  HomoSapiens  HLA-B*08   B2M      MHCI  FLKEKGGL          Nef   \n",
       "\n",
       "  Epitope species      Reference  \\\n",
       "0           HIV-1  PMID:15596521   \n",
       "1           HIV-1  PMID:15596521   \n",
       "2           HIV-1  PMID:15596521   \n",
       "3           HIV-1  PMID:15596521   \n",
       "4           HIV-1  PMID:15596521   \n",
       "\n",
       "                                              Method  \\\n",
       "0  {\"frequency\": \"\", \"identification\": \"tetramer-...   \n",
       "1  {\"frequency\": \"\", \"identification\": \"tetramer-...   \n",
       "2  {\"frequency\": \"\", \"identification\": \"tetramer-...   \n",
       "3  {\"frequency\": \"\", \"identification\": \"tetramer-...   \n",
       "4  {\"frequency\": \"\", \"identification\": \"tetramer-...   \n",
       "\n",
       "                                                Meta  \\\n",
       "0  {\"cell.subset\": \"CD8+\", \"clone.id\": \"\", \"donor...   \n",
       "1  {\"cell.subset\": \"CD8+\", \"clone.id\": \"\", \"donor...   \n",
       "2  {\"cell.subset\": \"CD8+\", \"clone.id\": \"\", \"donor...   \n",
       "3  {\"cell.subset\": \"CD8+\", \"clone.id\": \"\", \"donor...   \n",
       "4  {\"cell.subset\": \"CD8+\", \"clone.id\": \"\", \"donor...   \n",
       "\n",
       "                                             CDR3fix  Score  \n",
       "0  {\"cdr3\": \"CIVRAPGRADMRF\", \"cdr3_old\": \"CIVRAPG...      2  \n",
       "1  {\"cdr3\": \"CASSYLPGQGDHYSNQPQHF\", \"cdr3_old\": \"...      2  \n",
       "2  {\"cdr3\": \"CASSFEAGQGFFSNQPQHF\", \"cdr3_old\": \"C...      2  \n",
       "3  {\"cdr3\": \"CAVPSGAGSYQLTF\", \"cdr3_old\": \"CAVPSG...      2  \n",
       "4  {\"cdr3\": \"CASSFEPGQGFYSNQPQHF\", \"cdr3_old\": \"C...      2  "
      ]
     },
     "execution_count": 5,
     "metadata": {},
     "output_type": "execute_result"
    }
   ],
   "source": [
    "vdjdb = pd.read_csv(\"../data/source/VDJdb-2022-11-13-22-41.tsv\", sep = \"\\t\", header=0)\n",
    "vdjdb.head()"
   ]
  },
  {
   "cell_type": "code",
   "execution_count": 73,
   "metadata": {},
   "outputs": [
    {
     "data": {
      "text/plain": [
       "1150"
      ]
     },
     "execution_count": 73,
     "metadata": {},
     "output_type": "execute_result"
    }
   ],
   "source": [
    "len(vdjdb['Epitope'].unique())"
   ]
  },
  {
   "cell_type": "markdown",
   "metadata": {
    "pycharm": {
     "name": "#%% md\n"
    }
   },
   "source": [
    "## Первичная фильтрация"
   ]
  },
  {
   "cell_type": "markdown",
   "metadata": {},
   "source": [
    "Сайты разрезания ищем только для человеческих МНС 1 класса"
   ]
  },
  {
   "cell_type": "code",
   "execution_count": 6,
   "metadata": {
    "pycharm": {
     "name": "#%%\n"
    }
   },
   "outputs": [
    {
     "data": {
      "text/plain": [
       "(86160, 17)"
      ]
     },
     "execution_count": 6,
     "metadata": {},
     "output_type": "execute_result"
    }
   ],
   "source": [
    "vdjdb_filtered = vdjdb[vdjdb[\"MHC class\"] == \"MHCI\"]\n",
    "vdjdb_filtered.shape"
   ]
  },
  {
   "cell_type": "code",
   "execution_count": 7,
   "metadata": {
    "pycharm": {
     "name": "#%%\n"
    }
   },
   "outputs": [
    {
     "data": {
      "text/plain": [
       "(78770, 17)"
      ]
     },
     "execution_count": 7,
     "metadata": {},
     "output_type": "execute_result"
    }
   ],
   "source": [
    "vdjdb_filtered = vdjdb_filtered[vdjdb_filtered[\"Species\"] == \"HomoSapiens\"]\n",
    "vdjdb_filtered.shape"
   ]
  },
  {
   "cell_type": "markdown",
   "metadata": {
    "pycharm": {
     "name": "#%% md\n"
    }
   },
   "source": [
    "Оставляем с нормально записанной последовательностью и не пустыми полями про источник"
   ]
  },
  {
   "cell_type": "code",
   "execution_count": 8,
   "metadata": {
    "pycharm": {
     "name": "#%%\n"
    }
   },
   "outputs": [
    {
     "data": {
      "text/plain": [
       "(78770, 17)"
      ]
     },
     "execution_count": 8,
     "metadata": {},
     "output_type": "execute_result"
    }
   ],
   "source": [
    "vdjdb_filtered = vdjdb_filtered[vdjdb_filtered[\"Epitope\"].apply(isCorrectSequence)]\n",
    "vdjdb_filtered.shape"
   ]
  },
  {
   "cell_type": "code",
   "execution_count": 9,
   "metadata": {
    "pycharm": {
     "name": "#%%\n"
    }
   },
   "outputs": [
    {
     "data": {
      "text/plain": [
       "(78738, 17)"
      ]
     },
     "execution_count": 9,
     "metadata": {},
     "output_type": "execute_result"
    }
   ],
   "source": [
    "vdjdb_filtered = vdjdb_filtered[~vdjdb_filtered[\"Epitope gene\"].isna()]\n",
    "vdjdb_filtered.shape"
   ]
  },
  {
   "cell_type": "code",
   "execution_count": 10,
   "metadata": {
    "pycharm": {
     "name": "#%%\n"
    }
   },
   "outputs": [
    {
     "data": {
      "text/plain": [
       "(78738, 17)"
      ]
     },
     "execution_count": 10,
     "metadata": {},
     "output_type": "execute_result"
    }
   ],
   "source": [
    "vdjdb_filtered = vdjdb_filtered[~vdjdb_filtered[\"Epitope species\"].isna()]\n",
    "vdjdb_filtered.shape"
   ]
  },
  {
   "cell_type": "code",
   "execution_count": 11,
   "metadata": {
    "pycharm": {
     "name": "#%%\n"
    }
   },
   "outputs": [
    {
     "data": {
      "text/plain": [
       "(77227, 17)"
      ]
     },
     "execution_count": 11,
     "metadata": {},
     "output_type": "execute_result"
    }
   ],
   "source": [
    "vdjdb_filtered = vdjdb_filtered[~vdjdb_filtered[\"Reference\"].isna()]\n",
    "vdjdb_filtered.shape"
   ]
  },
  {
   "cell_type": "markdown",
   "metadata": {
    "pycharm": {
     "name": "#%% md\n"
    }
   },
   "source": [
    "## Очистка"
   ]
  },
  {
   "cell_type": "markdown",
   "metadata": {
    "pycharm": {
     "name": "#%% md\n"
    }
   },
   "source": [
    "### Названия генов"
   ]
  },
  {
   "cell_type": "code",
   "execution_count": 12,
   "metadata": {
    "pycharm": {
     "name": "#%%\n"
    }
   },
   "outputs": [
    {
     "name": "stdout",
     "output_type": "stream",
     "text": [
      "['Nef' 'pp65' 'Nucleocapsid' 'ORF3' 'ORF1ab' 'Spike' 'NDC1' 'TKT' 'SEC24A'\n",
      " 'AKAP13' 'EXOC8' 'PABPC1' 'MLANA' 'BRLF1' 'Gag' 'IE1' 'EBNA1' 'BZLF1'\n",
      " 'Tax' 'EBNA3A' 'M' 'NY-ESO-1' 'UL40' 'EBNA6' 'Tel1' 'ABCD3' 'BMLF1'\n",
      " 'ELAVL4' 'INS' 'Pol' 'TERT' 'NS3' 'EMC' 'WT1' 'MAGE-A3' 'TITIN'\n",
      " 'synthetic' 'M1-F5L' 'M1-G4E' 'GAG' 'Leader peptide' 'RT' 'NP338'\n",
      " 'ANKRD30A' 'MAGE-A4' 'PMEL' 'P53' 'ENR' 'TP53' 'PIK3CA' 'NS4B' 'BST2'\n",
      " 'IE2' 'UL49' 'NSP3' 'INS-DRiP' 'PTPRN' 'EBNA4' 'EBNA3B' 'pp50' 'NP'\n",
      " 'LMP2A' 'T-Ag' '5T4' 'GANAB' 'GNL3L' 'PGM5' 'SNX24' 'FNDC3B' 'SMARCD3'\n",
      " 'CDK4' 'NS5B' 'SLC30A8' 'KRAS' 'MAGEA6' 'PDS5A' 'MED13' 'RFC5' 'BRAP'\n",
      " 'GINS1' 'DPY19L4' 'RNF19B' 'ASTN1' 'MLL2' 'BCL2L1' 'PLA2G6' 'E7' 'LMP1'\n",
      " 'MAGEA1' 'TYR' 'KanJ' 'MAGEA3' 'KLK3' 'PLCD3' 'PPM1' 'SRPX' 'AHNAK'\n",
      " 'AFMID' 'HELZ2' 'CENPL' 'TPX2' 'WDR46' 'HIVEP2' 'AMPH' 'Vpr' 'Vif'\n",
      " 'Matrix' 'RNP' 'NSP12' 'TXNDC11' 'U2AF2' 'GEMIN' 'CD74' 'PDE4A' 'WDR87'\n",
      " 'FANCI' 'CRISPLD1' 'KLHL7' 'ARMT1' 'gp100' 'SSX2' 'MAGE-A1' 'ABCB5'\n",
      " 'MART1' 'Tyrosinase' 'NY-ESO' 'PORCN' 'AKAP9' 'ZDBF2' 'GCN1L1' 'CDKN2A'\n",
      " 'PDE7B' 'POGK' 'MPV17' 'IE-1' 'UL29/28' 'ARHGAP35' 'p53' 'COL18A1'\n",
      " 'KIF16B' 'KIAA1279' 'XPNPEP1' 'UGGT2' 'PHKA1' 'GNB5' 'FBXO21' 'RECQL5'\n",
      " 'KIAA1967' 'KIAA0368' 'CADPS2' 'NUP98' 'KARS' 'CASP8' 'TUBGCP2' 'RNF213'\n",
      " 'SKIV2L' 'H3F3B' 'API5' 'RNF10' 'PHLPP1' 'ZFYVE27' 'NBAS' 'PPM1F' 'ACTN4'\n",
      " 'ME1' 'SF3B1' 'NRAS' 'ERBB2' 'IGF2BP2' 'ORF10' 'ORF14' 'ORF6' 'ORF7a'\n",
      " 'ORF7b' 'ORF8' 'ORF9b' 'Envelope']\n"
     ]
    }
   ],
   "source": [
    "print(vdjdb_filtered[\"Epitope gene\"].unique())"
   ]
  },
  {
   "cell_type": "markdown",
   "metadata": {
    "pycharm": {
     "name": "#%% md\n"
    }
   },
   "source": [
    "Исключим синтетические конструкты"
   ]
  },
  {
   "cell_type": "code",
   "execution_count": 13,
   "metadata": {
    "pycharm": {
     "name": "#%%\n"
    }
   },
   "outputs": [
    {
     "data": {
      "text/plain": [
       "(77161, 17)"
      ]
     },
     "execution_count": 13,
     "metadata": {},
     "output_type": "execute_result"
    }
   ],
   "source": [
    "vdjdb_filtered = vdjdb_filtered[vdjdb_filtered[\"Epitope gene\"] != \"synthetic\"]\n",
    "vdjdb_filtered.shape"
   ]
  },
  {
   "cell_type": "markdown",
   "metadata": {},
   "source": [
    "Есть ли эпитопы, которые пришли из разных генов?"
   ]
  },
  {
   "cell_type": "code",
   "execution_count": 14,
   "metadata": {},
   "outputs": [
    {
     "name": "stdout",
     "output_type": "stream",
     "text": [
      "IPLTEEAEL ['RT' 'Pol']\n",
      "APRGPHGGAASGL ['NY-ESO-1' 'NY-ESO']\n",
      "HMTEVVRHC ['P53' 'TP53' 'p53']\n"
     ]
    }
   ],
   "source": [
    "epitopes = vdjdb_filtered[\"Epitope\"].unique()\n",
    "for e in epitopes:\n",
    "    v = vdjdb_filtered[vdjdb_filtered[\"Epitope\"] == e]\n",
    "    if len(v[\"Epitope gene\"].unique()) > 1:\n",
    "        print(f\"{e} {v['Epitope gene'].unique()}\")"
   ]
  },
  {
   "cell_type": "markdown",
   "metadata": {},
   "source": [
    "Исправляем аннотацию"
   ]
  },
  {
   "cell_type": "code",
   "execution_count": 15,
   "metadata": {},
   "outputs": [],
   "source": [
    "vdjdb_filtered.loc[vdjdb_filtered[\"Epitope gene\"].str.contains(\"RT\"),\"Epitope gene\"] = \"Pol\"\n",
    "vdjdb_filtered.loc[vdjdb_filtered[\"Epitope gene\"].str.contains(\"NY-ESO\"),\"Epitope gene\"] = \"NY-ESO-1\"\n",
    "vdjdb_filtered.loc[vdjdb_filtered[\"Epitope gene\"].str.contains(\"P53\"),\"Epitope gene\"] = \"TP53\"\n",
    "vdjdb_filtered.loc[vdjdb_filtered[\"Epitope gene\"].str.contains(\"p53\"),\"Epitope gene\"] = \"TP53\""
   ]
  },
  {
   "cell_type": "markdown",
   "metadata": {
    "pycharm": {
     "name": "#%% md\n"
    }
   },
   "source": [
    "### Названия видов"
   ]
  },
  {
   "cell_type": "code",
   "execution_count": 16,
   "metadata": {
    "pycharm": {
     "name": "#%%\n"
    }
   },
   "outputs": [
    {
     "name": "stdout",
     "output_type": "stream",
     "text": [
      "['HIV-1' 'CMV' 'SARS-CoV-2' 'HomoSapiens' 'EBV' 'HTLV-1' 'InfluenzaA'\n",
      " 'SaccharomycesCerevisiae' 'HCV' 'synthetic' 'DENV1' 'DENV3/4'\n",
      " 'M.tuberculosis' 'HIV1' 'Homo sapiens' 'YFV' 'HSV-2' 'DENV2' 'MCPyV'\n",
      " 'HPV' 'StreptomycesKanamyceticus' 'HIV' 'HCoV-HKU1']\n"
     ]
    }
   ],
   "source": [
    "print(vdjdb_filtered[\"Epitope species\"].unique())"
   ]
  },
  {
   "cell_type": "markdown",
   "metadata": {
    "pycharm": {
     "name": "#%% md\n"
    }
   },
   "source": [
    "Исключим синтетические конструкты\n"
   ]
  },
  {
   "cell_type": "code",
   "execution_count": 17,
   "metadata": {
    "pycharm": {
     "name": "#%%\n"
    }
   },
   "outputs": [
    {
     "data": {
      "text/plain": [
       "(77157, 17)"
      ]
     },
     "execution_count": 17,
     "metadata": {},
     "output_type": "execute_result"
    }
   ],
   "source": [
    "vdjdb_filtered = vdjdb_filtered[vdjdb_filtered[\"Epitope species\"] != \"synthetic\"]\n",
    "vdjdb_filtered.shape"
   ]
  },
  {
   "cell_type": "markdown",
   "metadata": {},
   "source": [
    "Исправляем аннотацию"
   ]
  },
  {
   "cell_type": "code",
   "execution_count": 18,
   "metadata": {
    "pycharm": {
     "name": "#%%\n"
    }
   },
   "outputs": [],
   "source": [
    "vdjdb_filtered.loc[vdjdb_filtered[\"Epitope species\"].str.contains(\"HIV\"),\"Epitope species\"] = \"HIV-1\"\n",
    "vdjdb_filtered.loc[vdjdb_filtered[\"Epitope species\"].str.contains(\"HSV-2\"),\"Epitope species\"] = \"HSV2\"\n",
    "vdjdb_filtered.loc[vdjdb_filtered[\"Epitope species\"].str.contains(\"EBV\"),\"Epitope species\"] = \"Human gammaherpesvirus 4\"\n",
    "vdjdb_filtered.loc[vdjdb_filtered[\"Epitope species\"].str.contains(\"CMV\"),\"Epitope species\"] = \"Human betaherpesvirus 5\"\n",
    "vdjdb_filtered.loc[vdjdb_filtered[\"Epitope species\"].str.contains(\"HomoSapiens\"),\"Epitope species\"] = \"Homo sapiens\"\n",
    "vdjdb_filtered.loc[vdjdb_filtered[\"Epitope species\"].str.contains(\"SaccharomycesCerevisiae\"),\"Epitope species\"] = \"Saccharomyces cerevisiae\"\n",
    "vdjdb_filtered.loc[vdjdb_filtered[\"Epitope species\"].str.contains(\"StreptomycesKanamyceticus\"),\"Epitope species\"] = \"Streptomyces kanamyceticus\"\n",
    "vdjdb_filtered.loc[vdjdb_filtered[\"Epitope species\"].str.contains(\"M.tuberculosis\"),\"Epitope species\"] = \"Mycobacterium tuberculosis\"\n",
    "vdjdb_filtered.loc[vdjdb_filtered[\"Epitope species\"].str.contains(\"HPV\"),\"Epitope species\"] = \"Human papillomavirus\"\n",
    "vdjdb_filtered.loc[vdjdb_filtered[\"Epitope species\"].str.contains(\"DENV1\"),\"Epitope species\"] = \"Dengue virus 1\"\n",
    "vdjdb_filtered.loc[vdjdb_filtered[\"Epitope species\"].str.contains(\"DENV2\"),\"Epitope species\"] = \"Dengue virus 2\"\n",
    "vdjdb_filtered.loc[vdjdb_filtered[\"Epitope species\"].str.contains(\"InfluenzaA\"),\"Epitope species\"] = \"Influenza A virus\"\n",
    "vdjdb_filtered.loc[vdjdb_filtered[\"Epitope species\"].str.contains(\"MCPyV\"),\"Epitope species\"] = \"Merkel cell polyomavirus\""
   ]
  },
  {
   "cell_type": "code",
   "execution_count": 19,
   "metadata": {
    "pycharm": {
     "name": "#%%\n"
    }
   },
   "outputs": [],
   "source": [
    "vdjdb_filtered = vdjdb_filtered[vdjdb_filtered[\"Epitope species\"] != \"DENV3/4\"]"
   ]
  },
  {
   "cell_type": "code",
   "execution_count": 20,
   "metadata": {
    "pycharm": {
     "name": "#%%\n"
    }
   },
   "outputs": [
    {
     "name": "stdout",
     "output_type": "stream",
     "text": [
      "['HIV-1' 'Human betaherpesvirus 5' 'SARS-CoV-2' 'Homo sapiens'\n",
      " 'Human gammaherpesvirus 4' 'HTLV-1' 'Influenza A virus'\n",
      " 'Saccharomyces cerevisiae' 'HCV' 'Dengue virus 1'\n",
      " 'Mycobacterium tuberculosis' 'YFV' 'HSV2' 'Dengue virus 2'\n",
      " 'Merkel cell polyomavirus' 'Human papillomavirus'\n",
      " 'Streptomyces kanamyceticus' 'HCoV-HKU1']\n"
     ]
    }
   ],
   "source": [
    "print(vdjdb_filtered[\"Epitope species\"].unique())"
   ]
  },
  {
   "cell_type": "markdown",
   "metadata": {},
   "source": [
    "## Описательная статистика"
   ]
  },
  {
   "cell_type": "code",
   "execution_count": 21,
   "metadata": {
    "pycharm": {
     "name": "#%%\n"
    }
   },
   "outputs": [
    {
     "data": {
      "text/html": [
       "<div>\n",
       "<style scoped>\n",
       "    .dataframe tbody tr th:only-of-type {\n",
       "        vertical-align: middle;\n",
       "    }\n",
       "\n",
       "    .dataframe tbody tr th {\n",
       "        vertical-align: top;\n",
       "    }\n",
       "\n",
       "    .dataframe thead th {\n",
       "        text-align: right;\n",
       "    }\n",
       "</style>\n",
       "<table border=\"1\" class=\"dataframe\">\n",
       "  <thead>\n",
       "    <tr style=\"text-align: right;\">\n",
       "      <th></th>\n",
       "      <th>index</th>\n",
       "      <th>Epitope species</th>\n",
       "    </tr>\n",
       "  </thead>\n",
       "  <tbody>\n",
       "    <tr>\n",
       "      <th>0</th>\n",
       "      <td>Human betaherpesvirus 5</td>\n",
       "      <td>37945</td>\n",
       "    </tr>\n",
       "    <tr>\n",
       "      <th>1</th>\n",
       "      <td>Human gammaherpesvirus 4</td>\n",
       "      <td>11291</td>\n",
       "    </tr>\n",
       "    <tr>\n",
       "      <th>2</th>\n",
       "      <td>Influenza A virus</td>\n",
       "      <td>10509</td>\n",
       "    </tr>\n",
       "    <tr>\n",
       "      <th>3</th>\n",
       "      <td>SARS-CoV-2</td>\n",
       "      <td>7135</td>\n",
       "    </tr>\n",
       "    <tr>\n",
       "      <th>4</th>\n",
       "      <td>Homo sapiens</td>\n",
       "      <td>4870</td>\n",
       "    </tr>\n",
       "  </tbody>\n",
       "</table>\n",
       "</div>"
      ],
      "text/plain": [
       "                      index  Epitope species\n",
       "0   Human betaherpesvirus 5            37945\n",
       "1  Human gammaherpesvirus 4            11291\n",
       "2         Influenza A virus            10509\n",
       "3                SARS-CoV-2             7135\n",
       "4              Homo sapiens             4870"
      ]
     },
     "execution_count": 21,
     "metadata": {},
     "output_type": "execute_result"
    }
   ],
   "source": [
    "vdjdb_filtered[\"Epitope species\"].value_counts().reset_index().loc[0:4]"
   ]
  },
  {
   "cell_type": "code",
   "execution_count": 22,
   "metadata": {
    "pycharm": {
     "name": "#%%\n"
    }
   },
   "outputs": [
    {
     "data": {
      "text/plain": [
       "HomoSapiens    76978\n",
       "Name: Species, dtype: int64"
      ]
     },
     "execution_count": 22,
     "metadata": {},
     "output_type": "execute_result"
    }
   ],
   "source": [
    "vdjdb_filtered[\"Species\"].value_counts()"
   ]
  },
  {
   "cell_type": "code",
   "execution_count": 23,
   "metadata": {
    "pycharm": {
     "name": "#%%\n"
    }
   },
   "outputs": [
    {
     "data": {
      "text/plain": [
       "IE1        28142\n",
       "M          10038\n",
       "pp65        8941\n",
       "EBNA4       5032\n",
       "Spike       2896\n",
       "           ...  \n",
       "TUBGCP2        1\n",
       "KARS           1\n",
       "CADPS2         1\n",
       "CDKN2A         1\n",
       "PHLPP1         1\n",
       "Name: Epitope gene, Length: 168, dtype: int64"
      ]
     },
     "execution_count": 23,
     "metadata": {},
     "output_type": "execute_result"
    }
   ],
   "source": [
    "vdjdb_filtered[\"Epitope gene\"].value_counts()"
   ]
  },
  {
   "cell_type": "code",
   "execution_count": 24,
   "metadata": {
    "pycharm": {
     "name": "#%%\n"
    }
   },
   "outputs": [
    {
     "data": {
      "text/plain": [
       "0    69400\n",
       "1     4575\n",
       "2     1584\n",
       "3     1419\n",
       "Name: Score, dtype: int64"
      ]
     },
     "execution_count": 24,
     "metadata": {},
     "output_type": "execute_result"
    }
   ],
   "source": [
    "vdjdb_filtered[\"Score\"].value_counts()"
   ]
  },
  {
   "cell_type": "code",
   "execution_count": 25,
   "metadata": {},
   "outputs": [
    {
     "name": "stdout",
     "output_type": "stream",
     "text": [
      "20\n"
     ]
    }
   ],
   "source": [
    "print(max(vdjdb_filtered[\"Epitope\"].str.len()))"
   ]
  },
  {
   "cell_type": "code",
   "execution_count": 26,
   "metadata": {},
   "outputs": [],
   "source": [
    "epitopes = vdjdb_filtered[\"Epitope\"].unique()"
   ]
  },
  {
   "cell_type": "code",
   "execution_count": 29,
   "metadata": {},
   "outputs": [
    {
     "data": {
      "text/plain": [
       "959"
      ]
     },
     "execution_count": 29,
     "metadata": {},
     "output_type": "execute_result"
    }
   ],
   "source": [
    "len(epitopes)"
   ]
  },
  {
   "cell_type": "code",
   "execution_count": 27,
   "metadata": {},
   "outputs": [
    {
     "data": {
      "text/html": [
       "<div>\n",
       "<style scoped>\n",
       "    .dataframe tbody tr th:only-of-type {\n",
       "        vertical-align: middle;\n",
       "    }\n",
       "\n",
       "    .dataframe tbody tr th {\n",
       "        vertical-align: top;\n",
       "    }\n",
       "\n",
       "    .dataframe thead th {\n",
       "        text-align: right;\n",
       "    }\n",
       "</style>\n",
       "<table border=\"1\" class=\"dataframe\">\n",
       "  <thead>\n",
       "    <tr style=\"text-align: right;\">\n",
       "      <th></th>\n",
       "      <th>A</th>\n",
       "      <th>C</th>\n",
       "      <th>D</th>\n",
       "      <th>E</th>\n",
       "      <th>F</th>\n",
       "      <th>G</th>\n",
       "      <th>H</th>\n",
       "      <th>I</th>\n",
       "      <th>K</th>\n",
       "      <th>L</th>\n",
       "      <th>M</th>\n",
       "      <th>N</th>\n",
       "      <th>P</th>\n",
       "      <th>Q</th>\n",
       "      <th>R</th>\n",
       "      <th>S</th>\n",
       "      <th>T</th>\n",
       "      <th>V</th>\n",
       "      <th>W</th>\n",
       "      <th>Y</th>\n",
       "    </tr>\n",
       "  </thead>\n",
       "  <tbody>\n",
       "    <tr>\n",
       "      <th>0</th>\n",
       "      <td>0.069864</td>\n",
       "      <td>0.021898</td>\n",
       "      <td>0.013556</td>\n",
       "      <td>0.032325</td>\n",
       "      <td>0.104275</td>\n",
       "      <td>0.033368</td>\n",
       "      <td>0.018770</td>\n",
       "      <td>0.056309</td>\n",
       "      <td>0.074035</td>\n",
       "      <td>0.105318</td>\n",
       "      <td>0.042753</td>\n",
       "      <td>0.036496</td>\n",
       "      <td>0.007299</td>\n",
       "      <td>0.022941</td>\n",
       "      <td>0.070907</td>\n",
       "      <td>0.061522</td>\n",
       "      <td>0.068822</td>\n",
       "      <td>0.066736</td>\n",
       "      <td>0.021898</td>\n",
       "      <td>0.070907</td>\n",
       "    </tr>\n",
       "    <tr>\n",
       "      <th>1</th>\n",
       "      <td>0.034411</td>\n",
       "      <td>0.004171</td>\n",
       "      <td>0.010428</td>\n",
       "      <td>0.014599</td>\n",
       "      <td>0.023983</td>\n",
       "      <td>0.009385</td>\n",
       "      <td>0.005214</td>\n",
       "      <td>0.057351</td>\n",
       "      <td>0.006257</td>\n",
       "      <td>0.337852</td>\n",
       "      <td>0.063608</td>\n",
       "      <td>0.002086</td>\n",
       "      <td>0.130344</td>\n",
       "      <td>0.027112</td>\n",
       "      <td>0.010428</td>\n",
       "      <td>0.049009</td>\n",
       "      <td>0.079249</td>\n",
       "      <td>0.088634</td>\n",
       "      <td>0.008342</td>\n",
       "      <td>0.037539</td>\n",
       "    </tr>\n",
       "    <tr>\n",
       "      <th>2</th>\n",
       "      <td>0.085506</td>\n",
       "      <td>0.020855</td>\n",
       "      <td>0.117831</td>\n",
       "      <td>0.041710</td>\n",
       "      <td>0.061522</td>\n",
       "      <td>0.037539</td>\n",
       "      <td>0.015641</td>\n",
       "      <td>0.047967</td>\n",
       "      <td>0.025026</td>\n",
       "      <td>0.111575</td>\n",
       "      <td>0.033368</td>\n",
       "      <td>0.069864</td>\n",
       "      <td>0.042753</td>\n",
       "      <td>0.021898</td>\n",
       "      <td>0.038582</td>\n",
       "      <td>0.061522</td>\n",
       "      <td>0.040667</td>\n",
       "      <td>0.047967</td>\n",
       "      <td>0.029197</td>\n",
       "      <td>0.049009</td>\n",
       "    </tr>\n",
       "    <tr>\n",
       "      <th>3</th>\n",
       "      <td>0.067779</td>\n",
       "      <td>0.017727</td>\n",
       "      <td>0.070907</td>\n",
       "      <td>0.069864</td>\n",
       "      <td>0.042753</td>\n",
       "      <td>0.095933</td>\n",
       "      <td>0.021898</td>\n",
       "      <td>0.044838</td>\n",
       "      <td>0.041710</td>\n",
       "      <td>0.078206</td>\n",
       "      <td>0.019812</td>\n",
       "      <td>0.057351</td>\n",
       "      <td>0.070907</td>\n",
       "      <td>0.033368</td>\n",
       "      <td>0.027112</td>\n",
       "      <td>0.072993</td>\n",
       "      <td>0.054223</td>\n",
       "      <td>0.051095</td>\n",
       "      <td>0.023983</td>\n",
       "      <td>0.037539</td>\n",
       "    </tr>\n",
       "    <tr>\n",
       "      <th>4</th>\n",
       "      <td>0.047967</td>\n",
       "      <td>0.025026</td>\n",
       "      <td>0.040667</td>\n",
       "      <td>0.034411</td>\n",
       "      <td>0.079249</td>\n",
       "      <td>0.055266</td>\n",
       "      <td>0.026069</td>\n",
       "      <td>0.060480</td>\n",
       "      <td>0.046924</td>\n",
       "      <td>0.122002</td>\n",
       "      <td>0.026069</td>\n",
       "      <td>0.043796</td>\n",
       "      <td>0.032325</td>\n",
       "      <td>0.023983</td>\n",
       "      <td>0.040667</td>\n",
       "      <td>0.069864</td>\n",
       "      <td>0.065693</td>\n",
       "      <td>0.088634</td>\n",
       "      <td>0.018770</td>\n",
       "      <td>0.052138</td>\n",
       "    </tr>\n",
       "    <tr>\n",
       "      <th>5</th>\n",
       "      <td>0.079249</td>\n",
       "      <td>0.028154</td>\n",
       "      <td>0.042753</td>\n",
       "      <td>0.020855</td>\n",
       "      <td>0.060480</td>\n",
       "      <td>0.061522</td>\n",
       "      <td>0.013556</td>\n",
       "      <td>0.072993</td>\n",
       "      <td>0.018770</td>\n",
       "      <td>0.114703</td>\n",
       "      <td>0.027112</td>\n",
       "      <td>0.035454</td>\n",
       "      <td>0.057351</td>\n",
       "      <td>0.032325</td>\n",
       "      <td>0.029197</td>\n",
       "      <td>0.068822</td>\n",
       "      <td>0.088634</td>\n",
       "      <td>0.091762</td>\n",
       "      <td>0.018770</td>\n",
       "      <td>0.037539</td>\n",
       "    </tr>\n",
       "    <tr>\n",
       "      <th>6</th>\n",
       "      <td>0.089677</td>\n",
       "      <td>0.015641</td>\n",
       "      <td>0.042753</td>\n",
       "      <td>0.028154</td>\n",
       "      <td>0.079249</td>\n",
       "      <td>0.057351</td>\n",
       "      <td>0.022941</td>\n",
       "      <td>0.045881</td>\n",
       "      <td>0.044838</td>\n",
       "      <td>0.116788</td>\n",
       "      <td>0.033368</td>\n",
       "      <td>0.047967</td>\n",
       "      <td>0.047967</td>\n",
       "      <td>0.043796</td>\n",
       "      <td>0.028154</td>\n",
       "      <td>0.052138</td>\n",
       "      <td>0.061522</td>\n",
       "      <td>0.074035</td>\n",
       "      <td>0.025026</td>\n",
       "      <td>0.042753</td>\n",
       "    </tr>\n",
       "    <tr>\n",
       "      <th>7</th>\n",
       "      <td>0.070907</td>\n",
       "      <td>0.017727</td>\n",
       "      <td>0.025026</td>\n",
       "      <td>0.051095</td>\n",
       "      <td>0.059437</td>\n",
       "      <td>0.052138</td>\n",
       "      <td>0.027112</td>\n",
       "      <td>0.042753</td>\n",
       "      <td>0.036496</td>\n",
       "      <td>0.134515</td>\n",
       "      <td>0.022941</td>\n",
       "      <td>0.039625</td>\n",
       "      <td>0.047967</td>\n",
       "      <td>0.033368</td>\n",
       "      <td>0.033368</td>\n",
       "      <td>0.070907</td>\n",
       "      <td>0.085506</td>\n",
       "      <td>0.066736</td>\n",
       "      <td>0.013556</td>\n",
       "      <td>0.067779</td>\n",
       "    </tr>\n",
       "    <tr>\n",
       "      <th>8</th>\n",
       "      <td>0.067779</td>\n",
       "      <td>0.018770</td>\n",
       "      <td>0.008342</td>\n",
       "      <td>0.004171</td>\n",
       "      <td>0.063608</td>\n",
       "      <td>0.012513</td>\n",
       "      <td>0.009385</td>\n",
       "      <td>0.082377</td>\n",
       "      <td>0.022941</td>\n",
       "      <td>0.234619</td>\n",
       "      <td>0.026069</td>\n",
       "      <td>0.007299</td>\n",
       "      <td>0.007299</td>\n",
       "      <td>0.016684</td>\n",
       "      <td>0.005214</td>\n",
       "      <td>0.014599</td>\n",
       "      <td>0.039625</td>\n",
       "      <td>0.233577</td>\n",
       "      <td>0.011470</td>\n",
       "      <td>0.094891</td>\n",
       "    </tr>\n",
       "    <tr>\n",
       "      <th>9</th>\n",
       "      <td>0.006257</td>\n",
       "      <td>0.001043</td>\n",
       "      <td>0.001043</td>\n",
       "      <td>0.003128</td>\n",
       "      <td>0.005214</td>\n",
       "      <td>0.002086</td>\n",
       "      <td>0.000000</td>\n",
       "      <td>0.004171</td>\n",
       "      <td>0.012513</td>\n",
       "      <td>0.019812</td>\n",
       "      <td>0.005214</td>\n",
       "      <td>0.001043</td>\n",
       "      <td>0.000000</td>\n",
       "      <td>0.001043</td>\n",
       "      <td>0.002086</td>\n",
       "      <td>0.002086</td>\n",
       "      <td>0.003128</td>\n",
       "      <td>0.022941</td>\n",
       "      <td>0.001043</td>\n",
       "      <td>0.010428</td>\n",
       "    </tr>\n",
       "    <tr>\n",
       "      <th>10</th>\n",
       "      <td>0.001043</td>\n",
       "      <td>0.001043</td>\n",
       "      <td>0.000000</td>\n",
       "      <td>0.001043</td>\n",
       "      <td>0.003128</td>\n",
       "      <td>0.002086</td>\n",
       "      <td>0.001043</td>\n",
       "      <td>0.000000</td>\n",
       "      <td>0.001043</td>\n",
       "      <td>0.004171</td>\n",
       "      <td>0.000000</td>\n",
       "      <td>0.000000</td>\n",
       "      <td>0.000000</td>\n",
       "      <td>0.000000</td>\n",
       "      <td>0.000000</td>\n",
       "      <td>0.001043</td>\n",
       "      <td>0.008342</td>\n",
       "      <td>0.003128</td>\n",
       "      <td>0.000000</td>\n",
       "      <td>0.008342</td>\n",
       "    </tr>\n",
       "    <tr>\n",
       "      <th>11</th>\n",
       "      <td>0.009385</td>\n",
       "      <td>0.000000</td>\n",
       "      <td>0.000000</td>\n",
       "      <td>0.000000</td>\n",
       "      <td>0.000000</td>\n",
       "      <td>0.003128</td>\n",
       "      <td>0.000000</td>\n",
       "      <td>0.000000</td>\n",
       "      <td>0.000000</td>\n",
       "      <td>0.000000</td>\n",
       "      <td>0.000000</td>\n",
       "      <td>0.000000</td>\n",
       "      <td>0.000000</td>\n",
       "      <td>0.001043</td>\n",
       "      <td>0.001043</td>\n",
       "      <td>0.000000</td>\n",
       "      <td>0.000000</td>\n",
       "      <td>0.002086</td>\n",
       "      <td>0.000000</td>\n",
       "      <td>0.002086</td>\n",
       "    </tr>\n",
       "    <tr>\n",
       "      <th>12</th>\n",
       "      <td>0.000000</td>\n",
       "      <td>0.000000</td>\n",
       "      <td>0.000000</td>\n",
       "      <td>0.001043</td>\n",
       "      <td>0.000000</td>\n",
       "      <td>0.001043</td>\n",
       "      <td>0.000000</td>\n",
       "      <td>0.000000</td>\n",
       "      <td>0.000000</td>\n",
       "      <td>0.002086</td>\n",
       "      <td>0.000000</td>\n",
       "      <td>0.000000</td>\n",
       "      <td>0.000000</td>\n",
       "      <td>0.000000</td>\n",
       "      <td>0.000000</td>\n",
       "      <td>0.000000</td>\n",
       "      <td>0.001043</td>\n",
       "      <td>0.000000</td>\n",
       "      <td>0.000000</td>\n",
       "      <td>0.010428</td>\n",
       "    </tr>\n",
       "    <tr>\n",
       "      <th>13</th>\n",
       "      <td>0.000000</td>\n",
       "      <td>0.000000</td>\n",
       "      <td>0.000000</td>\n",
       "      <td>0.001043</td>\n",
       "      <td>0.000000</td>\n",
       "      <td>0.000000</td>\n",
       "      <td>0.000000</td>\n",
       "      <td>0.000000</td>\n",
       "      <td>0.000000</td>\n",
       "      <td>0.002086</td>\n",
       "      <td>0.000000</td>\n",
       "      <td>0.000000</td>\n",
       "      <td>0.000000</td>\n",
       "      <td>0.001043</td>\n",
       "      <td>0.000000</td>\n",
       "      <td>0.000000</td>\n",
       "      <td>0.000000</td>\n",
       "      <td>0.000000</td>\n",
       "      <td>0.000000</td>\n",
       "      <td>0.000000</td>\n",
       "    </tr>\n",
       "    <tr>\n",
       "      <th>14</th>\n",
       "      <td>0.001043</td>\n",
       "      <td>0.000000</td>\n",
       "      <td>0.000000</td>\n",
       "      <td>0.001043</td>\n",
       "      <td>0.000000</td>\n",
       "      <td>0.001043</td>\n",
       "      <td>0.000000</td>\n",
       "      <td>0.000000</td>\n",
       "      <td>0.000000</td>\n",
       "      <td>0.000000</td>\n",
       "      <td>0.000000</td>\n",
       "      <td>0.001043</td>\n",
       "      <td>0.000000</td>\n",
       "      <td>0.000000</td>\n",
       "      <td>0.000000</td>\n",
       "      <td>0.000000</td>\n",
       "      <td>0.000000</td>\n",
       "      <td>0.000000</td>\n",
       "      <td>0.000000</td>\n",
       "      <td>0.000000</td>\n",
       "    </tr>\n",
       "    <tr>\n",
       "      <th>15</th>\n",
       "      <td>0.000000</td>\n",
       "      <td>0.000000</td>\n",
       "      <td>0.000000</td>\n",
       "      <td>0.000000</td>\n",
       "      <td>0.000000</td>\n",
       "      <td>0.000000</td>\n",
       "      <td>0.000000</td>\n",
       "      <td>0.000000</td>\n",
       "      <td>0.000000</td>\n",
       "      <td>0.000000</td>\n",
       "      <td>0.000000</td>\n",
       "      <td>0.000000</td>\n",
       "      <td>0.000000</td>\n",
       "      <td>0.000000</td>\n",
       "      <td>0.001043</td>\n",
       "      <td>0.000000</td>\n",
       "      <td>0.000000</td>\n",
       "      <td>0.000000</td>\n",
       "      <td>0.000000</td>\n",
       "      <td>0.000000</td>\n",
       "    </tr>\n",
       "    <tr>\n",
       "      <th>16</th>\n",
       "      <td>0.000000</td>\n",
       "      <td>0.000000</td>\n",
       "      <td>0.000000</td>\n",
       "      <td>0.000000</td>\n",
       "      <td>0.000000</td>\n",
       "      <td>0.000000</td>\n",
       "      <td>0.000000</td>\n",
       "      <td>0.000000</td>\n",
       "      <td>0.000000</td>\n",
       "      <td>0.000000</td>\n",
       "      <td>0.000000</td>\n",
       "      <td>0.000000</td>\n",
       "      <td>0.000000</td>\n",
       "      <td>0.000000</td>\n",
       "      <td>0.001043</td>\n",
       "      <td>0.000000</td>\n",
       "      <td>0.000000</td>\n",
       "      <td>0.000000</td>\n",
       "      <td>0.000000</td>\n",
       "      <td>0.000000</td>\n",
       "    </tr>\n",
       "    <tr>\n",
       "      <th>17</th>\n",
       "      <td>0.000000</td>\n",
       "      <td>0.000000</td>\n",
       "      <td>0.000000</td>\n",
       "      <td>0.000000</td>\n",
       "      <td>0.000000</td>\n",
       "      <td>0.000000</td>\n",
       "      <td>0.000000</td>\n",
       "      <td>0.000000</td>\n",
       "      <td>0.000000</td>\n",
       "      <td>0.000000</td>\n",
       "      <td>0.000000</td>\n",
       "      <td>0.000000</td>\n",
       "      <td>0.000000</td>\n",
       "      <td>0.000000</td>\n",
       "      <td>0.000000</td>\n",
       "      <td>0.001043</td>\n",
       "      <td>0.000000</td>\n",
       "      <td>0.000000</td>\n",
       "      <td>0.000000</td>\n",
       "      <td>0.000000</td>\n",
       "    </tr>\n",
       "    <tr>\n",
       "      <th>18</th>\n",
       "      <td>0.000000</td>\n",
       "      <td>0.000000</td>\n",
       "      <td>0.000000</td>\n",
       "      <td>0.000000</td>\n",
       "      <td>0.000000</td>\n",
       "      <td>0.000000</td>\n",
       "      <td>0.000000</td>\n",
       "      <td>0.000000</td>\n",
       "      <td>0.000000</td>\n",
       "      <td>0.001043</td>\n",
       "      <td>0.000000</td>\n",
       "      <td>0.000000</td>\n",
       "      <td>0.000000</td>\n",
       "      <td>0.000000</td>\n",
       "      <td>0.000000</td>\n",
       "      <td>0.000000</td>\n",
       "      <td>0.000000</td>\n",
       "      <td>0.000000</td>\n",
       "      <td>0.000000</td>\n",
       "      <td>0.000000</td>\n",
       "    </tr>\n",
       "    <tr>\n",
       "      <th>19</th>\n",
       "      <td>0.001043</td>\n",
       "      <td>0.000000</td>\n",
       "      <td>0.000000</td>\n",
       "      <td>0.000000</td>\n",
       "      <td>0.000000</td>\n",
       "      <td>0.000000</td>\n",
       "      <td>0.000000</td>\n",
       "      <td>0.000000</td>\n",
       "      <td>0.000000</td>\n",
       "      <td>0.000000</td>\n",
       "      <td>0.000000</td>\n",
       "      <td>0.000000</td>\n",
       "      <td>0.000000</td>\n",
       "      <td>0.000000</td>\n",
       "      <td>0.000000</td>\n",
       "      <td>0.000000</td>\n",
       "      <td>0.000000</td>\n",
       "      <td>0.000000</td>\n",
       "      <td>0.000000</td>\n",
       "      <td>0.000000</td>\n",
       "    </tr>\n",
       "  </tbody>\n",
       "</table>\n",
       "</div>"
      ],
      "text/plain": [
       "           A         C         D         E         F         G         H  \\\n",
       "0   0.069864  0.021898  0.013556  0.032325  0.104275  0.033368  0.018770   \n",
       "1   0.034411  0.004171  0.010428  0.014599  0.023983  0.009385  0.005214   \n",
       "2   0.085506  0.020855  0.117831  0.041710  0.061522  0.037539  0.015641   \n",
       "3   0.067779  0.017727  0.070907  0.069864  0.042753  0.095933  0.021898   \n",
       "4   0.047967  0.025026  0.040667  0.034411  0.079249  0.055266  0.026069   \n",
       "5   0.079249  0.028154  0.042753  0.020855  0.060480  0.061522  0.013556   \n",
       "6   0.089677  0.015641  0.042753  0.028154  0.079249  0.057351  0.022941   \n",
       "7   0.070907  0.017727  0.025026  0.051095  0.059437  0.052138  0.027112   \n",
       "8   0.067779  0.018770  0.008342  0.004171  0.063608  0.012513  0.009385   \n",
       "9   0.006257  0.001043  0.001043  0.003128  0.005214  0.002086  0.000000   \n",
       "10  0.001043  0.001043  0.000000  0.001043  0.003128  0.002086  0.001043   \n",
       "11  0.009385  0.000000  0.000000  0.000000  0.000000  0.003128  0.000000   \n",
       "12  0.000000  0.000000  0.000000  0.001043  0.000000  0.001043  0.000000   \n",
       "13  0.000000  0.000000  0.000000  0.001043  0.000000  0.000000  0.000000   \n",
       "14  0.001043  0.000000  0.000000  0.001043  0.000000  0.001043  0.000000   \n",
       "15  0.000000  0.000000  0.000000  0.000000  0.000000  0.000000  0.000000   \n",
       "16  0.000000  0.000000  0.000000  0.000000  0.000000  0.000000  0.000000   \n",
       "17  0.000000  0.000000  0.000000  0.000000  0.000000  0.000000  0.000000   \n",
       "18  0.000000  0.000000  0.000000  0.000000  0.000000  0.000000  0.000000   \n",
       "19  0.001043  0.000000  0.000000  0.000000  0.000000  0.000000  0.000000   \n",
       "\n",
       "           I         K         L         M         N         P         Q  \\\n",
       "0   0.056309  0.074035  0.105318  0.042753  0.036496  0.007299  0.022941   \n",
       "1   0.057351  0.006257  0.337852  0.063608  0.002086  0.130344  0.027112   \n",
       "2   0.047967  0.025026  0.111575  0.033368  0.069864  0.042753  0.021898   \n",
       "3   0.044838  0.041710  0.078206  0.019812  0.057351  0.070907  0.033368   \n",
       "4   0.060480  0.046924  0.122002  0.026069  0.043796  0.032325  0.023983   \n",
       "5   0.072993  0.018770  0.114703  0.027112  0.035454  0.057351  0.032325   \n",
       "6   0.045881  0.044838  0.116788  0.033368  0.047967  0.047967  0.043796   \n",
       "7   0.042753  0.036496  0.134515  0.022941  0.039625  0.047967  0.033368   \n",
       "8   0.082377  0.022941  0.234619  0.026069  0.007299  0.007299  0.016684   \n",
       "9   0.004171  0.012513  0.019812  0.005214  0.001043  0.000000  0.001043   \n",
       "10  0.000000  0.001043  0.004171  0.000000  0.000000  0.000000  0.000000   \n",
       "11  0.000000  0.000000  0.000000  0.000000  0.000000  0.000000  0.001043   \n",
       "12  0.000000  0.000000  0.002086  0.000000  0.000000  0.000000  0.000000   \n",
       "13  0.000000  0.000000  0.002086  0.000000  0.000000  0.000000  0.001043   \n",
       "14  0.000000  0.000000  0.000000  0.000000  0.001043  0.000000  0.000000   \n",
       "15  0.000000  0.000000  0.000000  0.000000  0.000000  0.000000  0.000000   \n",
       "16  0.000000  0.000000  0.000000  0.000000  0.000000  0.000000  0.000000   \n",
       "17  0.000000  0.000000  0.000000  0.000000  0.000000  0.000000  0.000000   \n",
       "18  0.000000  0.000000  0.001043  0.000000  0.000000  0.000000  0.000000   \n",
       "19  0.000000  0.000000  0.000000  0.000000  0.000000  0.000000  0.000000   \n",
       "\n",
       "           R         S         T         V         W         Y  \n",
       "0   0.070907  0.061522  0.068822  0.066736  0.021898  0.070907  \n",
       "1   0.010428  0.049009  0.079249  0.088634  0.008342  0.037539  \n",
       "2   0.038582  0.061522  0.040667  0.047967  0.029197  0.049009  \n",
       "3   0.027112  0.072993  0.054223  0.051095  0.023983  0.037539  \n",
       "4   0.040667  0.069864  0.065693  0.088634  0.018770  0.052138  \n",
       "5   0.029197  0.068822  0.088634  0.091762  0.018770  0.037539  \n",
       "6   0.028154  0.052138  0.061522  0.074035  0.025026  0.042753  \n",
       "7   0.033368  0.070907  0.085506  0.066736  0.013556  0.067779  \n",
       "8   0.005214  0.014599  0.039625  0.233577  0.011470  0.094891  \n",
       "9   0.002086  0.002086  0.003128  0.022941  0.001043  0.010428  \n",
       "10  0.000000  0.001043  0.008342  0.003128  0.000000  0.008342  \n",
       "11  0.001043  0.000000  0.000000  0.002086  0.000000  0.002086  \n",
       "12  0.000000  0.000000  0.001043  0.000000  0.000000  0.010428  \n",
       "13  0.000000  0.000000  0.000000  0.000000  0.000000  0.000000  \n",
       "14  0.000000  0.000000  0.000000  0.000000  0.000000  0.000000  \n",
       "15  0.001043  0.000000  0.000000  0.000000  0.000000  0.000000  \n",
       "16  0.001043  0.000000  0.000000  0.000000  0.000000  0.000000  \n",
       "17  0.000000  0.001043  0.000000  0.000000  0.000000  0.000000  \n",
       "18  0.000000  0.000000  0.000000  0.000000  0.000000  0.000000  \n",
       "19  0.000000  0.000000  0.000000  0.000000  0.000000  0.000000  "
      ]
     },
     "execution_count": 27,
     "metadata": {},
     "output_type": "execute_result"
    }
   ],
   "source": [
    "probs = pd.DataFrame(np.zeros_like(0,shape = (20,20)), index = list(\"ACDEFGHIKLMNPQRSTVWY\"))\n",
    "for i in epitopes:\n",
    "    amk = list(i)\n",
    "    for j,a in enumerate(amk):\n",
    "        probs.loc[a,j] += 1\n",
    "probs = probs.T / len(epitopes)\n",
    "probs"
   ]
  },
  {
   "cell_type": "code",
   "execution_count": 28,
   "metadata": {},
   "outputs": [
    {
     "data": {
      "image/png": "[encoded data removed]",
      "text/plain": [
       "<Figure size 720x432 with 1 Axes>"
      ]
     },
     "metadata": {
      "needs_background": "light"
     },
     "output_type": "display_data"
    }
   ],
   "source": [
    "#logo = logomaker.Logo(probs,color_scheme = \"chemistry\")\n",
    "fig,ax = plt.subplots(figsize = (10,6))\n",
    "ax.set_title(\"VDJdb epitopes\")\n",
    "logo = logomaker.Logo(probs.iloc[0:11,:], color_scheme = \"chemistry\", ax = ax)\n",
    "fig.tight_layout()"
   ]
  },
  {
   "cell_type": "code",
   "execution_count": 77,
   "metadata": {},
   "outputs": [
    {
     "data": {
      "text/plain": [
       "9.0"
      ]
     },
     "execution_count": 77,
     "metadata": {},
     "output_type": "execute_result"
    }
   ],
   "source": [
    "vdjdb_filtered[\"Epitope\"].str.len().median()"
   ]
  },
  {
   "cell_type": "markdown",
   "metadata": {},
   "source": [
    "Ожидается, что большинство эпитопов имеют в качестве сайта разрезания лейцин или валин, так как они более представлены в датасете. Но в целом, наблюдается более менее равномерное распределение аминокислот на каждой позиции."
   ]
  },
  {
   "cell_type": "markdown",
   "metadata": {},
   "source": [
    "## Поиск референсных последовательностей"
   ]
  },
  {
   "cell_type": "markdown",
   "metadata": {},
   "source": [
    "Формирования множества запросов"
   ]
  },
  {
   "cell_type": "code",
   "execution_count": 30,
   "metadata": {},
   "outputs": [
    {
     "data": {
      "text/plain": [
       "(172, 2)"
      ]
     },
     "execution_count": 30,
     "metadata": {},
     "output_type": "execute_result"
    }
   ],
   "source": [
    "uni_gene_spec = vdjdb_filtered[[\"Epitope gene\",\"Epitope species\"]].drop_duplicates()\n",
    "uni_gene_spec.shape"
   ]
  },
  {
   "cell_type": "code",
   "execution_count": 32,
   "metadata": {},
   "outputs": [
    {
     "name": "stdout",
     "output_type": "stream",
     "text": [
      "172\n"
     ]
    }
   ],
   "source": [
    "queries = set()\n",
    "for i in uni_gene_spec.index:\n",
    "    s = f\"({uni_gene_spec.loc[i, 'Epitope gene']}) AND (\\\"{uni_gene_spec.loc[i, 'Epitope species']}\\\" [Organism])\"\n",
    "    queries.add(s)\n",
    "print(len(queries))"
   ]
  },
  {
   "cell_type": "markdown",
   "metadata": {},
   "source": [
    "Проверка на то, что запросы ищут все эпитопы"
   ]
  },
  {
   "cell_type": "code",
   "execution_count": 33,
   "metadata": {},
   "outputs": [
    {
     "name": "stdout",
     "output_type": "stream",
     "text": [
      "ids 959 epi_total 959 epi_num 959\n"
     ]
    }
   ],
   "source": [
    "epi_ids = []\n",
    "epi_num = 0\n",
    "for k, q in enumerate(queries):\n",
    "    gene = re.split(\"\\((.*?)\\)\",q)[1]\n",
    "    organism = re.split(\"\\\"\",q)[1]\n",
    "    epi = list(vdjdb_filtered.loc[(vdjdb_filtered[\"Epitope gene\"] == gene) &\n",
    "                                (vdjdb_filtered[\"Epitope species\"] == organism), \"Epitope\"].unique())\n",
    "    epi_num += len(epi)\n",
    "    for e in epi:\n",
    "        #print(e)\n",
    "        epi_id = e#f\"{e}_{gene}_{organism}\"\n",
    "        if epi_id not in epi_ids: \n",
    "            epi_ids.append(epi_id)\n",
    "        else:\n",
    "            print(epi_id)\n",
    "print(f\"ids {len(epi_ids)} epi_total {len(epitopes)} epi_num {epi_num}\")"
   ]
  },
  {
   "cell_type": "markdown",
   "metadata": {},
   "source": [
    "Ищет и сохраняет последовательности на NCBI Protein, если в ней найден эпитоп. Код выполняется некоторое время. Готовый файл называется vdjdb_seqs.fasta в папке data. **Не запускайте этот блок без необходимости.**"
   ]
  },
  {
   "cell_type": "code",
   "execution_count": 281,
   "metadata": {},
   "outputs": [
    {
     "name": "stdout",
     "output_type": "stream",
     "text": [
      " |███████████████████████████████████████-| 99.4% failed: 225 success:734\n",
      "734\n",
      "942\n"
     ]
    }
   ],
   "source": [
    "seqs = {}\n",
    "tries = 10\n",
    "total = len(queries)\n",
    "failed_queries = {}\n",
    "epi_failed = 0\n",
    "printProgressBar(0,total,length = 40, suffix = f\"failed: 0 success: 0\")\n",
    "with open(\"../data/vdjdb_seqs_ref_new.fasta\",\"w\") as fasta:\n",
    "    for k, q in enumerate(queries):\n",
    "        gene = re.split(\"\\((.*?)\\)\",q)[1]\n",
    "        organism = re.split(\"\\\"\",q)[1]\n",
    "        epi = list(vdjdb_filtered.loc[(vdjdb_filtered[\"Epitope gene\"] == gene) &\n",
    "                                (vdjdb_filtered[\"Epitope species\"] == organism), \"Epitope\"].unique())\n",
    "        search_res = Entrez.read(Entrez.esearch(db=\"protein\", retmax=100, term=q))[\"IdList\"]\n",
    "        if organism == \"SARS-CoV-2\":\n",
    "            # количество последовательностей для ковида очень велико\n",
    "            search_res = Entrez.read(Entrez.esearch(db=\"protein\", retmax=20000, term=q))[\"IdList\"]\n",
    "        handle = Entrez.efetch(id = \",\".join(search_res), db = \"protein\", rettype=\"fasta\", retmode=\"text\")\n",
    "        fasta_io = StringIO(handle.read())\n",
    "        for record in SeqIO.parse(fasta_io, \"fasta\"):\n",
    "            for e in epi:\n",
    "                if e in record.seq:\n",
    "                    epi_id = f\"{e}_{gene}_{organism}\"\n",
    "                    record.id = epi_id\n",
    "                    seqs[epi_id] = record.seq\n",
    "                    SeqIO.write(record, fasta, \"fasta\")\n",
    "                    epi.remove(e)\n",
    "            if len(epi) == 0:\n",
    "                break\n",
    "        if len(epi) != 0:\n",
    "            failed_queries[q] = {\"epi\":epi,\"max_epi\":f\"{len(epi)}\"}\n",
    "            epi_failed += len(epi)\n",
    "        printProgressBar(k,total, suffix = f\"failed: {epi_failed} success:{len(seqs.values())}\",length = 40)"
   ]
  },
  {
   "cell_type": "markdown",
   "metadata": {},
   "source": [
    "# Результаты"
   ]
  },
  {
   "cell_type": "markdown",
   "metadata": {},
   "source": [
    "При повторном запуске блокнота, используйте этот код"
   ]
  },
  {
   "cell_type": "code",
   "execution_count": 44,
   "metadata": {},
   "outputs": [
    {
     "name": "stdout",
     "output_type": "stream",
     "text": [
      "734\n"
     ]
    }
   ],
   "source": [
    "seqs = {}\n",
    "success_epitopes = []\n",
    "with open(\"../data/vdjdb_seqs.fasta\", \"r\") as fasta:\n",
    "    for record in SeqIO.parse(fasta, \"fasta\"):\n",
    "        seqs[record.id] = record.seq\n",
    "        success_epitopes.append(re.split(\"_\",record.id)[0])\n",
    "print(len(seqs.keys()))"
   ]
  },
  {
   "cell_type": "code",
   "execution_count": 36,
   "metadata": {},
   "outputs": [
    {
     "data": {
      "text/plain": [
       "(6108, 17)"
      ]
     },
     "execution_count": 36,
     "metadata": {},
     "output_type": "execute_result"
    }
   ],
   "source": [
    "failed_epitopes = vdjdb_filtered[~vdjdb_filtered[\"Epitope\"].isin(success_epitopes)]\n",
    "failed_epitopes.shape"
   ]
  },
  {
   "cell_type": "code",
   "execution_count": 37,
   "metadata": {},
   "outputs": [
    {
     "data": {
      "text/plain": [
       "(225, 3)"
      ]
     },
     "execution_count": 37,
     "metadata": {},
     "output_type": "execute_result"
    }
   ],
   "source": [
    "failed_stat = failed_epitopes[[\"Epitope\",\"Epitope gene\",\"Epitope species\"]].drop_duplicates()\n",
    "failed_stat.shape"
   ]
  },
  {
   "cell_type": "code",
   "execution_count": 38,
   "metadata": {},
   "outputs": [
    {
     "data": {
      "text/html": [
       "<div>\n",
       "<style scoped>\n",
       "    .dataframe tbody tr th:only-of-type {\n",
       "        vertical-align: middle;\n",
       "    }\n",
       "\n",
       "    .dataframe tbody tr th {\n",
       "        vertical-align: top;\n",
       "    }\n",
       "\n",
       "    .dataframe thead th {\n",
       "        text-align: right;\n",
       "    }\n",
       "</style>\n",
       "<table border=\"1\" class=\"dataframe\">\n",
       "  <thead>\n",
       "    <tr style=\"text-align: right;\">\n",
       "      <th></th>\n",
       "      <th>Epitope</th>\n",
       "      <th>Epitope gene</th>\n",
       "      <th>Epitope species</th>\n",
       "    </tr>\n",
       "  </thead>\n",
       "  <tbody>\n",
       "    <tr>\n",
       "      <th>16</th>\n",
       "      <td>FLKETGGL</td>\n",
       "      <td>Nef</td>\n",
       "      <td>HIV-1</td>\n",
       "    </tr>\n",
       "    <tr>\n",
       "      <th>23</th>\n",
       "      <td>FLKEMGGL</td>\n",
       "      <td>Nef</td>\n",
       "      <td>HIV-1</td>\n",
       "    </tr>\n",
       "    <tr>\n",
       "      <th>433</th>\n",
       "      <td>ALSKGVHFV</td>\n",
       "      <td>ORF3</td>\n",
       "      <td>SARS-CoV-2</td>\n",
       "    </tr>\n",
       "    <tr>\n",
       "      <th>483</th>\n",
       "      <td>CLNEYHLFL</td>\n",
       "      <td>NDC1</td>\n",
       "      <td>Homo sapiens</td>\n",
       "    </tr>\n",
       "    <tr>\n",
       "      <th>493</th>\n",
       "      <td>AMFWSVPTV</td>\n",
       "      <td>TKT</td>\n",
       "      <td>Homo sapiens</td>\n",
       "    </tr>\n",
       "  </tbody>\n",
       "</table>\n",
       "</div>"
      ],
      "text/plain": [
       "       Epitope Epitope gene Epitope species\n",
       "16    FLKETGGL          Nef           HIV-1\n",
       "23    FLKEMGGL          Nef           HIV-1\n",
       "433  ALSKGVHFV         ORF3      SARS-CoV-2\n",
       "483  CLNEYHLFL         NDC1    Homo sapiens\n",
       "493  AMFWSVPTV          TKT    Homo sapiens"
      ]
     },
     "execution_count": 38,
     "metadata": {},
     "output_type": "execute_result"
    }
   ],
   "source": [
    "failed_stat.head()"
   ]
  },
  {
   "cell_type": "markdown",
   "metadata": {},
   "source": [
    "Большинство ненайденных эпитопов - человеческие и нового короновируса. Возможно эпитопы являются довольно редкими вариантами."
   ]
  },
  {
   "cell_type": "code",
   "execution_count": 39,
   "metadata": {},
   "outputs": [
    {
     "data": {
      "text/plain": [
       "Homo sapiens                  98\n",
       "SARS-CoV-2                    91\n",
       "HIV-1                         11\n",
       "Human gammaherpesvirus 4      11\n",
       "HTLV-1                         6\n",
       "Human betaherpesvirus 5        3\n",
       "HCV                            2\n",
       "Influenza A virus              1\n",
       "Mycobacterium tuberculosis     1\n",
       "Streptomyces kanamyceticus     1\n",
       "Name: Epitope species, dtype: int64"
      ]
     },
     "execution_count": 39,
     "metadata": {},
     "output_type": "execute_result"
    }
   ],
   "source": [
    "failed_stat[\"Epitope species\"].value_counts()"
   ]
  },
  {
   "cell_type": "code",
   "execution_count": 41,
   "metadata": {},
   "outputs": [
    {
     "data": {
      "text/plain": [
       "SARS-CoV-2                    659\n",
       "Homo sapiens                  157\n",
       "HIV-1                          49\n",
       "Human gammaherpesvirus 4       30\n",
       "Human betaherpesvirus 5        29\n",
       "HTLV-1                          8\n",
       "Influenza A virus               7\n",
       "HCV                             7\n",
       "Mycobacterium tuberculosis      3\n",
       "Merkel cell polyomavirus        2\n",
       "Dengue virus 2                  1\n",
       "Streptomyces kanamyceticus      1\n",
       "Human papillomavirus            1\n",
       "Dengue virus 1                  1\n",
       "HSV2                            1\n",
       "YFV                             1\n",
       "Saccharomyces cerevisiae        1\n",
       "HCoV-HKU1                       1\n",
       "Name: Epitope species, dtype: int64"
      ]
     },
     "execution_count": 41,
     "metadata": {},
     "output_type": "execute_result"
    }
   ],
   "source": [
    "all_stat = vdjdb_filtered[[\"Epitope\",\"Epitope gene\",\"Epitope species\"]].drop_duplicates()\n",
    "all_stat[\"Epitope species\"].value_counts()"
   ]
  },
  {
   "cell_type": "code",
   "execution_count": 67,
   "metadata": {},
   "outputs": [
    {
     "name": "stdout",
     "output_type": "stream",
     "text": [
      "(727, 1)\n"
     ]
    },
    {
     "data": {
      "text/html": [
       "<div>\n",
       "<style scoped>\n",
       "    .dataframe tbody tr th:only-of-type {\n",
       "        vertical-align: middle;\n",
       "    }\n",
       "\n",
       "    .dataframe tbody tr th {\n",
       "        vertical-align: top;\n",
       "    }\n",
       "\n",
       "    .dataframe thead th {\n",
       "        text-align: right;\n",
       "    }\n",
       "</style>\n",
       "<table border=\"1\" class=\"dataframe\">\n",
       "  <thead>\n",
       "    <tr style=\"text-align: right;\">\n",
       "      <th></th>\n",
       "      <th>Comb</th>\n",
       "    </tr>\n",
       "  </thead>\n",
       "  <tbody>\n",
       "    <tr>\n",
       "      <th>ARMILMTHF</th>\n",
       "      <td>FF</td>\n",
       "    </tr>\n",
       "    <tr>\n",
       "      <th>KIFGSLAFL</th>\n",
       "      <td>LP</td>\n",
       "    </tr>\n",
       "    <tr>\n",
       "      <th>VLNGTVHPV</th>\n",
       "      <td>VF</td>\n",
       "    </tr>\n",
       "    <tr>\n",
       "      <th>MLWGYLQYV</th>\n",
       "      <td>VG</td>\n",
       "    </tr>\n",
       "    <tr>\n",
       "      <th>FRCPRRFCF</th>\n",
       "      <td>FS</td>\n",
       "    </tr>\n",
       "  </tbody>\n",
       "</table>\n",
       "</div>"
      ],
      "text/plain": [
       "          Comb\n",
       "ARMILMTHF   FF\n",
       "KIFGSLAFL   LP\n",
       "VLNGTVHPV   VF\n",
       "MLWGYLQYV   VG\n",
       "FRCPRRFCF   FS"
      ]
     },
     "execution_count": 67,
     "metadata": {},
     "output_type": "execute_result"
    }
   ],
   "source": [
    "combinations = {}\n",
    "ff = {}\n",
    "for key, seq in seqs.items():\n",
    "    e = re.split(\"_\",key)[0]\n",
    "    e_start = seq.find(e)\n",
    "    #print(f\"{e_start} {len(seq)}\")\n",
    "    #print(seq[e_start + len(e)])\n",
    "    if e_start + len(e) < len(seq):\n",
    "        C_end = seq[e_start + len(e)]\n",
    "    else:\n",
    "        ff[e] = key\n",
    "        continue\n",
    "    combinations[e] = e[-1] + C_end\n",
    "df_comb = pd.DataFrame.from_dict(combinations, orient = \"index\",columns = [\"Comb\"])\n",
    "print(df_comb.shape)\n",
    "df_comb.head()"
   ]
  },
  {
   "cell_type": "markdown",
   "metadata": {},
   "source": [
    "Часть эпитопов равна по величине референсу"
   ]
  },
  {
   "cell_type": "code",
   "execution_count": 65,
   "metadata": {},
   "outputs": [
    {
     "data": {
      "text/plain": [
       "{'ILDQVPFSV': 'ILDQVPFSV_PMEL_Homo',\n",
       " 'IMDQVPFSV': 'IMDQVPFSV_PMEL_Homo',\n",
       " 'SLLMWITQV': 'SLLMWITQV_NY-ESO-1_Homo',\n",
       " 'VMAPRTLVL': 'VMAPRTLVL_Leader',\n",
       " 'ALHGGWTTK': 'ALHGGWTTK_PIK3CA_Homo',\n",
       " 'AVGSYVYSV': 'AVGSYVYSV_PGM5_Homo',\n",
       " 'ILDTAGKEEY': 'ILDTAGKEEY_NRAS_Homo'}"
      ]
     },
     "execution_count": 65,
     "metadata": {},
     "output_type": "execute_result"
    }
   ],
   "source": [
    "ff"
   ]
  },
  {
   "cell_type": "code",
   "execution_count": 68,
   "metadata": {},
   "outputs": [
    {
     "data": {
      "text/plain": [
       "(727, 3)"
      ]
     },
     "execution_count": 68,
     "metadata": {},
     "output_type": "execute_result"
    }
   ],
   "source": [
    "success_stat = vdjdb_filtered.loc[vdjdb_filtered[\"Epitope\"].isin(success_epitopes) & (~vdjdb_filtered[\"Epitope\"].isin(ff.keys())),[\"Epitope\",\"Epitope gene\",\"Epitope species\"]].drop_duplicates()\n",
    "success_stat.shape"
   ]
  },
  {
   "cell_type": "markdown",
   "metadata": {},
   "source": [
    "Частоты встречаемости аминокислот в N-конце сайта разрезания"
   ]
  },
  {
   "cell_type": "code",
   "execution_count": 69,
   "metadata": {
    "pycharm": {
     "name": "#%%\n"
    }
   },
   "outputs": [
    {
     "data": {
      "text/plain": [
       "<AxesSubplot:>"
      ]
     },
     "execution_count": 69,
     "metadata": {},
     "output_type": "execute_result"
    },
    {
     "data": {
      "image/png": "[encoded data removed]",
      "text/plain": [
       "<Figure size 432x288 with 1 Axes>"
      ]
     },
     "metadata": {
      "needs_background": "light"
     },
     "output_type": "display_data"
    }
   ],
   "source": [
    "(success_stat[\"Epitope\"].str[-1].value_counts().sort_index() / len(success_stat.index)).plot.bar()"
   ]
  },
  {
   "cell_type": "code",
   "execution_count": 70,
   "metadata": {},
   "outputs": [
    {
     "data": {
      "text/plain": [
       "Comb\n",
       "LL      20\n",
       "VL      20\n",
       "LV      14\n",
       "VY      14\n",
       "VD      13\n",
       "        ..\n",
       "FY       1\n",
       "FH       1\n",
       "FE       1\n",
       "NK       1\n",
       "AC       1\n",
       "Length: 190, dtype: int64"
      ]
     },
     "execution_count": 70,
     "metadata": {},
     "output_type": "execute_result"
    }
   ],
   "source": [
    "df_comb.value_counts()"
   ]
  },
  {
   "cell_type": "markdown",
   "metadata": {},
   "source": [
    "Тот же график для С-конца сайта"
   ]
  },
  {
   "cell_type": "code",
   "execution_count": 72,
   "metadata": {},
   "outputs": [
    {
     "data": {
      "text/plain": [
       "<AxesSubplot:>"
      ]
     },
     "execution_count": 72,
     "metadata": {},
     "output_type": "execute_result"
    },
    {
     "data": {
      "image/png": "[encoded data removed]",
      "text/plain": [
       "<Figure size 432x288 with 1 Axes>"
      ]
     },
     "metadata": {
      "needs_background": "light"
     },
     "output_type": "display_data"
    }
   ],
   "source": [
    "(df_comb[\"Comb\"].str[1].value_counts().sort_index() / len(df_comb.index)).plot.bar()"
   ]
  },
  {
   "cell_type": "markdown",
   "metadata": {},
   "source": [
    "**Можно сделать вывод, что не так важна аминокислота, идущая после сайта связывания, как перед ним.**"
   ]
  },
  {
   "cell_type": "markdown",
   "metadata": {},
   "source": [
    "<!-- BIBLIOGRAPHY START -->\n",
    "<div class=\"csl-bib-body\">\n",
    "  <div class=\"csl-entry\"><i id=\"zotero|13080035/J9SN38RQ\"></i>Bagaev, D. V., Vroomans, R. M. A., Samir, J., Stervbo, U., Rius, C., Dolton, G., Greenshields-Watson, A., Attaf, M., Egorov, E. S., Zvyagin, I. V., Babel, N., Cole, D. K., Godkin, A. J., Sewell, A. K., Kesmir, C., Chudakov, D. M., Luciani, F., &#38; Shugay, M. (2020). VDJdb in 2019: database extension, new analysis infrastructure and a T-cell receptor motif compendium. <i>Nucleic Acids Research</i>, <i>48</i>(D1), D1057–D1062. <a href=\"https://doi.org/10.1093/nar/gkz874\">https://doi.org/10.1093/nar/gkz874</a></div>\n",
    "</div>\n",
    "<!-- BIBLIOGRAPHY END -->"
   ]
  }
 ],
 "metadata": {
  "citation-manager": {
   "items": {
    "zotero": {
     "13080035/J9SN38RQ": {
      "DOI": "10.1093/nar/gkz874",
      "URL": "https://academic.oup.com/nar/article/48/D1/D1057/5582255",
      "abstract": "Here, we report an update of the VDJdb database with a substantial increase in the number of T-cell receptor (TCR) sequences and their cognate antigens. The update further provides a new database infrastructure featuring two additional analysis modes that facilitate database querying and real-world data analysis. The increased yield of TCR speciﬁcity identiﬁcation methods and the overall increase in the number of studies in the ﬁeld has allowed us to expand the database more than 5-fold. Furthermore, several new analysis methods are included. For example, batch annotation of TCR repertoire sequencing samples allows for annotating large datasets on-line. Using recently developed bioinformatic methods for TCR motif mining, we have built a reduced set of highquality TCR motifs that can be used for both training TCR speciﬁcity predictors and matching against TCRs of interest. These additions enhance the versatility of the VDJdb in the task of exploring T-cell antigen speciﬁcities. The database is available at https://vdjdb.cdr3.net.",
      "accessed": {
       "date-parts": [
        [
         2022,
         9,
         13
        ]
       ]
      },
      "author": [
       {
        "family": "Bagaev",
        "given": "Dmitry V"
       },
       {
        "family": "Vroomans",
        "given": "Renske M A"
       },
       {
        "family": "Samir",
        "given": "Jerome"
       },
       {
        "family": "Stervbo",
        "given": "Ulrik"
       },
       {
        "family": "Rius",
        "given": "Cristina"
       },
       {
        "family": "Dolton",
        "given": "Garry"
       },
       {
        "family": "Greenshields-Watson",
        "given": "Alexander"
       },
       {
        "family": "Attaf",
        "given": "Meriem"
       },
       {
        "family": "Egorov",
        "given": "Evgeny S"
       },
       {
        "family": "Zvyagin",
        "given": "Ivan V"
       },
       {
        "family": "Babel",
        "given": "Nina"
       },
       {
        "family": "Cole",
        "given": "David K"
       },
       {
        "family": "Godkin",
        "given": "Andrew J"
       },
       {
        "family": "Sewell",
        "given": "Andrew K"
       },
       {
        "family": "Kesmir",
        "given": "Can"
       },
       {
        "family": "Chudakov",
        "given": "Dmitriy M"
       },
       {
        "family": "Luciani",
        "given": "Fabio"
       },
       {
        "family": "Shugay",
        "given": "Mikhail"
       }
      ],
      "container-title": "Nucleic Acids Research",
      "id": "13080035/J9SN38RQ",
      "issue": "D1",
      "issued": {
       "date-parts": [
        [
         2020,
         1,
         8
        ]
       ]
      },
      "language": "en",
      "page": "D1057-D1062",
      "shortTitle": "VDJdb in 2019",
      "system_id": "zotero|13080035/J9SN38RQ",
      "title": "VDJdb in 2019: database extension, new analysis infrastructure and a T-cell receptor motif compendium",
      "type": "article-journal",
      "volume": "48"
     }
    }
   }
  },
  "cite2c": {
   "citations": {
    "13080035/754P9U5Q": {
     "DOI": "10.1093/bioinformatics/btx286",
     "URL": "https://academic.oup.com/bioinformatics/article/33/18/2924/3803440",
     "abstract": "Motivation: While growing numbers of T cell receptor (TCR) repertoires are being mapped by highthroughput sequencing, existing methods do not allow for computationally connecting a given TCR sequence to its target antigen, or relating it to a specific pathology. As an alternative, a manuallycurated database can relate TCR sequences with their cognate antigens and associated pathologies based on published experimental data.",
     "accessed": {
      "date-parts": [
       [
        2022,
        9,
        13
       ]
      ]
     },
     "author": [
      {
       "family": "Tickotsky",
       "given": "Nili"
      },
      {
       "family": "Sagiv",
       "given": "Tal"
      },
      {
       "family": "Prilusky",
       "given": "Jaime"
      },
      {
       "family": "Shifrut",
       "given": "Eric"
      },
      {
       "family": "Friedman",
       "given": "Nir"
      }
     ],
     "container-title": "Bioinformatics",
     "editor": [
      {
       "family": "Wren",
       "given": "Jonathan"
      }
     ],
     "issue": "18",
     "issued": {
      "date-parts": [
       [
        2017,
        9,
        15
       ]
      ]
     },
     "language": "en",
     "page": "2924-2929",
     "shortTitle": "McPAS-TCR",
     "title": "McPAS-TCR: a manually curated catalogue of pathology-associated T cell receptor sequences",
     "type": "article-journal",
     "volume": "33"
    },
    "13080035/NWKCZHSM": {
     "DOI": "10.1093/nar/gkz874",
     "URL": "https://academic.oup.com/nar/article/48/D1/D1057/5582255",
     "abstract": "Here, we report an update of the VDJdb database with a substantial increase in the number of T-cell receptor (TCR) sequences and their cognate antigens. The update further provides a new database infrastructure featuring two additional analysis modes that facilitate database querying and real-world data analysis. The increased yield of TCR speciﬁcity identiﬁcation methods and the overall increase in the number of studies in the ﬁeld has allowed us to expand the database more than 5-fold. Furthermore, several new analysis methods are included. For example, batch annotation of TCR repertoire sequencing samples allows for annotating large datasets on-line. Using recently developed bioinformatic methods for TCR motif mining, we have built a reduced set of highquality TCR motifs that can be used for both training TCR speciﬁcity predictors and matching against TCRs of interest. These additions enhance the versatility of the VDJdb in the task of exploring T-cell antigen speciﬁcities. The database is available at https://vdjdb.cdr3.net.",
     "accessed": {
      "date-parts": [
       [
        2022,
        9,
        13
       ]
      ]
     },
     "author": [
      {
       "family": "Bagaev",
       "given": "Dmitry V"
      },
      {
       "family": "Vroomans",
       "given": "Renske M A"
      },
      {
       "family": "Samir",
       "given": "Jerome"
      },
      {
       "family": "Stervbo",
       "given": "Ulrik"
      },
      {
       "family": "Rius",
       "given": "Cristina"
      },
      {
       "family": "Dolton",
       "given": "Garry"
      },
      {
       "family": "Greenshields-Watson",
       "given": "Alexander"
      },
      {
       "family": "Attaf",
       "given": "Meriem"
      },
      {
       "family": "Egorov",
       "given": "Evgeny S"
      },
      {
       "family": "Zvyagin",
       "given": "Ivan V"
      },
      {
       "family": "Babel",
       "given": "Nina"
      },
      {
       "family": "Cole",
       "given": "David K"
      },
      {
       "family": "Godkin",
       "given": "Andrew J"
      },
      {
       "family": "Sewell",
       "given": "Andrew K"
      },
      {
       "family": "Kesmir",
       "given": "Can"
      },
      {
       "family": "Chudakov",
       "given": "Dmitriy M"
      },
      {
       "family": "Luciani",
       "given": "Fabio"
      },
      {
       "family": "Shugay",
       "given": "Mikhail"
      }
     ],
     "container-title": "Nucleic Acids Research",
     "issue": "D1",
     "issued": {
      "date-parts": [
       [
        2020,
        1,
        8
       ]
      ]
     },
     "language": "en",
     "page": "D1057-D1062",
     "shortTitle": "VDJdb in 2019",
     "title": "VDJdb in 2019: database extension, new analysis infrastructure and a T-cell receptor motif compendium",
     "type": "article-journal",
     "volume": "48"
    },
    "undefined": {
     "DOI": "10.1093/nar/gkz874",
     "URL": "https://academic.oup.com/nar/article/48/D1/D1057/5582255",
     "abstract": "Here, we report an update of the VDJdb database with a substantial increase in the number of T-cell receptor (TCR) sequences and their cognate antigens. The update further provides a new database infrastructure featuring two additional analysis modes that facilitate database querying and real-world data analysis. The increased yield of TCR speciﬁcity identiﬁcation methods and the overall increase in the number of studies in the ﬁeld has allowed us to expand the database more than 5-fold. Furthermore, several new analysis methods are included. For example, batch annotation of TCR repertoire sequencing samples allows for annotating large datasets on-line. Using recently developed bioinformatic methods for TCR motif mining, we have built a reduced set of highquality TCR motifs that can be used for both training TCR speciﬁcity predictors and matching against TCRs of interest. These additions enhance the versatility of the VDJdb in the task of exploring T-cell antigen speciﬁcities. The database is available at https://vdjdb.cdr3.net.",
     "accessed": {
      "date-parts": [
       [
        2022,
        9,
        13
       ]
      ]
     },
     "author": [
      {
       "family": "Bagaev",
       "given": "Dmitry V"
      },
      {
       "family": "Vroomans",
       "given": "Renske M A"
      },
      {
       "family": "Samir",
       "given": "Jerome"
      },
      {
       "family": "Stervbo",
       "given": "Ulrik"
      },
      {
       "family": "Rius",
       "given": "Cristina"
      },
      {
       "family": "Dolton",
       "given": "Garry"
      },
      {
       "family": "Greenshields-Watson",
       "given": "Alexander"
      },
      {
       "family": "Attaf",
       "given": "Meriem"
      },
      {
       "family": "Egorov",
       "given": "Evgeny S"
      },
      {
       "family": "Zvyagin",
       "given": "Ivan V"
      },
      {
       "family": "Babel",
       "given": "Nina"
      },
      {
       "family": "Cole",
       "given": "David K"
      },
      {
       "family": "Godkin",
       "given": "Andrew J"
      },
      {
       "family": "Sewell",
       "given": "Andrew K"
      },
      {
       "family": "Kesmir",
       "given": "Can"
      },
      {
       "family": "Chudakov",
       "given": "Dmitriy M"
      },
      {
       "family": "Luciani",
       "given": "Fabio"
      },
      {
       "family": "Shugay",
       "given": "Mikhail"
      }
     ],
     "container-title": "Nucleic Acids Research",
     "issue": "D1",
     "issued": {
      "date-parts": [
       [
        2020,
        1,
        8
       ]
      ]
     },
     "language": "en",
     "page": "D1057-D1062",
     "shortTitle": "VDJdb in 2019",
     "title": "VDJdb in 2019: database extension, new analysis infrastructure and a T-cell receptor motif compendium",
     "type": "article-journal",
     "volume": "48"
    }
   }
  },
  "kernelspec": {
   "display_name": "Python 3 (ipykernel)",
   "language": "python",
   "name": "python3"
  },
  "language_info": {
   "codemirror_mode": {
    "name": "ipython",
    "version": 3
   },
   "file_extension": ".py",
   "mimetype": "text/x-python",
   "name": "python",
   "nbconvert_exporter": "python",
   "pygments_lexer": "ipython3",
   "version": "3.9.12"
  },
  "latex_envs": {
   "LaTeX_envs_menu_present": true,
   "autoclose": false,
   "autocomplete": true,
   "bibliofile": "biblio.bib",
   "cite_by": "apalike",
   "current_citInitial": 1,
   "eqLabelWithNumbers": true,
   "eqNumInitial": 1,
   "hotkeys": {
    "equation": "Ctrl-E",
    "itemize": "Ctrl-I"
   },
   "labels_anchors": false,
   "latex_user_defs": false,
   "report_style_numbering": false,
   "user_envs_cfg": false
  },
  "toc": {
   "base_numbering": 1,
   "nav_menu": {
    "height": "189px",
    "width": "504px"
   },
   "number_sections": true,
   "sideBar": true,
   "skip_h1_title": false,
   "title_cell": "Table of Contents",
   "title_sidebar": "Contents",
   "toc_cell": false,
   "toc_position": {},
   "toc_section_display": true,
   "toc_window_display": true
  }
 },
 "nbformat": 4,
 "nbformat_minor": 4
}
