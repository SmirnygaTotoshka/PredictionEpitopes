{
 "cells": [
  {
   "cell_type": "code",
   "execution_count": 11,
   "metadata": {
    "collapsed": true
   },
   "outputs": [],
   "source": [
    "import requests\n",
    "import json\n",
    "from datetime import datetime\n",
    "import re\n",
    "import urllib.request as req"
   ]
  },
  {
   "cell_type": "code",
   "execution_count": 13,
   "outputs": [],
   "source": [
    "link = \"https://rest.uniprot.org/uniprotkb/stream?format=fasta&query=%28%28reviewed%3Atrue%29%20AND%20%28organism_id%3A9606%29%20AND%20%28gene%3ABCL2L1%29%29\""
   ],
   "metadata": {
    "collapsed": false,
    "pycharm": {
     "name": "#%%\n"
    }
   }
  },
  {
   "cell_type": "code",
   "execution_count": 14,
   "outputs": [],
   "source": [
    "all_fastas = requests.get(link).text"
   ],
   "metadata": {
    "collapsed": false,
    "pycharm": {
     "name": "#%%\n"
    }
   }
  },
  {
   "cell_type": "code",
   "execution_count": 15,
   "outputs": [
    {
     "data": {
      "text/plain": "'>sp|Q07817|B2CL1_HUMAN Bcl-2-like protein 1 OS=Homo sapiens OX=9606 GN=BCL2L1 PE=1 SV=1\\nMSQSNRELVVDFLSYKLSQKGYSWSQFSDVEENRTEAPEGTESEMETPSAINGNPSWHLA\\nDSPAVNGATGHSSSLDAREVIPMAAVKQALREAGDEFELRYRRAFSDLTSQLHITPGTAY\\nQSFEQVVNELFRDGVNWGRIVAFFSFGGALCVESVDKEMQVLVSRIAAWMATYLNDHLEP\\nWIQENGGWDTFVELYGNNAAAESRKGQERFNRWFLTGMTVAGVVLLGSLFSRK\\n'"
     },
     "execution_count": 15,
     "metadata": {},
     "output_type": "execute_result"
    }
   ],
   "source": [
    "all_fastas"
   ],
   "metadata": {
    "collapsed": false,
    "pycharm": {
     "name": "#%%\n"
    }
   }
  },
  {
   "cell_type": "code",
   "execution_count": 22,
   "outputs": [],
   "source": [
    "from Bio import Entrez"
   ],
   "metadata": {
    "collapsed": false,
    "pycharm": {
     "name": "#%%\n"
    }
   }
  },
  {
   "cell_type": "code",
   "execution_count": 23,
   "outputs": [],
   "source": [
    "Entrez.email = \"anton.smirnov.9910@gmail.com\""
   ],
   "metadata": {
    "collapsed": false,
    "pycharm": {
     "name": "#%%\n"
    }
   }
  },
  {
   "cell_type": "code",
   "execution_count": 27,
   "outputs": [
    {
     "name": "stdout",
     "output_type": "stream",
     "text": [
      ">AAB39951.1 lanosterol 14-demethylase cytochrome P450 [Homo sapiens]\n",
      "MAAAAGMLLLGLLQAGGSVLGQAMEKVTGGNLLSMLLIACAFTLSLVYLIRLAAGHLVQLPAGVKSPPYI\n",
      "FSPIPFLGHAIAFGKSPIEFLENAYEKYGPVFSFTMVGKTFTYLLGSDAAALLFNSKNEDLNAEDVYSRL\n",
      "TTPVFGKGVAYDVPNPVFLEQKKMLKSGLNIAHFKQHVSIIEKETKEYFESWGESGEKNVFEALSELIIL\n",
      "TASHCLHGKEIRSQLNEKVAQLYADLDGGFSHAAWLLPGWLPLPSFRRRDRAHREIKDIFYKAIQKRRQS\n",
      "QEKIDDILQTLLDATYKDGRPLTDDEVAGMLIGLLLAGQHTSSTTSAWMGFFLARDKTLQKKCYLEQKTV\n",
      "CGENLPPLTYDQLKDLNLLDRCIKETLRLRPPIMIMMRMARTPQTVAGYTIPPGHQVCVSPTVNQRLKDS\n",
      "WVERLDFNPDRYLQDNPASGEKFAYVPFGAGRHRCIGENFAYVQIKTIWSTMLRLYEFDLIDGYFPTVNY\n",
      "TTMIHTPENPVIRYKRRSK\n",
      "\n",
      "\n"
     ]
    }
   ],
   "source": [
    "species = \"Influenza A\"\n",
    "species = species.replace(\" \", \"+\").strip()\n",
    "\n",
    "ids = \"AAB39951.1,NP_00096i0.1\"\n",
    "handle = Entrez.efetch(id = ids, db = \"protein\", rettype=\"fasta\", retmode=\"text\")\n",
    "record = handle.read()\n",
    "print(record)\n"
   ],
   "metadata": {
    "collapsed": false,
    "pycharm": {
     "name": "#%%\n"
    }
   }
  },
  {
   "cell_type": "code",
   "execution_count": 28,
   "outputs": [
    {
     "data": {
      "text/plain": "'>sp|P03496|NS1_I34A1 Non-structural protein 1 OS=Influenza A virus (strain A/Puerto Rico/8/1934 H1N1) OX=211044 GN=NS PE=1 SV=1\\nMDPNTVSSFQVDCFLWHVRKRVADQELGDAPFLDRLRRDQKSLRGRGSTLGLDIETATRA\\nGKQIVERILKEESDEALKMTMASVPASRYLTDMTLEEMSRDWSMLIPKQKVAGPLCIRMD\\nQAIMDKNIILKANFSVIFDRLETLILLRAFTEEGAIVGEISPLPSLPGHTAEDVKNAVGV\\nLIGGLEWNDNTVRVSETLQRFAWRSSNENGRPPLTPKQKREMAGTIRSEV\\n'"
     },
     "execution_count": 28,
     "metadata": {},
     "output_type": "execute_result"
    }
   ],
   "source": [
    "file = \"fasta\"\n",
    "query = \"P03496\"\n",
    "link = f\"https://rest.uniprot.org/uniprotkb/stream?format={file}&query={query}&includeIsoform=false\"\n",
    "requests.get(link).text"
   ],
   "metadata": {
    "collapsed": false,
    "pycharm": {
     "name": "#%%\n"
    }
   }
  },
  {
   "cell_type": "code",
   "execution_count": 29,
   "outputs": [
    {
     "data": {
      "text/plain": "'>sp|P03496|NS1_I34A1 Non-structural protein 1 OS=Influenza A virus (strain A/Puerto Rico/8/1934 H1N1) OX=211044 GN=NS PE=1 SV=1\\nMDPNTVSSFQVDCFLWHVRKRVADQELGDAPFLDRLRRDQKSLRGRGSTLGLDIETATRA\\nGKQIVERILKEESDEALKMTMASVPASRYLTDMTLEEMSRDWSMLIPKQKVAGPLCIRMD\\nQAIMDKNIILKANFSVIFDRLETLILLRAFTEEGAIVGEISPLPSLPGHTAEDVKNAVGV\\nLIGGLEWNDNTVRVSETLQRFAWRSSNENGRPPLTPKQKREMAGTIRSEV\\n'"
     },
     "execution_count": 29,
     "metadata": {},
     "output_type": "execute_result"
    }
   ],
   "source": [
    "link =\"https://rest.uniprot.org/uniprotkb/P03496.fasta\"\n",
    "requests.get(link).text"
   ],
   "metadata": {
    "collapsed": false,
    "pycharm": {
     "name": "#%%\n"
    }
   }
  },
  {
   "cell_type": "code",
   "execution_count": 13,
   "outputs": [
    {
     "data": {
      "text/plain": "94"
     },
     "execution_count": 13,
     "metadata": {},
     "output_type": "execute_result"
    }
   ],
   "source": [
    "len(\"MKLLMVLMLAALSQHCYAGSGCPLLENVISKTINPQVSKTEYKELLQEFIDDNATTNAID\\nELKECFLNQTDETLSNVEVFMQLIYDSSLCDLF\")"
   ],
   "metadata": {
    "collapsed": false,
    "pycharm": {
     "name": "#%%\n"
    }
   }
  },
  {
   "cell_type": "code",
   "execution_count": 17,
   "outputs": [
    {
     "data": {
      "text/plain": "<re.Match object; span=(0, 6), match='Q13296'>"
     },
     "execution_count": 17,
     "metadata": {},
     "output_type": "execute_result"
    }
   ],
   "source": [
    "re.match(\"([OPQ][0-9][A-Z0-9]|[A-NR-Z][0-9][A-Z])[A-Z0-9][A-Z0-9][0-9]([A-Z][A-Z0-9][A-Z0-9][0-9])?\",\"Q13296.1\")"
   ],
   "metadata": {
    "collapsed": false,
    "pycharm": {
     "name": "#%%\n"
    }
   }
  },
  {
   "cell_type": "code",
   "execution_count": 20,
   "outputs": [
    {
     "name": "stdout",
     "output_type": "stream",
     "text": [
      "None\n"
     ]
    }
   ],
   "source": [
    "a = re.match(\"([OPQ][0-9][A-Z0-9]|[A-NR-Z][0-9][A-Z])[A-Z0-9][A-Z0-9][0-9]([A-Z][A-Z0-9][A-Z0-9][0-9])?\",\"NP_000960.2\")\n",
    "print(a)"
   ],
   "metadata": {
    "collapsed": false,
    "pycharm": {
     "name": "#%%\n"
    }
   }
  },
  {
   "cell_type": "code",
   "execution_count": 52,
   "outputs": [
    {
     "data": {
      "text/plain": "['Human Papilloma Virus',\n 'CMV',\n 'Human alphaherpesvirus 2',\n 'Homo sapiens',\n 'HCV',\n 'HIV-1',\n 'Influenza A virus',\n 'YFV',\n 'Saccharomyces cerevisiae',\n 'SARS-CoV-2',\n 'Streptomyces kanamyceticus',\n 'HTLV-1',\n 'Mycobacterium tuberculosis',\n 'Human gammaherpesvirus 4']"
     },
     "execution_count": 52,
     "metadata": {},
     "output_type": "execute_result"
    }
   ],
   "source": [
    "with open(\"../lists/vdjdb_gene_species_2022-11-14 00:25:45.json\",\"r\") as f:\n",
    "    species = json.load(f)\n",
    "species = list(set(species.values()))\n",
    "species"
   ],
   "metadata": {
    "collapsed": false,
    "pycharm": {
     "name": "#%%\n"
    }
   }
  },
  {
   "cell_type": "code",
   "execution_count": 53,
   "outputs": [],
   "source": [
    "def get_tax_id(species):\n",
    "    species = species.replace(\" \", \"+\").strip()\n",
    "    search = Entrez.esearch(term = species, db = \"taxonomy\", retmode = \"xml\")\n",
    "    record = Entrez.read(search)\n",
    "    if int(record[\"Count\"]) < 1:\n",
    "        return \"-1\"\n",
    "    else:\n",
    "        return record[\"IdList\"][0]"
   ],
   "metadata": {
    "collapsed": false,
    "pycharm": {
     "name": "#%%\n"
    }
   }
  },
  {
   "cell_type": "code",
   "execution_count": 54,
   "outputs": [
    {
     "data": {
      "text/plain": "{'Human Papilloma Virus': '10566',\n 'CMV': '12305',\n 'Human alphaherpesvirus 2': '10310',\n 'Homo sapiens': '9606',\n 'HCV': '11103',\n 'HIV-1': '11676',\n 'Influenza A virus': '11320',\n 'YFV': '11089',\n 'Saccharomyces cerevisiae': '4932',\n 'SARS-CoV-2': '2697049',\n 'Streptomyces kanamyceticus': '1967',\n 'HTLV-1': '11908',\n 'Mycobacterium tuberculosis': '1773',\n 'Human gammaherpesvirus 4': '10376'}"
     },
     "execution_count": 54,
     "metadata": {},
     "output_type": "execute_result"
    }
   ],
   "source": [
    "species_id = {}\n",
    "for s in species:\n",
    "    species_id[s] = get_tax_id(s)\n",
    "species_id"
   ],
   "metadata": {
    "collapsed": false,
    "pycharm": {
     "name": "#%%\n"
    }
   }
  },
  {
   "cell_type": "code",
   "execution_count": 58,
   "outputs": [],
   "source": [
    "with open(\"../lists/vdjdb_epitope_species_id_\" + datetime.today().strftime('%Y-%m-%d %H:%M:%S') + \".json\", 'w') as f:\n",
    "    json.dump(species_id, f, sort_keys=True, indent=4)"
   ],
   "metadata": {
    "collapsed": false,
    "pycharm": {
     "name": "#%%\n"
    }
   }
  },
  {
   "cell_type": "code",
   "execution_count": 10,
   "outputs": [],
   "source": [
    "with open(\"../lists/vdjdb_epitope_species_id_2022-11-14 01:41:16.json\",\"r\") as o:\n",
    "    species_id = json.load(o)"
   ],
   "metadata": {
    "collapsed": false,
    "pycharm": {
     "name": "#%%\n"
    }
   }
  },
  {
   "cell_type": "code",
   "execution_count": 15,
   "outputs": [],
   "source": [
    "with open(\"../lists/vdjdb_gene_species_2022-11-14 00:25:45.json\",\"r\") as o:\n",
    "    genes = json.load(o)"
   ],
   "metadata": {
    "collapsed": false,
    "pycharm": {
     "name": "#%%\n"
    }
   }
  },
  {
   "cell_type": "code",
   "execution_count": 59,
   "outputs": [],
   "source": [
    "link = \"https://rest.uniprot.org/uniprotkb/stream?format=fasta&query=%28%28reviewed%3Atrue%29%20AND%20%28organism_id%3A11320%29%20AND%20%28gene%3AM%29%29\""
   ],
   "metadata": {
    "collapsed": false,
    "pycharm": {
     "name": "#%%\n"
    }
   }
  },
  {
   "cell_type": "code",
   "execution_count": 60,
   "outputs": [],
   "source": [
    "all_fastas = requests.get(link).text"
   ],
   "metadata": {
    "collapsed": false,
    "pycharm": {
     "name": "#%%\n"
    }
   }
  },
  {
   "cell_type": "code",
   "execution_count": 61,
   "outputs": [
    {
     "data": {
      "text/plain": "''"
     },
     "execution_count": 61,
     "metadata": {},
     "output_type": "execute_result"
    }
   ],
   "source": [
    "all_fastas"
   ],
   "metadata": {
    "collapsed": false,
    "pycharm": {
     "name": "#%%\n"
    }
   }
  },
  {
   "cell_type": "code",
   "execution_count": 64,
   "outputs": [],
   "source": [
    "link = \"https://rest.uniprot.org/uniprotkb/stream?format=fasta&query=%28%28reviewed%3Atrue%29%20AND%20%28organism_id%3A9606%29%20AND%20%28gene%3NY%2DESO%29%29\""
   ],
   "metadata": {
    "collapsed": false,
    "pycharm": {
     "name": "#%%\n"
    }
   }
  },
  {
   "cell_type": "code",
   "execution_count": 65,
   "outputs": [
    {
     "data": {
      "text/plain": "''"
     },
     "execution_count": 65,
     "metadata": {},
     "output_type": "execute_result"
    }
   ],
   "source": [
    "requests.get(link).text"
   ],
   "metadata": {
    "collapsed": false,
    "pycharm": {
     "name": "#%%\n"
    }
   }
  },
  {
   "cell_type": "code",
   "execution_count": 3,
   "outputs": [
    {
     "data": {
      "text/plain": "'>sp|O75638|CTAG2_HUMAN Cancer/testis antigen 2 OS=Homo sapiens OX=9606 GN=CTAG2 PE=1 SV=3\\nMQAEGRGTGGSTGDADGPGGPGIPDGPGGNAGGPGEAGATGGRGPRGAGAARASGPRGGA\\nPRGPHGGAASAQDGRCPCGARRPDSRLLELHITMPFSSPMEAELVRRILSRDAAPLPRPG\\nAVLKDFTVSGNLLFMSVRDQDREGAGRMRVVGWGLGSASPEGQKARDLRTPKHKVSEQRP\\nGTPGPPPPEGAQGDGCRGVAFNVMFSAPHI\\n>sp|P01889|HLAB_HUMAN HLA class I histocompatibility antigen, B alpha chain OS=Homo sapiens OX=9606 GN=HLA-B PE=1 SV=3\\nMLVMAPRTVLLLLSAALALTETWAGSHSMRYFYTSVSRPGRGEPRFISVGYVDDTQFVRF\\nDSDAASPREEPRAPWIEQEGPEYWDRNTQIYKAQAQTDRESLRNLRGYYNQSEAGSHTLQ\\nSMYGCDVGPDGRLLRGHDQYAYDGKDYIALNEDLRSWTAADTAAQITQRKWEAAREAEQR\\nRAYLEGECVEWLRRYLENGKDKLERADPPKTHVTHHPISDHEATLRCWALGFYPAEITLT\\nWQRDGEDQTQDTELVETRPAGDRTFQKWAAVVVPSGEEQRYTCHVQHEGLPKPLTLRWEP\\nSSQSTVPIVGIVAGLAVLAVVVIGAVVAAVMCRRKSSGGKGGSYSQAACSDSAQGSDVSL\\nTA\\n>sp|P04439|HLAA_HUMAN HLA class I histocompatibility antigen, A alpha chain OS=Homo sapiens OX=9606 GN=HLA-A PE=1 SV=2\\nMAVMAPRTLLLLLSGALALTQTWAGSHSMRYFFTSVSRPGRGEPRFIAVGYVDDTQFVRF\\nDSDAASQRMEPRAPWIEQEGPEYWDQETRNVKAQSQTDRVDLGTLRGYYNQSEAGSHTIQ\\nIMYGCDVGSDGRFLRGYRQDAYDGKDYIALNEDLRSWTAADMAAQITKRKWEAAHEAEQL\\nRAYLDGTCVEWLRRYLENGKETLQRTDPPKTHMTHHPISDHEATLRCWALGFYPAEITLT\\nWQRDGEDQTQDTELVETRPAGDGTFQKWAAVVVPSGEEQRYTCHVQHEGLPKPLTLRWEL\\nSSQPTIPIVGIIAGLVLLGAVITGAVVAAVMWRRKSSDRKGGSYTQAASSDSAQGSDVSL\\nTACKV\\n>sp|P40126|TYRP2_HUMAN L-dopachrome tautomerase OS=Homo sapiens OX=9606 GN=DCT PE=1 SV=1\\nMSPLWWGFLLSCLGCKILPGAQGQFPRVCMTVDSLVNKECCPRLGAESANVCGSQQGRGQ\\nCTEVRADTRPWSGPYILRNQDDRELWPRKFFHRTCKCTGNFAGYNCGDCKFGWTGPNCER\\nKKPPVIRQNIHSLSPQEREQFLGALDLAKKRVHPDYVITTQHWLGLLGPNGTQPQFANCS\\nVYDFFVWLHYYSVRDTLLGPGRPYRAIDFSHQGPAFVTWHRYHLLCLERDLQRLIGNESF\\nALPYWNFATGRNECDVCTDQLFGAARPDDPTLISRNSRFSSWETVCDSLDDYNHLVTLCN\\nGTYEGLLRRNQMGRNSMKLPTLKDIRDCLSLQKFDNPPFFQNSTFSFRNALEGFDKADGT\\nLDSQVMSLHNLVHSFLNGTNALPHSAANDPIFVVLHSFTDAIFDEWMKRFNPPADAWPQE\\nLAPIGHNRMYNMVPFFPPVTNEELFLTSDQLGYSYAIDLPVSVEETPGWPTTLLVVMGTL\\nVALVGLFVLLAFLQYRRLRKGYTPLMETHLSSKRYTEEA\\n>sp|P78358|CTG1B_HUMAN Cancer/testis antigen 1 OS=Homo sapiens OX=9606 GN=CTAG1B PE=1 SV=1\\nMQAEGRGTGGSTGDADGPGGPGIPDGPGGNAGGPGEAGATGGRGPRGAGAARASGPGGGA\\nPRGPHGGAASGLNGCCRCGARGPESRLLEFYLAMPFATPMEAELARRSLAQDAPPLPVPG\\nVLLKEFTVSGNILTIRLTAADHRQLQLSISSCLQQLSLLMWITQCFLPVFLAQPPSGQRR\\n>sp|P79483|DRB3_HUMAN HLA class II histocompatibility antigen, DR beta 3 chain OS=Homo sapiens OX=9606 GN=HLA-DRB3 PE=1 SV=1\\nMVCLKLPGGSSLAALTVTLMVLSSRLAFAGDTRPRFLELRKSECHFFNGTERVRYLDRYF\\nHNQEEFLRFDSDVGEYRAVTELGRPVAESWNSQKDLLEQKRGRVDNYCRHNYGVGESFTV\\nQRRVHPQVTVYPAKTQPLQHHNLLVCSVSGFYPGSIEVRWFRNGQEEKAGVVSTGLIQNG\\nDWTFQTLVMLETVPRSGEVYTCQVEHPSVTSALTVEWRARSESAQSKMLSGVGGFVLGLL\\nFLGAGLFIYFRNQKGHSGLQPTGFLS\\n>sp|Q14657|LAGE3_HUMAN EKC/KEOPS complex subunit LAGE3 OS=Homo sapiens OX=9606 GN=LAGE3 PE=1 SV=2\\nMRDADADAGGGADGGDGRGGHSCRGGVDTAAAPAGGAPPAHAPGPGRDAASAARGSRMRP\\nHIFTLSVPFPTPLEAEIAHGSLAPDAEPHQRVVGKDLTVSGRILVVRWKAEDCRLLRISV\\nINFLDQLSLVVRTMQRFGPPVSR\\n'"
     },
     "execution_count": 3,
     "metadata": {},
     "output_type": "execute_result"
    }
   ],
   "source": [
    "file = \"fasta\"\n",
    "query = \"NY_ESO AND (organism_id:9606) AND (reviewed:true)\"\n",
    "link = f\"https://rest.uniprot.org/uniprotkb/stream?format={file}&query={query}\"\n",
    "requests.get(link).text"
   ],
   "metadata": {
    "collapsed": false,
    "pycharm": {
     "name": "#%%\n"
    }
   }
  },
  {
   "cell_type": "code",
   "execution_count": 18,
   "outputs": [
    {
     "ename": "FileNotFoundError",
     "evalue": "[Errno 2] No such file or directory: '../lists/fasta_vdjdb_proteins/UL29/28_CMV.fasta'",
     "output_type": "error",
     "traceback": [
      "\u001B[0;31m---------------------------------------------------------------------------\u001B[0m",
      "\u001B[0;31mFileNotFoundError\u001B[0m                         Traceback (most recent call last)",
      "Input \u001B[0;32mIn [18]\u001B[0m, in \u001B[0;36m<cell line: 2>\u001B[0;34m()\u001B[0m\n\u001B[1;32m      3\u001B[0m query \u001B[38;5;241m=\u001B[39m \u001B[38;5;124mf\u001B[39m\u001B[38;5;124m\"\u001B[39m\u001B[38;5;132;01m{\u001B[39;00mgene\u001B[38;5;132;01m}\u001B[39;00m\u001B[38;5;124m AND (organism_id:\u001B[39m\u001B[38;5;132;01m{\u001B[39;00mspecies_id[species]\u001B[38;5;132;01m}\u001B[39;00m\u001B[38;5;124m)\u001B[39m\u001B[38;5;124m\"\u001B[39m\n\u001B[1;32m      4\u001B[0m link \u001B[38;5;241m=\u001B[39m \u001B[38;5;124mf\u001B[39m\u001B[38;5;124m\"\u001B[39m\u001B[38;5;124mhttps://rest.uniprot.org/uniprotkb/stream?format=\u001B[39m\u001B[38;5;132;01m{\u001B[39;00mfile\u001B[38;5;132;01m}\u001B[39;00m\u001B[38;5;124m&query=\u001B[39m\u001B[38;5;132;01m{\u001B[39;00mquery\u001B[38;5;132;01m}\u001B[39;00m\u001B[38;5;124m\"\u001B[39m\n\u001B[0;32m----> 5\u001B[0m \u001B[38;5;28;01mwith\u001B[39;00m \u001B[38;5;28;43mopen\u001B[39;49m\u001B[43m(\u001B[49m\u001B[38;5;124;43m\"\u001B[39;49m\u001B[38;5;124;43m../lists/fasta_vdjdb_proteins/\u001B[39;49m\u001B[38;5;124;43m\"\u001B[39;49m\u001B[38;5;241;43m+\u001B[39;49m\u001B[43mgene\u001B[49m\u001B[43m \u001B[49m\u001B[38;5;241;43m+\u001B[39;49m\u001B[43m \u001B[49m\u001B[38;5;124;43m\"\u001B[39;49m\u001B[38;5;124;43m_\u001B[39;49m\u001B[38;5;124;43m\"\u001B[39;49m\u001B[43m \u001B[49m\u001B[38;5;241;43m+\u001B[39;49m\u001B[43m \u001B[49m\u001B[43mspecies\u001B[49m\u001B[43m \u001B[49m\u001B[38;5;241;43m+\u001B[39;49m\u001B[43m \u001B[49m\u001B[38;5;124;43m\"\u001B[39;49m\u001B[38;5;124;43m.fasta\u001B[39;49m\u001B[38;5;124;43m\"\u001B[39;49m\u001B[43m,\u001B[49m\u001B[43m \u001B[49m\u001B[38;5;124;43m\"\u001B[39;49m\u001B[38;5;124;43mw\u001B[39;49m\u001B[38;5;124;43m\"\u001B[39;49m\u001B[43m)\u001B[49m \u001B[38;5;28;01mas\u001B[39;00m o:\n\u001B[1;32m      6\u001B[0m     o\u001B[38;5;241m.\u001B[39mwrite(requests\u001B[38;5;241m.\u001B[39mget(link)\u001B[38;5;241m.\u001B[39mtext)\n",
      "\u001B[0;31mFileNotFoundError\u001B[0m: [Errno 2] No such file or directory: '../lists/fasta_vdjdb_proteins/UL29/28_CMV.fasta'"
     ]
    }
   ],
   "source": [
    "file = \"fasta\"\n",
    "for gene, species in genes.items():\n",
    "    query = f\"{gene} AND (organism_id:{species_id[species]})\"\n",
    "    link = f\"https://rest.uniprot.org/uniprotkb/stream?format={file}&query={query}\"\n",
    "    with open(\"../lists/fasta_vdjdb_proteins/\"+gene + \"_\" + species + \".fasta\", \"w\") as o:\n",
    "        o.write(requests.get(link).text)"
   ],
   "metadata": {
    "collapsed": false,
    "pycharm": {
     "name": "#%%\n"
    }
   }
  },
  {
   "cell_type": "code",
   "execution_count": null,
   "outputs": [],
   "source": [],
   "metadata": {
    "collapsed": false,
    "pycharm": {
     "name": "#%%\n"
    }
   }
  }
 ],
 "metadata": {
  "kernelspec": {
   "display_name": "Python 3",
   "language": "python",
   "name": "python3"
  },
  "language_info": {
   "codemirror_mode": {
    "name": "ipython",
    "version": 2
   },
   "file_extension": ".py",
   "mimetype": "text/x-python",
   "name": "python",
   "nbconvert_exporter": "python",
   "pygments_lexer": "ipython2",
   "version": "2.7.6"
  }
 },
 "nbformat": 4,
 "nbformat_minor": 0
}